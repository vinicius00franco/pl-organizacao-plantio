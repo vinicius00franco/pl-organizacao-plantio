{
 "cells": [
  {
   "cell_type": "markdown",
   "id": "06d50410",
   "metadata": {},
   "source": [
    "# Otimização do Mix de Culturas — Versão com Hydra e Dash\n",
    "Esta versão integra Hydra para gerenciamento de configurações YAML e Plotly/Dash para visualização interativa de cenários de otimização."
   ]
  },
  {
   "cell_type": "code",
   "execution_count": 1,
   "id": "2f81251f",
   "metadata": {},
   "outputs": [],
   "source": [
    "# 1. Install Required Libraries\n",
    "# !pip install hydra-core plotly dash pandas numpy pulp"
   ]
  },
  {
   "cell_type": "code",
   "execution_count": 2,
   "id": "4c3da0a3",
   "metadata": {},
   "outputs": [
    {
     "name": "stdout",
     "output_type": "stream",
     "text": [
      "[2025-10-16 15:42:43] Config files created.\n"
     ]
    }
   ],
   "source": [
    "# 2. Setup Hydra Configuration\n",
    "# Criar arquivos YAML manualmente ou via código\n",
    "import os\n",
    "from datetime import datetime\n",
    "os.makedirs('config/cenario', exist_ok=True)\n",
    "\n",
    "def print_and_log(message, logfile='outputs-otimizacao_mix_culturas_v3_gestao_risco.txt'):\n",
    "    \"\"\"Imprime no stdout e registra em um único arquivo de log (UTF-8).\n",
    "    Consolidado em `outputs-otimizacao_mix_culturas_v3_gestao_risco.txt` conforme solicitado.\n",
    "    \"\"\"\n",
    "    ts = datetime.now().isoformat(sep=' ', timespec='seconds')\n",
    "    line = f'[{ts}] {message}'\n",
    "    print(line)\n",
    "    # log principal único (UTF-8)\n",
    "    with open(logfile, 'a', encoding='utf-8') as f:\n",
    "        f.write(line + '\\n')\n",
    "\n",
    "# base.yaml\n",
    "base_config = \"\"\"\n",
    "resources:\n",
    "  AREA_TOTAL_DISPONIVEL_HA: 500\n",
    "  ORCAMENTO_TOTAL_DISPONIVEL: 1100000\n",
    "  AGUA_TOTAL_DISPONIVEL_M3: 250000\n",
    "  POTASSIO_DISPONIVEL_KG: 45000\n",
    "  FOSFORO_DISPONIVEL_KG: 42000\n",
    "  AREA_NAO_COMPACTADA_HA: 400\n",
    "  HORAS_MAQUINA_DISPONIVEIS: 6000\n",
    "  CAPACIDADE_SILO_TON: 2500\n",
    "\n",
    "params:\n",
    "  n_dados: 1500\n",
    "  seed: 42\n",
    "  preco_soja: 2200\n",
    "  preco_milho: 1300\n",
    "  percentual_minimo_por_cultura: 0.15\n",
    "  percentual_maximo_soja_produtiva: 0.60\n",
    "\"\"\"\n",
    "\n",
    "with open('config/cenario/base.yaml', 'w', encoding='utf-8') as f:\n",
    "    f.write(base_config)\n",
    "\n",
    "# seca.yaml\n",
    "seca_config = \"\"\"\n",
    "# @package _group_\n",
    "resources:\n",
    "  AGUA_TOTAL_DISPONIVEL_M3: 180000\n",
    "\"\"\"\n",
    "\n",
    "with open('config/cenario/seca.yaml', 'w', encoding='utf-8') as f:\n",
    "    f.write(seca_config)\n",
    "\n",
    "print_and_log('Config files created.')\n"
   ]
  },
  {
   "cell_type": "code",
   "execution_count": 3,
   "id": "9e8a7608",
   "metadata": {},
   "outputs": [],
   "source": [
    "# 3. Define Optimization Model with Hydra\n",
    "import pandas as pd\n",
    "import numpy as np\n",
    "import pulp\n",
    "from pulp import LpProblem, LpVariable, LpMaximize, lpSum, value, LpStatus\n",
    "from hydra import (\n",
    "    compose,\n",
    "    initialize,\n",
    ")  # fix: use initialize instead of initialize_config_store\n",
    "from omegaconf import DictConfig\n",
    "\n",
    "\n",
    "def generate_mock_data(n_dados=1500, seed=42):\n",
    "    # Mesmo código do original\n",
    "    np.random.seed(seed)\n",
    "    dados = {\n",
    "        \"id_talhao\": range(1, n_dados + 1),\n",
    "        \"cultura\": np.random.choice(\n",
    "            [\"Soja_Resistente\", \"Soja_Produtiva\", \"Milho_Safrinha\"], n_dados\n",
    "        ),\n",
    "    }\n",
    "    df = pd.DataFrame(dados)\n",
    "\n",
    "    culturas_params = {\n",
    "        \"Soja_Resistente\": {\n",
    "            \"prod\": (3.5, 0.5),\n",
    "            \"custo\": (1800, 150),\n",
    "            \"agua\": (450, 50),\n",
    "            \"k\": (80, 10),\n",
    "            \"p\": (70, 8),\n",
    "            \"horas\": (10, 1.5),\n",
    "        },\n",
    "        \"Soja_Produtiva\": {\n",
    "            \"prod\": (4.8, 0.6),\n",
    "            \"custo\": (2500, 200),\n",
    "            \"agua\": (600, 60),\n",
    "            \"k\": (100, 12),\n",
    "            \"p\": (90, 10),\n",
    "            \"horas\": (12, 1.8),\n",
    "        },\n",
    "        \"Milho_Safrinha\": {\n",
    "            \"prod\": (5.5, 0.7),\n",
    "            \"custo\": (2800, 250),\n",
    "            \"agua\": (700, 70),\n",
    "            \"k\": (120, 15),\n",
    "            \"p\": (100, 12),\n",
    "            \"horas\": (15, 2.0),\n",
    "        },\n",
    "    }\n",
    "\n",
    "    def generate_data(params, size):\n",
    "        return {\n",
    "            \"produtividade_ton_ha\": np.random.normal(\n",
    "                loc=params[\"prod\"][0], scale=params[\"prod\"][1], size=size\n",
    "            ),\n",
    "            \"custo_ha\": np.random.normal(\n",
    "                loc=params[\"custo\"][0], scale=params[\"custo\"][1], size=size\n",
    "            ),\n",
    "            \"uso_agua_m3_ha\": np.random.normal(\n",
    "                loc=params[\"agua\"][0], scale=params[\"agua\"][1], size=size\n",
    "            ),\n",
    "            \"demanda_k_kg_ha\": np.random.normal(\n",
    "                loc=params[\"k\"][0], scale=params[\"k\"][1], size=size\n",
    "            ),\n",
    "            \"demanda_p_kg_ha\": np.random.normal(\n",
    "                loc=params[\"p\"][0], scale=params[\"p\"][1], size=size\n",
    "            ),\n",
    "            \"horas_maquina_ha\": np.random.normal(\n",
    "                loc=params[\"horas\"][0], scale=params[\"horas\"][1], size=size\n",
    "            ),\n",
    "        }\n",
    "\n",
    "    for cultura, params in culturas_params.items():\n",
    "        mask = df[\"cultura\"] == cultura\n",
    "        for col, values in generate_data(params, df[mask].shape[0]).items():\n",
    "            df.loc[mask, col] = values\n",
    "\n",
    "    # Debug: mostrar amostra e estatísticas resumidas\n",
    "    print_and_log('Dados mock gerados com sucesso. Amostra das primeiras linhas:')\n",
    "    sample = df.head(5).to_json(orient='records', force_ascii=False)\n",
    "    print_and_log(sample)\n",
    "    stats = df.describe().to_json(force_ascii=False)\n",
    "    print_and_log('Estatísticas resumidas:')\n",
    "    print_and_log(stats)\n",
    "    return df\n",
    "\n",
    "\n",
    "def setup_model(params, resources):\n",
    "    # Forma mais robusta de extrair parâmetros, usando .loc para tudo\n",
    "    l_sr = params.loc[\"Soja_Resistente\", \"lucro_ha\"]\n",
    "    l_sp = params.loc[\"Soja_Produtiva\", \"lucro_ha\"]\n",
    "    l_ms = params.loc[\"Milho_Safrinha\", \"lucro_ha\"]\n",
    "\n",
    "    c_sr = params.loc[\"Soja_Resistente\", \"custo_ha\"]\n",
    "    c_sp = params.loc[\"Soja_Produtiva\", \"custo_ha\"]\n",
    "    c_ms = params.loc[\"Milho_Safrinha\", \"custo_ha\"]\n",
    "\n",
    "    a_sr = params.loc[\"Soja_Resistente\", \"uso_agua_m3_ha\"]\n",
    "    a_sp = params.loc[\"Soja_Produtiva\", \"uso_agua_m3_ha\"]\n",
    "    a_ms = params.loc[\"Milho_Safrinha\", \"uso_agua_m3_ha\"]\n",
    "\n",
    "    k_sr, p_sr = params.loc[\"Soja_Resistente\", [\"demanda_k_kg_ha\", \"demanda_p_kg_ha\"]]\n",
    "    k_sp, p_sp = params.loc[\"Soja_Produtiva\", [\"demanda_k_kg_ha\", \"demanda_p_kg_ha\"]]\n",
    "    k_ms, p_ms = params.loc[\"Milho_Safrinha\", [\"demanda_k_kg_ha\", \"demanda_p_kg_ha\"]]\n",
    "\n",
    "    h_sr = params.loc[\"Soja_Resistente\", \"horas_maquina_ha\"]\n",
    "    h_sp = params.loc[\"Soja_Produtiva\", \"horas_maquina_ha\"]\n",
    "    h_ms = params.loc[\"Milho_Safrinha\", \"horas_maquina_ha\"]\n",
    "\n",
    "    prod_sr = params.loc[\"Soja_Resistente\", \"produtividade_ton_ha\"]\n",
    "    prod_sp = params.loc[\"Soja_Produtiva\", \"produtividade_ton_ha\"]\n",
    "    prod_ms = params.loc[\"Milho_Safrinha\", \"produtividade_ton_ha\"]\n",
    "\n",
    "    # O resto da função continua igual...\n",
    "    modelo = LpProblem(name=\"Otimizacao_Mix_Culturas_Risco\", sense=LpMaximize)\n",
    "\n",
    "    x_sr = LpVariable(\"Hectares_Soja_Resistente\", lowBound=0, cat=\"Continuous\")\n",
    "    x_sp = LpVariable(\"Hectares_Soja_Produtiva\", lowBound=0, cat=\"Continuous\")\n",
    "    x_ms = LpVariable(\"Hectares_Milho_Safrinha\", lowBound=0, cat=\"Continuous\")\n",
    "\n",
    "    # Gestão de Risco\n",
    "    area_minima_ha = resources[\"AREA_NAO_COMPACTADA_HA\"] * 0.15  # Usar config\n",
    "    modelo += (x_sr >= area_minima_ha, \"Minimo_Soja_Resistente\")\n",
    "    modelo += (x_sp >= area_minima_ha, \"Minimo_Soja_Produtiva\")\n",
    "    modelo += (x_ms >= area_minima_ha, \"Minimo_Milho_Safrinha\")\n",
    "\n",
    "    area_maxima_sp = resources[\"AREA_NAO_COMPACTADA_HA\"] * 0.60\n",
    "    modelo += (x_sp <= area_maxima_sp, \"Risco_Maximo_Soja_Produtiva\")\n",
    "\n",
    "    # Função Objetivo\n",
    "    modelo += lpSum([l_sr * x_sr, l_sp * x_sp, l_ms * x_ms]), \"Lucro_Total\"\n",
    "\n",
    "    # Restrições\n",
    "    modelo += (\n",
    "        x_sr + x_sp + x_ms <= resources[\"AREA_TOTAL_DISPONIVEL_HA\"],\n",
    "        \"Restricao_Area_Total\",\n",
    "    )\n",
    "    modelo += (\n",
    "        x_sr + x_sp + x_ms <= resources[\"AREA_NAO_COMPACTADA_HA\"],\n",
    "        \"Restricao_Area_Nao_Compactada\",\n",
    "    )\n",
    "    modelo += (\n",
    "        c_sr * x_sr + c_sp * x_sp + c_ms * x_ms\n",
    "        <= resources[\"ORCAMENTO_TOTAL_DISPONIVEL\"],\n",
    "        \"Restricao_Orcamento\",\n",
    "    )\n",
    "    modelo += (\n",
    "        a_sr * x_sr + a_sp * x_sp + a_ms * x_ms\n",
    "        <= resources[\"AGUA_TOTAL_DISPONIVEL_M3\"],\n",
    "        \"Restricao_Agua\",\n",
    "    )\n",
    "    modelo += (\n",
    "        k_sr * x_sr + k_sp * x_sp + k_ms * x_ms <= resources[\"POTASSIO_DISPONIVEL_KG\"],\n",
    "        \"Restricao_Potassio\",\n",
    "    )\n",
    "    modelo += (\n",
    "        p_sr * x_sr + p_sp * x_sp + p_ms * x_ms <= resources[\"FOSFORO_DISPONIVEL_KG\"],\n",
    "        \"Restricao_Fosforo\",\n",
    "    )\n",
    "    modelo += (\n",
    "        h_sr * x_sr + h_sp * x_sp + h_ms * x_ms\n",
    "        <= resources[\"HORAS_MAQUINA_DISPONIVEIS\"],\n",
    "        \"Restricao_Horas_Maquina\",\n",
    "    )\n",
    "    modelo += (\n",
    "        prod_sr * x_sr + prod_sp * x_sp + prod_ms * x_ms\n",
    "        <= resources[\"CAPACIDADE_SILO_TON\"],\n",
    "        \"Restricao_Armazenagem\",\n",
    "    )\n",
    "\n",
    "    # Debug: imprimir parâmetros usados no modelo\n",
    "    print_and_log('Parâmetros do modelo (médias por cultura):')\n",
    "    try:\n",
    "        print_and_log(params.to_json(force_ascii=False))\n",
    "    except Exception:\n",
    "        print_and_log(str(params))\n",
    "    print_and_log(f'Recursos carregados: {resources}')\n",
    "    print_and_log(\"Modelo de otimização configurado.\")\n",
    "    return modelo, (x_sr, x_sp, x_ms)\n",
    "\n",
    "\n",
    "def run_optimization(cfg: DictConfig):\n",
    "    df = generate_mock_data(cfg.params.n_dados, cfg.params.seed)\n",
    "    params = df.groupby(\"cultura\").mean()\n",
    "    params[\"lucro_ha\"] = 0.0\n",
    "    params.loc[\"Soja_Resistente\", \"lucro_ha\"] = (\n",
    "        params.loc[\"Soja_Resistente\", \"produtividade_ton_ha\"] * cfg.params.preco_soja\n",
    "    ) - params.loc[\"Soja_Resistente\", \"custo_ha\"]\n",
    "    params.loc[\"Soja_Produtiva\", \"lucro_ha\"] = (\n",
    "        params.loc[\"Soja_Produtiva\", \"produtividade_ton_ha\"] * cfg.params.preco_soja\n",
    "    ) - params.loc[\"Soja_Produtiva\", \"custo_ha\"]\n",
    "    params.loc[\"Milho_Safrinha\", \"lucro_ha\"] = (\n",
    "        params.loc[\"Milho_Safrinha\", \"produtividade_ton_ha\"] * cfg.params.preco_milho\n",
    "    ) - params.loc[\"Milho_Safrinha\", \"custo_ha\"]\n",
    "\n",
    "    modelo, variables = setup_model(params, cfg.resources)\n",
    "    print_and_log('Iniciando solução do modelo...')\n",
    "    solve_status = modelo.solve()\n",
    "    status = LpStatus[modelo.status]\n",
    "    print_and_log(f\"Status do solver (raw): {solve_status}\")\n",
    "    print_and_log(f\"Status da otimização: {status}\")\n",
    "\n",
    "    # Debug: valores das variáveis de decisão e preços sombra\n",
    "    plantio = {v.name: v.varValue for v in variables} if status == \"Optimal\" else None\n",
    "    shadow = {name: getattr(con, 'pi', None) for name, con in modelo.constraints.items()}\n",
    "    print_and_log('Plantio (resultado):')\n",
    "    print_and_log(str(plantio))\n",
    "    print_and_log('Preços sombra:')\n",
    "    print_and_log(str(shadow))\n",
    "\n",
    "    results = {\n",
    "        \"status\": status,\n",
    "        \"lucro\": value(modelo.objective) if status == \"Optimal\" else None,\n",
    "        \"plantio\": plantio,\n",
    "        \"shadow_prices\": shadow,\n",
    "    }\n",
    "    return results\n"
   ]
  },
  {
   "cell_type": "code",
   "execution_count": 4,
   "id": "bd90a517",
   "metadata": {},
   "outputs": [
    {
     "name": "stdout",
     "output_type": "stream",
     "text": [
      "[2025-10-16 15:42:43] \n",
      "==================== EXECUTANDO CENÁRIO: BASE ====================\n",
      "[2025-10-16 15:42:43] Dados mock gerados com sucesso. Amostra das primeiras linhas:\n",
      "[2025-10-16 15:42:43] [{\"id_talhao\":1,\"cultura\":\"Milho_Safrinha\",\"produtividade_ton_ha\":5.2898146975,\"custo_ha\":3166.429310426,\"uso_agua_m3_ha\":757.3338456894,\"demanda_k_kg_ha\":128.2676505354,\"demanda_p_kg_ha\":102.3053712049,\"horas_maquina_ha\":14.3371977926},{\"id_talhao\":2,\"cultura\":\"Soja_Resistente\",\"produtividade_ton_ha\":2.8403260554,\"custo_ha\":1734.2119190614,\"uso_agua_m3_ha\":430.0444073899,\"demanda_k_kg_ha\":70.0360831083,\"demanda_p_kg_ha\":64.7504323609,\"horas_maquina_ha\":9.693557},{\"id_talhao\":3,\"cultura\":\"Milho_Safrinha\",\"produtividade_ton_ha\":4.5891231629,\"custo_ha\":2601.484435741,\"uso_agua_m3_ha\":708.0206431971,\"demanda_k_kg_ha\":118.3480263633,\"demanda_p_kg_ha\":101.1328834408,\"horas_maquina_ha\":15.8967940331},{\"id_talhao\":4,\"cultura\":\"Milho_Safrinha\",\"produtividade_ton_ha\":4.6262106431,\"custo_ha\":2487.0991018838,\"uso_agua_m3_ha\":776.0188026112,\"demanda_k_kg_ha\":113.8337757348,\"demanda_p_kg_ha\":104.3222953372,\"horas_maquina_ha\":12.7912832419},{\"id_talhao\":5,\"cultura\":\"Soja_Resistente\",\"produtividade_ton_ha\":3.3868773905,\"custo_ha\":1974.9454120855,\"uso_agua_m3_ha\":417.3551613794,\"demanda_k_kg_ha\":77.2012691383,\"demanda_p_kg_ha\":64.1368569142,\"horas_maquina_ha\":11.2058789963}]\n",
      "[2025-10-16 15:42:43] Estatísticas resumidas:\n",
      "[2025-10-16 15:42:43] {\"id_talhao\":{\"count\":1500.0,\"mean\":750.5,\"std\":433.1570154113,\"min\":1.0,\"25%\":375.75,\"50%\":750.5,\"75%\":1125.25,\"max\":1500.0},\"produtividade_ton_ha\":{\"count\":1500.0,\"mean\":4.5853537013,\"std\":1.0406733203,\"min\":1.7595955856,\"25%\":3.7385722281,\"50%\":4.6130691172,\"75%\":5.3607676667,\"max\":7.4060640814},\"custo_ha\":{\"count\":1500.0,\"mean\":2351.4644276972,\"std\":465.4353846201,\"min\":1366.7593192211,\"25%\":1880.8905659273,\"50%\":2436.7548885404,\"75%\":2709.3148137166,\"max\":3619.0998362783},\"uso_agua_m3_ha\":{\"count\":1500.0,\"mean\":578.0000463065,\"std\":120.2683616253,\"min\":276.4285054031,\"25%\":475.7297099553,\"50%\":582.2569558677,\"75%\":666.3207263756,\"max\":937.8689122364},\"demanda_k_kg_ha\":{\"count\":1500.0,\"mean\":99.5619699325,\"std\":21.1116524273,\"min\":46.7524428009,\"25%\":83.3234960852,\"50%\":96.9238593126,\"75%\":114.9629599872,\"max\":163.3748803961},\"demanda_p_kg_ha\":{\"count\":1500.0,\"mean\":86.2645179664,\"std\":16.2456499817,\"min\":48.6853414314,\"25%\":73.4123875867,\"50%\":85.9976105503,\"75%\":98.2608900162,\"max\":142.5287801315},\"horas_maquina_ha\":{\"count\":1500.0,\"mean\":12.2118627786,\"std\":2.6835103563,\"min\":5.6501593296,\"25%\":10.1275294371,\"50%\":11.9104242286,\"75%\":14.1756398882,\"max\":20.5253690655}}\n",
      "[2025-10-16 15:42:43] Parâmetros do modelo (médias por cultura):\n",
      "[2025-10-16 15:42:43] {\"id_talhao\":{\"Milho_Safrinha\":748.4241803279,\"Soja_Produtiva\":759.4573170732,\"Soja_Resistente\":743.9730769231},\"produtividade_ton_ha\":{\"Milho_Safrinha\":5.533157211,\"Soja_Produtiva\":4.786231101,\"Soja_Resistente\":3.5058156371},\"custo_ha\":{\"Milho_Safrinha\":2789.0142778524,\"Soja_Produtiva\":2502.2177193732,\"Soja_Resistente\":1798.2049154274},\"uso_agua_m3_ha\":{\"Milho_Safrinha\":698.1021628641,\"Soja_Produtiva\":596.5656765211,\"Soja_Resistente\":447.7228867956},\"demanda_k_kg_ha\":{\"Milho_Safrinha\":121.0005674148,\"Soja_Produtiva\":98.9215618278,\"Soja_Resistente\":80.0485953483},\"demanda_p_kg_ha\":{\"Milho_Safrinha\":99.9392660123,\"Soja_Produtiva\":90.0146471493,\"Soja_Resistente\":69.8830937271},\"horas_maquina_ha\":{\"Milho_Safrinha\":14.9393585248,\"Soja_Produtiva\":11.8533116271,\"Soja_Resistente\":9.9914574755},\"lucro_ha\":{\"Milho_Safrinha\":4404.0900964721,\"Soja_Produtiva\":8027.4907027878,\"Soja_Resistente\":5914.5894862735}}\n",
      "[2025-10-16 15:42:43] Recursos carregados: {'AREA_TOTAL_DISPONIVEL_HA': 500, 'ORCAMENTO_TOTAL_DISPONIVEL': 1100000, 'AGUA_TOTAL_DISPONIVEL_M3': 250000, 'POTASSIO_DISPONIVEL_KG': 45000, 'FOSFORO_DISPONIVEL_KG': 42000, 'AREA_NAO_COMPACTADA_HA': 400, 'HORAS_MAQUINA_DISPONIVEIS': 6000, 'CAPACIDADE_SILO_TON': 2500}\n",
      "[2025-10-16 15:42:43] Modelo de otimização configurado.\n",
      "[2025-10-16 15:42:43] Iniciando solução do modelo...\n",
      "Welcome to the CBC MILP Solver \n",
      "Version: 2.10.3 \n",
      "Build Date: Dec 15 2019 \n",
      "\n",
      "command line - /home/vinicius/Downloads/estudo/po/PL/PL/venv/lib/python3.12/site-packages/pulp/apis/../solverdir/cbc/linux/i64/cbc /tmp/d786a8de72d548ce9bf29a84efc589f5-pulp.mps -max -timeMode elapsed -branch -printingOptions all -solution /tmp/d786a8de72d548ce9bf29a84efc589f5-pulp.sol (default strategy 1)\n",
      "At line 2 NAME          MODEL\n",
      "At line 3 ROWS\n",
      "At line 17 COLUMNS\n",
      "At line 49 RHS\n",
      "At line 62 BOUNDS\n",
      "At line 63 ENDATA\n",
      "Problem MODEL has 12 rows, 3 columns and 28 elements\n",
      "Coin0008I MODEL read with 0 errors\n",
      "Option for timeMode changed from cpu to elapsed\n",
      "Presolve 7 (-5) rows, 3 (0) columns and 21 (-7) elements\n",
      "0  Obj 1100770.2 Dual inf 18346.17 (3)\n",
      "1  Obj 2782302.1\n",
      "Optimal - objective value 2782302.1\n",
      "After Postsolve, objective 2782302.1, infeasibilities - dual 0 (0), primal 0 (0)\n",
      "Optimal objective 2782302.123 - 1 iterations time 0.002, Presolve 0.00\n",
      "Option for printingOptions changed from normal to all\n",
      "Total time (CPU seconds):       0.00   (Wallclock seconds):       0.00\n",
      "\n",
      "[2025-10-16 15:42:43] Status do solver (raw): 1\n",
      "[2025-10-16 15:42:43] Status da otimização: Optimal\n",
      "[2025-10-16 15:42:43] Plantio (resultado):\n",
      "[2025-10-16 15:42:43] {'Hectares_Soja_Resistente': 100.0, 'Hectares_Soja_Produtiva': 240.0, 'Hectares_Milho_Safrinha': 60.0}\n",
      "[2025-10-16 15:42:43] Preços sombra:\n",
      "[2025-10-16 15:42:43] {'Minimo_Soja_Resistente': -0.0, 'Minimo_Soja_Produtiva': -0.0, 'Minimo_Milho_Safrinha': -1510.4994, 'Risco_Maximo_Soja_Produtiva': 2112.9012, 'Restricao_Area_Total': -0.0, 'Restricao_Area_Nao_Compactada': 5914.5895, 'Restricao_Orcamento': -0.0, 'Restricao_Agua': -0.0, 'Restricao_Potassio': -0.0, 'Restricao_Fosforo': -0.0, 'Restricao_Horas_Maquina': -0.0, 'Restricao_Armazenagem': -0.0}\n",
      "[2025-10-16 15:42:43] \n",
      "==================== EXECUTANDO CENÁRIO: SECA ====================\n",
      "[2025-10-16 15:42:43] Config 'seca' carregada e mesclada com sucesso: {'resources': {'AREA_TOTAL_DISPONIVEL_HA': 500, 'ORCAMENTO_TOTAL_DISPONIVEL': 1100000, 'AGUA_TOTAL_DISPONIVEL_M3': 180000, 'POTASSIO_DISPONIVEL_KG': 45000, 'FOSFORO_DISPONIVEL_KG': 42000, 'AREA_NAO_COMPACTADA_HA': 400, 'HORAS_MAQUINA_DISPONIVEIS': 6000, 'CAPACIDADE_SILO_TON': 2500}, 'params': {'n_dados': 1500, 'seed': 42, 'preco_soja': 2200, 'preco_milho': 1300, 'percentual_minimo_por_cultura': 0.15, 'percentual_maximo_soja_produtiva': 0.6}}\n",
      "[2025-10-16 15:42:43] Dados mock gerados com sucesso. Amostra das primeiras linhas:\n",
      "[2025-10-16 15:42:43] [{\"id_talhao\":1,\"cultura\":\"Milho_Safrinha\",\"produtividade_ton_ha\":5.2898146975,\"custo_ha\":3166.429310426,\"uso_agua_m3_ha\":757.3338456894,\"demanda_k_kg_ha\":128.2676505354,\"demanda_p_kg_ha\":102.3053712049,\"horas_maquina_ha\":14.3371977926},{\"id_talhao\":2,\"cultura\":\"Soja_Resistente\",\"produtividade_ton_ha\":2.8403260554,\"custo_ha\":1734.2119190614,\"uso_agua_m3_ha\":430.0444073899,\"demanda_k_kg_ha\":70.0360831083,\"demanda_p_kg_ha\":64.7504323609,\"horas_maquina_ha\":9.693557},{\"id_talhao\":3,\"cultura\":\"Milho_Safrinha\",\"produtividade_ton_ha\":4.5891231629,\"custo_ha\":2601.484435741,\"uso_agua_m3_ha\":708.0206431971,\"demanda_k_kg_ha\":118.3480263633,\"demanda_p_kg_ha\":101.1328834408,\"horas_maquina_ha\":15.8967940331},{\"id_talhao\":4,\"cultura\":\"Milho_Safrinha\",\"produtividade_ton_ha\":4.6262106431,\"custo_ha\":2487.0991018838,\"uso_agua_m3_ha\":776.0188026112,\"demanda_k_kg_ha\":113.8337757348,\"demanda_p_kg_ha\":104.3222953372,\"horas_maquina_ha\":12.7912832419},{\"id_talhao\":5,\"cultura\":\"Soja_Resistente\",\"produtividade_ton_ha\":3.3868773905,\"custo_ha\":1974.9454120855,\"uso_agua_m3_ha\":417.3551613794,\"demanda_k_kg_ha\":77.2012691383,\"demanda_p_kg_ha\":64.1368569142,\"horas_maquina_ha\":11.2058789963}]\n",
      "[2025-10-16 15:42:43] Estatísticas resumidas:\n",
      "[2025-10-16 15:42:43] {\"id_talhao\":{\"count\":1500.0,\"mean\":750.5,\"std\":433.1570154113,\"min\":1.0,\"25%\":375.75,\"50%\":750.5,\"75%\":1125.25,\"max\":1500.0},\"produtividade_ton_ha\":{\"count\":1500.0,\"mean\":4.5853537013,\"std\":1.0406733203,\"min\":1.7595955856,\"25%\":3.7385722281,\"50%\":4.6130691172,\"75%\":5.3607676667,\"max\":7.4060640814},\"custo_ha\":{\"count\":1500.0,\"mean\":2351.4644276972,\"std\":465.4353846201,\"min\":1366.7593192211,\"25%\":1880.8905659273,\"50%\":2436.7548885404,\"75%\":2709.3148137166,\"max\":3619.0998362783},\"uso_agua_m3_ha\":{\"count\":1500.0,\"mean\":578.0000463065,\"std\":120.2683616253,\"min\":276.4285054031,\"25%\":475.7297099553,\"50%\":582.2569558677,\"75%\":666.3207263756,\"max\":937.8689122364},\"demanda_k_kg_ha\":{\"count\":1500.0,\"mean\":99.5619699325,\"std\":21.1116524273,\"min\":46.7524428009,\"25%\":83.3234960852,\"50%\":96.9238593126,\"75%\":114.9629599872,\"max\":163.3748803961},\"demanda_p_kg_ha\":{\"count\":1500.0,\"mean\":86.2645179664,\"std\":16.2456499817,\"min\":48.6853414314,\"25%\":73.4123875867,\"50%\":85.9976105503,\"75%\":98.2608900162,\"max\":142.5287801315},\"horas_maquina_ha\":{\"count\":1500.0,\"mean\":12.2118627786,\"std\":2.6835103563,\"min\":5.6501593296,\"25%\":10.1275294371,\"50%\":11.9104242286,\"75%\":14.1756398882,\"max\":20.5253690655}}\n",
      "[2025-10-16 15:42:43] Parâmetros do modelo (médias por cultura):\n",
      "[2025-10-16 15:42:43] {\"id_talhao\":{\"Milho_Safrinha\":748.4241803279,\"Soja_Produtiva\":759.4573170732,\"Soja_Resistente\":743.9730769231},\"produtividade_ton_ha\":{\"Milho_Safrinha\":5.533157211,\"Soja_Produtiva\":4.786231101,\"Soja_Resistente\":3.5058156371},\"custo_ha\":{\"Milho_Safrinha\":2789.0142778524,\"Soja_Produtiva\":2502.2177193732,\"Soja_Resistente\":1798.2049154274},\"uso_agua_m3_ha\":{\"Milho_Safrinha\":698.1021628641,\"Soja_Produtiva\":596.5656765211,\"Soja_Resistente\":447.7228867956},\"demanda_k_kg_ha\":{\"Milho_Safrinha\":121.0005674148,\"Soja_Produtiva\":98.9215618278,\"Soja_Resistente\":80.0485953483},\"demanda_p_kg_ha\":{\"Milho_Safrinha\":99.9392660123,\"Soja_Produtiva\":90.0146471493,\"Soja_Resistente\":69.8830937271},\"horas_maquina_ha\":{\"Milho_Safrinha\":14.9393585248,\"Soja_Produtiva\":11.8533116271,\"Soja_Resistente\":9.9914574755},\"lucro_ha\":{\"Milho_Safrinha\":4404.0900964721,\"Soja_Produtiva\":8027.4907027878,\"Soja_Resistente\":5914.5894862735}}\n",
      "[2025-10-16 15:42:43] Recursos carregados: {'AREA_TOTAL_DISPONIVEL_HA': 500, 'ORCAMENTO_TOTAL_DISPONIVEL': 1100000, 'AGUA_TOTAL_DISPONIVEL_M3': 180000, 'POTASSIO_DISPONIVEL_KG': 45000, 'FOSFORO_DISPONIVEL_KG': 42000, 'AREA_NAO_COMPACTADA_HA': 400, 'HORAS_MAQUINA_DISPONIVEIS': 6000, 'CAPACIDADE_SILO_TON': 2500}\n",
      "[2025-10-16 15:42:43] Modelo de otimização configurado.\n",
      "[2025-10-16 15:42:43] Iniciando solução do modelo...\n",
      "Welcome to the CBC MILP Solver \n",
      "Version: 2.10.3 \n",
      "Build Date: Dec 15 2019 \n",
      "\n",
      "command line - /home/vinicius/Downloads/estudo/po/PL/PL/venv/lib/python3.12/site-packages/pulp/apis/../solverdir/cbc/linux/i64/cbc /tmp/0a7b2dc76d204e00b1b42e6c2cff1444-pulp.mps -max -timeMode elapsed -branch -printingOptions all -solution /tmp/0a7b2dc76d204e00b1b42e6c2cff1444-pulp.sol (default strategy 1)\n",
      "At line 2 NAME          MODEL\n",
      "At line 3 ROWS\n",
      "At line 17 COLUMNS\n",
      "At line 49 RHS\n",
      "At line 62 BOUNDS\n",
      "At line 63 ENDATA\n",
      "Problem MODEL has 12 rows, 3 columns and 28 elements\n",
      "Coin0008I MODEL read with 0 errors\n",
      "Option for timeMode changed from cpu to elapsed\n",
      "Presolve 7 (-5) rows, 3 (0) columns and 21 (-7) elements\n",
      "0  Obj 1100770.2 Dual inf 18346.17 (3)\n",
      "1  Obj 2116126.7\n",
      "Optimal - objective value 2116126.7\n",
      "After Postsolve, objective 2116126.7, infeasibilities - dual 0 (0), primal 0 (0)\n",
      "Optimal objective 2116126.663 - 1 iterations time 0.002, Presolve 0.00\n",
      "Option for printingOptions changed from normal to all\n",
      "Total time (CPU seconds):       0.00   (Wallclock seconds):       0.00\n",
      "\n",
      "[2025-10-16 15:42:43] Status do solver (raw): 1\n",
      "[2025-10-16 15:42:43] Status da otimização: Optimal\n",
      "[2025-10-16 15:42:43] Plantio (resultado):\n",
      "[2025-10-16 15:42:43] {'Hectares_Soja_Resistente': 60.0, 'Hectares_Soja_Produtiva': 186.48491, 'Hectares_Milho_Safrinha': 60.0}\n",
      "[2025-10-16 15:42:43] Preços sombra:\n",
      "[2025-10-16 15:42:43] {'Minimo_Soja_Resistente': -110.04695, 'Minimo_Soja_Produtiva': -0.0, 'Minimo_Milho_Safrinha': -4989.6931, 'Risco_Maximo_Soja_Produtiva': -0.0, 'Restricao_Area_Total': -0.0, 'Restricao_Area_Nao_Compactada': -0.0, 'Restricao_Orcamento': -0.0, 'Restricao_Agua': 13.456173, 'Restricao_Potassio': -0.0, 'Restricao_Fosforo': -0.0, 'Restricao_Horas_Maquina': -0.0, 'Restricao_Armazenagem': -0.0}\n",
      "[2025-10-16 15:42:43] \n",
      "==================== EXECUTANDO CENÁRIO: CONSERVADOR ====================\n",
      "[2025-10-16 15:42:43] Config 'conservador' carregada e mesclada com sucesso: {'resources': {'AREA_TOTAL_DISPONIVEL_HA': 500, 'ORCAMENTO_TOTAL_DISPONIVEL': 1100000, 'AGUA_TOTAL_DISPONIVEL_M3': 250000, 'POTASSIO_DISPONIVEL_KG': 45000, 'FOSFORO_DISPONIVEL_KG': 42000, 'AREA_NAO_COMPACTADA_HA': 400, 'HORAS_MAQUINA_DISPONIVEIS': 6000, 'CAPACIDADE_SILO_TON': 2500}, 'params': {'n_dados': 1500, 'seed': 42, 'preco_soja': 2200, 'preco_milho': 1300, 'percentual_minimo_por_cultura': 0.15, 'percentual_maximo_soja_produtiva': 0.4}}\n",
      "[2025-10-16 15:42:43] Dados mock gerados com sucesso. Amostra das primeiras linhas:\n",
      "[2025-10-16 15:42:43] [{\"id_talhao\":1,\"cultura\":\"Milho_Safrinha\",\"produtividade_ton_ha\":5.2898146975,\"custo_ha\":3166.429310426,\"uso_agua_m3_ha\":757.3338456894,\"demanda_k_kg_ha\":128.2676505354,\"demanda_p_kg_ha\":102.3053712049,\"horas_maquina_ha\":14.3371977926},{\"id_talhao\":2,\"cultura\":\"Soja_Resistente\",\"produtividade_ton_ha\":2.8403260554,\"custo_ha\":1734.2119190614,\"uso_agua_m3_ha\":430.0444073899,\"demanda_k_kg_ha\":70.0360831083,\"demanda_p_kg_ha\":64.7504323609,\"horas_maquina_ha\":9.693557},{\"id_talhao\":3,\"cultura\":\"Milho_Safrinha\",\"produtividade_ton_ha\":4.5891231629,\"custo_ha\":2601.484435741,\"uso_agua_m3_ha\":708.0206431971,\"demanda_k_kg_ha\":118.3480263633,\"demanda_p_kg_ha\":101.1328834408,\"horas_maquina_ha\":15.8967940331},{\"id_talhao\":4,\"cultura\":\"Milho_Safrinha\",\"produtividade_ton_ha\":4.6262106431,\"custo_ha\":2487.0991018838,\"uso_agua_m3_ha\":776.0188026112,\"demanda_k_kg_ha\":113.8337757348,\"demanda_p_kg_ha\":104.3222953372,\"horas_maquina_ha\":12.7912832419},{\"id_talhao\":5,\"cultura\":\"Soja_Resistente\",\"produtividade_ton_ha\":3.3868773905,\"custo_ha\":1974.9454120855,\"uso_agua_m3_ha\":417.3551613794,\"demanda_k_kg_ha\":77.2012691383,\"demanda_p_kg_ha\":64.1368569142,\"horas_maquina_ha\":11.2058789963}]\n",
      "[2025-10-16 15:42:43] Estatísticas resumidas:\n",
      "[2025-10-16 15:42:43] {\"id_talhao\":{\"count\":1500.0,\"mean\":750.5,\"std\":433.1570154113,\"min\":1.0,\"25%\":375.75,\"50%\":750.5,\"75%\":1125.25,\"max\":1500.0},\"produtividade_ton_ha\":{\"count\":1500.0,\"mean\":4.5853537013,\"std\":1.0406733203,\"min\":1.7595955856,\"25%\":3.7385722281,\"50%\":4.6130691172,\"75%\":5.3607676667,\"max\":7.4060640814},\"custo_ha\":{\"count\":1500.0,\"mean\":2351.4644276972,\"std\":465.4353846201,\"min\":1366.7593192211,\"25%\":1880.8905659273,\"50%\":2436.7548885404,\"75%\":2709.3148137166,\"max\":3619.0998362783},\"uso_agua_m3_ha\":{\"count\":1500.0,\"mean\":578.0000463065,\"std\":120.2683616253,\"min\":276.4285054031,\"25%\":475.7297099553,\"50%\":582.2569558677,\"75%\":666.3207263756,\"max\":937.8689122364},\"demanda_k_kg_ha\":{\"count\":1500.0,\"mean\":99.5619699325,\"std\":21.1116524273,\"min\":46.7524428009,\"25%\":83.3234960852,\"50%\":96.9238593126,\"75%\":114.9629599872,\"max\":163.3748803961},\"demanda_p_kg_ha\":{\"count\":1500.0,\"mean\":86.2645179664,\"std\":16.2456499817,\"min\":48.6853414314,\"25%\":73.4123875867,\"50%\":85.9976105503,\"75%\":98.2608900162,\"max\":142.5287801315},\"horas_maquina_ha\":{\"count\":1500.0,\"mean\":12.2118627786,\"std\":2.6835103563,\"min\":5.6501593296,\"25%\":10.1275294371,\"50%\":11.9104242286,\"75%\":14.1756398882,\"max\":20.5253690655}}\n",
      "[2025-10-16 15:42:43] Parâmetros do modelo (médias por cultura):\n",
      "[2025-10-16 15:42:43] {\"id_talhao\":{\"Milho_Safrinha\":748.4241803279,\"Soja_Produtiva\":759.4573170732,\"Soja_Resistente\":743.9730769231},\"produtividade_ton_ha\":{\"Milho_Safrinha\":5.533157211,\"Soja_Produtiva\":4.786231101,\"Soja_Resistente\":3.5058156371},\"custo_ha\":{\"Milho_Safrinha\":2789.0142778524,\"Soja_Produtiva\":2502.2177193732,\"Soja_Resistente\":1798.2049154274},\"uso_agua_m3_ha\":{\"Milho_Safrinha\":698.1021628641,\"Soja_Produtiva\":596.5656765211,\"Soja_Resistente\":447.7228867956},\"demanda_k_kg_ha\":{\"Milho_Safrinha\":121.0005674148,\"Soja_Produtiva\":98.9215618278,\"Soja_Resistente\":80.0485953483},\"demanda_p_kg_ha\":{\"Milho_Safrinha\":99.9392660123,\"Soja_Produtiva\":90.0146471493,\"Soja_Resistente\":69.8830937271},\"horas_maquina_ha\":{\"Milho_Safrinha\":14.9393585248,\"Soja_Produtiva\":11.8533116271,\"Soja_Resistente\":9.9914574755},\"lucro_ha\":{\"Milho_Safrinha\":4404.0900964721,\"Soja_Produtiva\":8027.4907027878,\"Soja_Resistente\":5914.5894862735}}\n",
      "[2025-10-16 15:42:43] Recursos carregados: {'AREA_TOTAL_DISPONIVEL_HA': 500, 'ORCAMENTO_TOTAL_DISPONIVEL': 1100000, 'AGUA_TOTAL_DISPONIVEL_M3': 250000, 'POTASSIO_DISPONIVEL_KG': 45000, 'FOSFORO_DISPONIVEL_KG': 42000, 'AREA_NAO_COMPACTADA_HA': 400, 'HORAS_MAQUINA_DISPONIVEIS': 6000, 'CAPACIDADE_SILO_TON': 2500}\n",
      "[2025-10-16 15:42:43] Modelo de otimização configurado.\n",
      "[2025-10-16 15:42:43] Iniciando solução do modelo...\n",
      "Welcome to the CBC MILP Solver \n",
      "Version: 2.10.3 \n",
      "Build Date: Dec 15 2019 \n",
      "\n",
      "command line - /home/vinicius/Downloads/estudo/po/PL/PL/venv/lib/python3.12/site-packages/pulp/apis/../solverdir/cbc/linux/i64/cbc /tmp/0e587787d0394b38a6e69f495c89310b-pulp.mps -max -timeMode elapsed -branch -printingOptions all -solution /tmp/0e587787d0394b38a6e69f495c89310b-pulp.sol (default strategy 1)\n",
      "At line 2 NAME          MODEL\n",
      "At line 3 ROWS\n",
      "At line 17 COLUMNS\n",
      "At line 49 RHS\n",
      "At line 62 BOUNDS\n",
      "At line 63 ENDATA\n",
      "Problem MODEL has 12 rows, 3 columns and 28 elements\n",
      "Coin0008I MODEL read with 0 errors\n",
      "Option for timeMode changed from cpu to elapsed\n",
      "Presolve 7 (-5) rows, 3 (0) columns and 21 (-7) elements\n",
      "0  Obj 1100770.2 Dual inf 18346.17 (3)\n",
      "1  Obj 2782302.1\n",
      "Optimal - objective value 2782302.1\n",
      "After Postsolve, objective 2782302.1, infeasibilities - dual 0 (0), primal 0 (0)\n",
      "Optimal objective 2782302.123 - 1 iterations time 0.002, Presolve 0.00\n",
      "Option for printingOptions changed from normal to all\n",
      "Total time (CPU seconds):       0.00   (Wallclock seconds):       0.00\n",
      "\n",
      "[2025-10-16 15:42:43] Status do solver (raw): 1\n",
      "[2025-10-16 15:42:43] Status da otimização: Optimal\n",
      "[2025-10-16 15:42:43] Plantio (resultado):\n",
      "[2025-10-16 15:42:43] {'Hectares_Soja_Resistente': 100.0, 'Hectares_Soja_Produtiva': 240.0, 'Hectares_Milho_Safrinha': 60.0}\n",
      "[2025-10-16 15:42:43] Preços sombra:\n",
      "[2025-10-16 15:42:43] {'Minimo_Soja_Resistente': -0.0, 'Minimo_Soja_Produtiva': -0.0, 'Minimo_Milho_Safrinha': -1510.4994, 'Risco_Maximo_Soja_Produtiva': 2112.9012, 'Restricao_Area_Total': -0.0, 'Restricao_Area_Nao_Compactada': 5914.5895, 'Restricao_Orcamento': -0.0, 'Restricao_Agua': -0.0, 'Restricao_Potassio': -0.0, 'Restricao_Fosforo': -0.0, 'Restricao_Horas_Maquina': -0.0, 'Restricao_Armazenagem': -0.0}\n",
      "[2025-10-16 15:42:43] \n",
      "==================== EXECUTANDO CENÁRIO: AGRESSIVO ====================\n",
      "[2025-10-16 15:42:43] Config 'agressivo' carregada e mesclada com sucesso: {'resources': {'AREA_TOTAL_DISPONIVEL_HA': 500, 'ORCAMENTO_TOTAL_DISPONIVEL': 1100000, 'AGUA_TOTAL_DISPONIVEL_M3': 250000, 'POTASSIO_DISPONIVEL_KG': 45000, 'FOSFORO_DISPONIVEL_KG': 42000, 'AREA_NAO_COMPACTADA_HA': 400, 'HORAS_MAQUINA_DISPONIVEIS': 6000, 'CAPACIDADE_SILO_TON': 2500}, 'params': {'n_dados': 1500, 'seed': 42, 'preco_soja': 2200, 'preco_milho': 1300, 'percentual_minimo_por_cultura': 0.15, 'percentual_maximo_soja_produtiva': 0.8}}\n",
      "[2025-10-16 15:42:43] Dados mock gerados com sucesso. Amostra das primeiras linhas:\n",
      "[2025-10-16 15:42:43] [{\"id_talhao\":1,\"cultura\":\"Milho_Safrinha\",\"produtividade_ton_ha\":5.2898146975,\"custo_ha\":3166.429310426,\"uso_agua_m3_ha\":757.3338456894,\"demanda_k_kg_ha\":128.2676505354,\"demanda_p_kg_ha\":102.3053712049,\"horas_maquina_ha\":14.3371977926},{\"id_talhao\":2,\"cultura\":\"Soja_Resistente\",\"produtividade_ton_ha\":2.8403260554,\"custo_ha\":1734.2119190614,\"uso_agua_m3_ha\":430.0444073899,\"demanda_k_kg_ha\":70.0360831083,\"demanda_p_kg_ha\":64.7504323609,\"horas_maquina_ha\":9.693557},{\"id_talhao\":3,\"cultura\":\"Milho_Safrinha\",\"produtividade_ton_ha\":4.5891231629,\"custo_ha\":2601.484435741,\"uso_agua_m3_ha\":708.0206431971,\"demanda_k_kg_ha\":118.3480263633,\"demanda_p_kg_ha\":101.1328834408,\"horas_maquina_ha\":15.8967940331},{\"id_talhao\":4,\"cultura\":\"Milho_Safrinha\",\"produtividade_ton_ha\":4.6262106431,\"custo_ha\":2487.0991018838,\"uso_agua_m3_ha\":776.0188026112,\"demanda_k_kg_ha\":113.8337757348,\"demanda_p_kg_ha\":104.3222953372,\"horas_maquina_ha\":12.7912832419},{\"id_talhao\":5,\"cultura\":\"Soja_Resistente\",\"produtividade_ton_ha\":3.3868773905,\"custo_ha\":1974.9454120855,\"uso_agua_m3_ha\":417.3551613794,\"demanda_k_kg_ha\":77.2012691383,\"demanda_p_kg_ha\":64.1368569142,\"horas_maquina_ha\":11.2058789963}]\n",
      "[2025-10-16 15:42:43] Estatísticas resumidas:\n",
      "[2025-10-16 15:42:43] {\"id_talhao\":{\"count\":1500.0,\"mean\":750.5,\"std\":433.1570154113,\"min\":1.0,\"25%\":375.75,\"50%\":750.5,\"75%\":1125.25,\"max\":1500.0},\"produtividade_ton_ha\":{\"count\":1500.0,\"mean\":4.5853537013,\"std\":1.0406733203,\"min\":1.7595955856,\"25%\":3.7385722281,\"50%\":4.6130691172,\"75%\":5.3607676667,\"max\":7.4060640814},\"custo_ha\":{\"count\":1500.0,\"mean\":2351.4644276972,\"std\":465.4353846201,\"min\":1366.7593192211,\"25%\":1880.8905659273,\"50%\":2436.7548885404,\"75%\":2709.3148137166,\"max\":3619.0998362783},\"uso_agua_m3_ha\":{\"count\":1500.0,\"mean\":578.0000463065,\"std\":120.2683616253,\"min\":276.4285054031,\"25%\":475.7297099553,\"50%\":582.2569558677,\"75%\":666.3207263756,\"max\":937.8689122364},\"demanda_k_kg_ha\":{\"count\":1500.0,\"mean\":99.5619699325,\"std\":21.1116524273,\"min\":46.7524428009,\"25%\":83.3234960852,\"50%\":96.9238593126,\"75%\":114.9629599872,\"max\":163.3748803961},\"demanda_p_kg_ha\":{\"count\":1500.0,\"mean\":86.2645179664,\"std\":16.2456499817,\"min\":48.6853414314,\"25%\":73.4123875867,\"50%\":85.9976105503,\"75%\":98.2608900162,\"max\":142.5287801315},\"horas_maquina_ha\":{\"count\":1500.0,\"mean\":12.2118627786,\"std\":2.6835103563,\"min\":5.6501593296,\"25%\":10.1275294371,\"50%\":11.9104242286,\"75%\":14.1756398882,\"max\":20.5253690655}}\n",
      "[2025-10-16 15:42:43] Parâmetros do modelo (médias por cultura):\n",
      "[2025-10-16 15:42:43] {\"id_talhao\":{\"Milho_Safrinha\":748.4241803279,\"Soja_Produtiva\":759.4573170732,\"Soja_Resistente\":743.9730769231},\"produtividade_ton_ha\":{\"Milho_Safrinha\":5.533157211,\"Soja_Produtiva\":4.786231101,\"Soja_Resistente\":3.5058156371},\"custo_ha\":{\"Milho_Safrinha\":2789.0142778524,\"Soja_Produtiva\":2502.2177193732,\"Soja_Resistente\":1798.2049154274},\"uso_agua_m3_ha\":{\"Milho_Safrinha\":698.1021628641,\"Soja_Produtiva\":596.5656765211,\"Soja_Resistente\":447.7228867956},\"demanda_k_kg_ha\":{\"Milho_Safrinha\":121.0005674148,\"Soja_Produtiva\":98.9215618278,\"Soja_Resistente\":80.0485953483},\"demanda_p_kg_ha\":{\"Milho_Safrinha\":99.9392660123,\"Soja_Produtiva\":90.0146471493,\"Soja_Resistente\":69.8830937271},\"horas_maquina_ha\":{\"Milho_Safrinha\":14.9393585248,\"Soja_Produtiva\":11.8533116271,\"Soja_Resistente\":9.9914574755},\"lucro_ha\":{\"Milho_Safrinha\":4404.0900964721,\"Soja_Produtiva\":8027.4907027878,\"Soja_Resistente\":5914.5894862735}}\n",
      "[2025-10-16 15:42:43] Recursos carregados: {'AREA_TOTAL_DISPONIVEL_HA': 500, 'ORCAMENTO_TOTAL_DISPONIVEL': 1100000, 'AGUA_TOTAL_DISPONIVEL_M3': 250000, 'POTASSIO_DISPONIVEL_KG': 45000, 'FOSFORO_DISPONIVEL_KG': 42000, 'AREA_NAO_COMPACTADA_HA': 400, 'HORAS_MAQUINA_DISPONIVEIS': 6000, 'CAPACIDADE_SILO_TON': 2500}\n",
      "[2025-10-16 15:42:43] Modelo de otimização configurado.\n",
      "[2025-10-16 15:42:43] Iniciando solução do modelo...\n",
      "Welcome to the CBC MILP Solver \n",
      "Version: 2.10.3 \n",
      "Build Date: Dec 15 2019 \n",
      "\n",
      "command line - /home/vinicius/Downloads/estudo/po/PL/PL/venv/lib/python3.12/site-packages/pulp/apis/../solverdir/cbc/linux/i64/cbc /tmp/3e35e20b4d4b4f6087cd36937897011e-pulp.mps -max -timeMode elapsed -branch -printingOptions all -solution /tmp/3e35e20b4d4b4f6087cd36937897011e-pulp.sol (default strategy 1)\n",
      "At line 2 NAME          MODEL\n",
      "At line 3 ROWS\n",
      "At line 17 COLUMNS\n",
      "At line 49 RHS\n",
      "At line 62 BOUNDS\n",
      "At line 63 ENDATA\n",
      "Problem MODEL has 12 rows, 3 columns and 28 elements\n",
      "Coin0008I MODEL read with 0 errors\n",
      "Option for timeMode changed from cpu to elapsed\n",
      "Presolve 7 (-5) rows, 3 (0) columns and 21 (-7) elements\n",
      "0  Obj 1100770.2 Dual inf 18346.17 (3)\n",
      "1  Obj 2782302.1\n",
      "Optimal - objective value 2782302.1\n",
      "After Postsolve, objective 2782302.1, infeasibilities - dual 0 (0), primal 0 (0)\n",
      "Optimal objective 2782302.123 - 1 iterations time 0.002, Presolve 0.00\n",
      "Option for printingOptions changed from normal to all\n",
      "Total time (CPU seconds):       0.00   (Wallclock seconds):       0.00\n",
      "\n",
      "[2025-10-16 15:42:43] Status do solver (raw): 1\n",
      "[2025-10-16 15:42:43] Status da otimização: Optimal\n",
      "[2025-10-16 15:42:43] Plantio (resultado):\n",
      "[2025-10-16 15:42:43] {'Hectares_Soja_Resistente': 100.0, 'Hectares_Soja_Produtiva': 240.0, 'Hectares_Milho_Safrinha': 60.0}\n",
      "[2025-10-16 15:42:43] Preços sombra:\n",
      "[2025-10-16 15:42:43] {'Minimo_Soja_Resistente': -0.0, 'Minimo_Soja_Produtiva': -0.0, 'Minimo_Milho_Safrinha': -1510.4994, 'Risco_Maximo_Soja_Produtiva': 2112.9012, 'Restricao_Area_Total': -0.0, 'Restricao_Area_Nao_Compactada': 5914.5895, 'Restricao_Orcamento': -0.0, 'Restricao_Agua': -0.0, 'Restricao_Potassio': -0.0, 'Restricao_Fosforo': -0.0, 'Restricao_Horas_Maquina': -0.0, 'Restricao_Armazenagem': -0.0}\n",
      "[2025-10-16 15:42:43] \n",
      "==================== EXECUTANDO CENÁRIO: PRECO_ALTO_SOJA ====================\n",
      "[2025-10-16 15:42:43] Config 'preco_alto_soja' carregada e mesclada com sucesso: {'resources': {'AREA_TOTAL_DISPONIVEL_HA': 500, 'ORCAMENTO_TOTAL_DISPONIVEL': 1100000, 'AGUA_TOTAL_DISPONIVEL_M3': 250000, 'POTASSIO_DISPONIVEL_KG': 45000, 'FOSFORO_DISPONIVEL_KG': 42000, 'AREA_NAO_COMPACTADA_HA': 400, 'HORAS_MAQUINA_DISPONIVEIS': 6000, 'CAPACIDADE_SILO_TON': 2500}, 'params': {'n_dados': 1500, 'seed': 42, 'preco_soja': 2500, 'preco_milho': 1300, 'percentual_minimo_por_cultura': 0.15, 'percentual_maximo_soja_produtiva': 0.6}}\n",
      "[2025-10-16 15:42:43] Dados mock gerados com sucesso. Amostra das primeiras linhas:\n",
      "[2025-10-16 15:42:43] [{\"id_talhao\":1,\"cultura\":\"Milho_Safrinha\",\"produtividade_ton_ha\":5.2898146975,\"custo_ha\":3166.429310426,\"uso_agua_m3_ha\":757.3338456894,\"demanda_k_kg_ha\":128.2676505354,\"demanda_p_kg_ha\":102.3053712049,\"horas_maquina_ha\":14.3371977926},{\"id_talhao\":2,\"cultura\":\"Soja_Resistente\",\"produtividade_ton_ha\":2.8403260554,\"custo_ha\":1734.2119190614,\"uso_agua_m3_ha\":430.0444073899,\"demanda_k_kg_ha\":70.0360831083,\"demanda_p_kg_ha\":64.7504323609,\"horas_maquina_ha\":9.693557},{\"id_talhao\":3,\"cultura\":\"Milho_Safrinha\",\"produtividade_ton_ha\":4.5891231629,\"custo_ha\":2601.484435741,\"uso_agua_m3_ha\":708.0206431971,\"demanda_k_kg_ha\":118.3480263633,\"demanda_p_kg_ha\":101.1328834408,\"horas_maquina_ha\":15.8967940331},{\"id_talhao\":4,\"cultura\":\"Milho_Safrinha\",\"produtividade_ton_ha\":4.6262106431,\"custo_ha\":2487.0991018838,\"uso_agua_m3_ha\":776.0188026112,\"demanda_k_kg_ha\":113.8337757348,\"demanda_p_kg_ha\":104.3222953372,\"horas_maquina_ha\":12.7912832419},{\"id_talhao\":5,\"cultura\":\"Soja_Resistente\",\"produtividade_ton_ha\":3.3868773905,\"custo_ha\":1974.9454120855,\"uso_agua_m3_ha\":417.3551613794,\"demanda_k_kg_ha\":77.2012691383,\"demanda_p_kg_ha\":64.1368569142,\"horas_maquina_ha\":11.2058789963}]\n",
      "[2025-10-16 15:42:43] Estatísticas resumidas:\n",
      "[2025-10-16 15:42:43] {\"id_talhao\":{\"count\":1500.0,\"mean\":750.5,\"std\":433.1570154113,\"min\":1.0,\"25%\":375.75,\"50%\":750.5,\"75%\":1125.25,\"max\":1500.0},\"produtividade_ton_ha\":{\"count\":1500.0,\"mean\":4.5853537013,\"std\":1.0406733203,\"min\":1.7595955856,\"25%\":3.7385722281,\"50%\":4.6130691172,\"75%\":5.3607676667,\"max\":7.4060640814},\"custo_ha\":{\"count\":1500.0,\"mean\":2351.4644276972,\"std\":465.4353846201,\"min\":1366.7593192211,\"25%\":1880.8905659273,\"50%\":2436.7548885404,\"75%\":2709.3148137166,\"max\":3619.0998362783},\"uso_agua_m3_ha\":{\"count\":1500.0,\"mean\":578.0000463065,\"std\":120.2683616253,\"min\":276.4285054031,\"25%\":475.7297099553,\"50%\":582.2569558677,\"75%\":666.3207263756,\"max\":937.8689122364},\"demanda_k_kg_ha\":{\"count\":1500.0,\"mean\":99.5619699325,\"std\":21.1116524273,\"min\":46.7524428009,\"25%\":83.3234960852,\"50%\":96.9238593126,\"75%\":114.9629599872,\"max\":163.3748803961},\"demanda_p_kg_ha\":{\"count\":1500.0,\"mean\":86.2645179664,\"std\":16.2456499817,\"min\":48.6853414314,\"25%\":73.4123875867,\"50%\":85.9976105503,\"75%\":98.2608900162,\"max\":142.5287801315},\"horas_maquina_ha\":{\"count\":1500.0,\"mean\":12.2118627786,\"std\":2.6835103563,\"min\":5.6501593296,\"25%\":10.1275294371,\"50%\":11.9104242286,\"75%\":14.1756398882,\"max\":20.5253690655}}\n",
      "[2025-10-16 15:42:43] Parâmetros do modelo (médias por cultura):\n",
      "[2025-10-16 15:42:43] {\"id_talhao\":{\"Milho_Safrinha\":748.4241803279,\"Soja_Produtiva\":759.4573170732,\"Soja_Resistente\":743.9730769231},\"produtividade_ton_ha\":{\"Milho_Safrinha\":5.533157211,\"Soja_Produtiva\":4.786231101,\"Soja_Resistente\":3.5058156371},\"custo_ha\":{\"Milho_Safrinha\":2789.0142778524,\"Soja_Produtiva\":2502.2177193732,\"Soja_Resistente\":1798.2049154274},\"uso_agua_m3_ha\":{\"Milho_Safrinha\":698.1021628641,\"Soja_Produtiva\":596.5656765211,\"Soja_Resistente\":447.7228867956},\"demanda_k_kg_ha\":{\"Milho_Safrinha\":121.0005674148,\"Soja_Produtiva\":98.9215618278,\"Soja_Resistente\":80.0485953483},\"demanda_p_kg_ha\":{\"Milho_Safrinha\":99.9392660123,\"Soja_Produtiva\":90.0146471493,\"Soja_Resistente\":69.8830937271},\"horas_maquina_ha\":{\"Milho_Safrinha\":14.9393585248,\"Soja_Produtiva\":11.8533116271,\"Soja_Resistente\":9.9914574755},\"lucro_ha\":{\"Milho_Safrinha\":4404.0900964721,\"Soja_Produtiva\":9463.3600330824,\"Soja_Resistente\":6966.3341774146}}\n",
      "[2025-10-16 15:42:43] Recursos carregados: {'AREA_TOTAL_DISPONIVEL_HA': 500, 'ORCAMENTO_TOTAL_DISPONIVEL': 1100000, 'AGUA_TOTAL_DISPONIVEL_M3': 250000, 'POTASSIO_DISPONIVEL_KG': 45000, 'FOSFORO_DISPONIVEL_KG': 42000, 'AREA_NAO_COMPACTADA_HA': 400, 'HORAS_MAQUINA_DISPONIVEIS': 6000, 'CAPACIDADE_SILO_TON': 2500}\n",
      "[2025-10-16 15:42:43] Modelo de otimização configurado.\n",
      "[2025-10-16 15:42:43] Iniciando solução do modelo...\n",
      "Welcome to the CBC MILP Solver \n",
      "Version: 2.10.3 \n",
      "Build Date: Dec 15 2019 \n",
      "\n",
      "command line - /home/vinicius/Downloads/estudo/po/PL/PL/venv/lib/python3.12/site-packages/pulp/apis/../solverdir/cbc/linux/i64/cbc /tmp/12e6ee5f2c8f4932af967bc322e9edd5-pulp.mps -max -timeMode elapsed -branch -printingOptions all -solution /tmp/12e6ee5f2c8f4932af967bc322e9edd5-pulp.sol (default strategy 1)\n",
      "At line 2 NAME          MODEL\n",
      "At line 3 ROWS\n",
      "At line 17 COLUMNS\n",
      "At line 49 RHS\n",
      "At line 62 BOUNDS\n",
      "At line 63 ENDATA\n",
      "Problem MODEL has 12 rows, 3 columns and 28 elements\n",
      "Coin0008I MODEL read with 0 errors\n",
      "Option for timeMode changed from cpu to elapsed\n",
      "Presolve 7 (-5) rows, 3 (0) columns and 21 (-7) elements\n",
      "0  Obj 1250027.1 Dual inf 20833.784 (3)\n",
      "1  Obj 3232085.2\n",
      "Optimal - objective value 3232085.2\n",
      "After Postsolve, objective 3232085.2, infeasibilities - dual 0 (0), primal 0 (0)\n",
      "Optimal objective 3232085.231 - 1 iterations time 0.002, Presolve 0.00\n",
      "Option for printingOptions changed from normal to all\n",
      "Total time (CPU seconds):       0.00   (Wallclock seconds):       0.00\n",
      "\n",
      "[2025-10-16 15:42:43] Status do solver (raw): 1\n",
      "[2025-10-16 15:42:43] Status da otimização: Optimal\n",
      "[2025-10-16 15:42:43] Plantio (resultado):\n",
      "[2025-10-16 15:42:43] {'Hectares_Soja_Resistente': 100.0, 'Hectares_Soja_Produtiva': 240.0, 'Hectares_Milho_Safrinha': 60.0}\n",
      "[2025-10-16 15:42:43] Preços sombra:\n",
      "[2025-10-16 15:42:43] {'Minimo_Soja_Resistente': -0.0, 'Minimo_Soja_Produtiva': -0.0, 'Minimo_Milho_Safrinha': -2562.2441, 'Risco_Maximo_Soja_Produtiva': 2497.0259, 'Restricao_Area_Total': -0.0, 'Restricao_Area_Nao_Compactada': 6966.3342, 'Restricao_Orcamento': -0.0, 'Restricao_Agua': -0.0, 'Restricao_Potassio': -0.0, 'Restricao_Fosforo': -0.0, 'Restricao_Horas_Maquina': -0.0, 'Restricao_Armazenagem': -0.0}\n",
      "[2025-10-16 15:42:43] \n",
      "==================== EXECUTANDO CENÁRIO: CRISE_FERTILIZANTES ====================\n",
      "[2025-10-16 15:42:43] Config 'crise_fertilizantes' carregada e mesclada com sucesso: {'resources': {'AREA_TOTAL_DISPONIVEL_HA': 500, 'ORCAMENTO_TOTAL_DISPONIVEL': 1100000, 'AGUA_TOTAL_DISPONIVEL_M3': 250000, 'POTASSIO_DISPONIVEL_KG': 31500, 'FOSFORO_DISPONIVEL_KG': 29400, 'AREA_NAO_COMPACTADA_HA': 400, 'HORAS_MAQUINA_DISPONIVEIS': 6000, 'CAPACIDADE_SILO_TON': 2500}, 'params': {'n_dados': 1500, 'seed': 42, 'preco_soja': 2200, 'preco_milho': 1300, 'percentual_minimo_por_cultura': 0.15, 'percentual_maximo_soja_produtiva': 0.6}}\n",
      "[2025-10-16 15:42:43] Dados mock gerados com sucesso. Amostra das primeiras linhas:\n",
      "[2025-10-16 15:42:43] [{\"id_talhao\":1,\"cultura\":\"Milho_Safrinha\",\"produtividade_ton_ha\":5.2898146975,\"custo_ha\":3166.429310426,\"uso_agua_m3_ha\":757.3338456894,\"demanda_k_kg_ha\":128.2676505354,\"demanda_p_kg_ha\":102.3053712049,\"horas_maquina_ha\":14.3371977926},{\"id_talhao\":2,\"cultura\":\"Soja_Resistente\",\"produtividade_ton_ha\":2.8403260554,\"custo_ha\":1734.2119190614,\"uso_agua_m3_ha\":430.0444073899,\"demanda_k_kg_ha\":70.0360831083,\"demanda_p_kg_ha\":64.7504323609,\"horas_maquina_ha\":9.693557},{\"id_talhao\":3,\"cultura\":\"Milho_Safrinha\",\"produtividade_ton_ha\":4.5891231629,\"custo_ha\":2601.484435741,\"uso_agua_m3_ha\":708.0206431971,\"demanda_k_kg_ha\":118.3480263633,\"demanda_p_kg_ha\":101.1328834408,\"horas_maquina_ha\":15.8967940331},{\"id_talhao\":4,\"cultura\":\"Milho_Safrinha\",\"produtividade_ton_ha\":4.6262106431,\"custo_ha\":2487.0991018838,\"uso_agua_m3_ha\":776.0188026112,\"demanda_k_kg_ha\":113.8337757348,\"demanda_p_kg_ha\":104.3222953372,\"horas_maquina_ha\":12.7912832419},{\"id_talhao\":5,\"cultura\":\"Soja_Resistente\",\"produtividade_ton_ha\":3.3868773905,\"custo_ha\":1974.9454120855,\"uso_agua_m3_ha\":417.3551613794,\"demanda_k_kg_ha\":77.2012691383,\"demanda_p_kg_ha\":64.1368569142,\"horas_maquina_ha\":11.2058789963}]\n",
      "[2025-10-16 15:42:43] Estatísticas resumidas:\n",
      "[2025-10-16 15:42:43] {\"id_talhao\":{\"count\":1500.0,\"mean\":750.5,\"std\":433.1570154113,\"min\":1.0,\"25%\":375.75,\"50%\":750.5,\"75%\":1125.25,\"max\":1500.0},\"produtividade_ton_ha\":{\"count\":1500.0,\"mean\":4.5853537013,\"std\":1.0406733203,\"min\":1.7595955856,\"25%\":3.7385722281,\"50%\":4.6130691172,\"75%\":5.3607676667,\"max\":7.4060640814},\"custo_ha\":{\"count\":1500.0,\"mean\":2351.4644276972,\"std\":465.4353846201,\"min\":1366.7593192211,\"25%\":1880.8905659273,\"50%\":2436.7548885404,\"75%\":2709.3148137166,\"max\":3619.0998362783},\"uso_agua_m3_ha\":{\"count\":1500.0,\"mean\":578.0000463065,\"std\":120.2683616253,\"min\":276.4285054031,\"25%\":475.7297099553,\"50%\":582.2569558677,\"75%\":666.3207263756,\"max\":937.8689122364},\"demanda_k_kg_ha\":{\"count\":1500.0,\"mean\":99.5619699325,\"std\":21.1116524273,\"min\":46.7524428009,\"25%\":83.3234960852,\"50%\":96.9238593126,\"75%\":114.9629599872,\"max\":163.3748803961},\"demanda_p_kg_ha\":{\"count\":1500.0,\"mean\":86.2645179664,\"std\":16.2456499817,\"min\":48.6853414314,\"25%\":73.4123875867,\"50%\":85.9976105503,\"75%\":98.2608900162,\"max\":142.5287801315},\"horas_maquina_ha\":{\"count\":1500.0,\"mean\":12.2118627786,\"std\":2.6835103563,\"min\":5.6501593296,\"25%\":10.1275294371,\"50%\":11.9104242286,\"75%\":14.1756398882,\"max\":20.5253690655}}\n",
      "[2025-10-16 15:42:43] Parâmetros do modelo (médias por cultura):\n",
      "[2025-10-16 15:42:43] {\"id_talhao\":{\"Milho_Safrinha\":748.4241803279,\"Soja_Produtiva\":759.4573170732,\"Soja_Resistente\":743.9730769231},\"produtividade_ton_ha\":{\"Milho_Safrinha\":5.533157211,\"Soja_Produtiva\":4.786231101,\"Soja_Resistente\":3.5058156371},\"custo_ha\":{\"Milho_Safrinha\":2789.0142778524,\"Soja_Produtiva\":2502.2177193732,\"Soja_Resistente\":1798.2049154274},\"uso_agua_m3_ha\":{\"Milho_Safrinha\":698.1021628641,\"Soja_Produtiva\":596.5656765211,\"Soja_Resistente\":447.7228867956},\"demanda_k_kg_ha\":{\"Milho_Safrinha\":121.0005674148,\"Soja_Produtiva\":98.9215618278,\"Soja_Resistente\":80.0485953483},\"demanda_p_kg_ha\":{\"Milho_Safrinha\":99.9392660123,\"Soja_Produtiva\":90.0146471493,\"Soja_Resistente\":69.8830937271},\"horas_maquina_ha\":{\"Milho_Safrinha\":14.9393585248,\"Soja_Produtiva\":11.8533116271,\"Soja_Resistente\":9.9914574755},\"lucro_ha\":{\"Milho_Safrinha\":4404.0900964721,\"Soja_Produtiva\":8027.4907027878,\"Soja_Resistente\":5914.5894862735}}\n",
      "[2025-10-16 15:42:43] Recursos carregados: {'AREA_TOTAL_DISPONIVEL_HA': 500, 'ORCAMENTO_TOTAL_DISPONIVEL': 1100000, 'AGUA_TOTAL_DISPONIVEL_M3': 250000, 'POTASSIO_DISPONIVEL_KG': 31500, 'FOSFORO_DISPONIVEL_KG': 29400, 'AREA_NAO_COMPACTADA_HA': 400, 'HORAS_MAQUINA_DISPONIVEIS': 6000, 'CAPACIDADE_SILO_TON': 2500}\n",
      "[2025-10-16 15:42:43] Modelo de otimização configurado.\n",
      "[2025-10-16 15:42:43] Iniciando solução do modelo...\n",
      "Welcome to the CBC MILP Solver \n",
      "Version: 2.10.3 \n",
      "Build Date: Dec 15 2019 \n",
      "\n",
      "command line - /home/vinicius/Downloads/estudo/po/PL/PL/venv/lib/python3.12/site-packages/pulp/apis/../solverdir/cbc/linux/i64/cbc /tmp/d79aa2d4f59949eb9f9b95bbbb3b5b25-pulp.mps -max -timeMode elapsed -branch -printingOptions all -solution /tmp/d79aa2d4f59949eb9f9b95bbbb3b5b25-pulp.sol (default strategy 1)\n",
      "At line 2 NAME          MODEL\n",
      "At line 3 ROWS\n",
      "At line 17 COLUMNS\n",
      "At line 49 RHS\n",
      "At line 62 BOUNDS\n",
      "At line 63 ENDATA\n",
      "Problem MODEL has 12 rows, 3 columns and 28 elements\n",
      "Coin0008I MODEL read with 0 errors\n",
      "Option for timeMode changed from cpu to elapsed\n",
      "Presolve 7 (-5) rows, 3 (0) columns and 21 (-7) elements\n",
      "0  Obj 1100770.2 Dual inf 18346.17 (3)\n",
      "1  Obj 2196438.6\n",
      "Optimal - objective value 2196438.6\n",
      "After Postsolve, objective 2196438.6, infeasibilities - dual 0 (0), primal 0 (0)\n",
      "Optimal objective 2196438.573 - 1 iterations time 0.002, Presolve 0.00\n",
      "Option for printingOptions changed from normal to all\n",
      "Total time (CPU seconds):       0.00   (Wallclock seconds):       0.00\n",
      "\n",
      "[2025-10-16 15:42:43] Status do solver (raw): 1\n",
      "[2025-10-16 15:42:43] Status da otimização: Optimal\n",
      "[2025-10-16 15:42:43] Plantio (resultado):\n",
      "[2025-10-16 15:42:43] {'Hectares_Soja_Resistente': 60.0, 'Hectares_Soja_Produtiva': 196.48952, 'Hectares_Milho_Safrinha': 60.0}\n",
      "[2025-10-16 15:42:43] Preços sombra:\n",
      "[2025-10-16 15:42:43] {'Minimo_Soja_Resistente': -581.35885, 'Minimo_Soja_Produtiva': -0.0, 'Minimo_Milho_Safrinha': -5415.1132, 'Risco_Maximo_Soja_Produtiva': -0.0, 'Restricao_Area_Total': -0.0, 'Restricao_Area_Nao_Compactada': -0.0, 'Restricao_Orcamento': -0.0, 'Restricao_Agua': -0.0, 'Restricao_Potassio': 81.15006, 'Restricao_Fosforo': -0.0, 'Restricao_Horas_Maquina': -0.0, 'Restricao_Armazenagem': -0.0}\n",
      "[2025-10-16 15:42:43] \n",
      "TODOS OS CENÁRIOS FORAM EXECUTADOS COM SUCESSO.\n",
      "[2025-10-16 15:42:43] \n",
      "--- TABELA RESUMO DOS CENÁRIOS ---\n",
      "[2025-10-16 15:42:43]                Cenário   Lucro Total  Soja Resistente (ha)  Soja Produtiva (ha)  Milho Safrinha (ha)  Shadow Price (Área)  Shadow Price (Água)   Status\n",
      "0                 base  2.782302e+06                 100.0            240.00000                 60.0            5914.5895            -0.000000  Optimal\n",
      "1                 seca  2.116127e+06                  60.0            186.48491                 60.0              -0.0000            13.456173  Optimal\n",
      "2          conservador  2.782302e+06                 100.0            240.00000                 60.0            5914.5895            -0.000000  Optimal\n",
      "3            agressivo  2.782302e+06                 100.0            240.00000                 60.0            5914.5895            -0.000000  Optimal\n",
      "4      preco_alto_soja  3.232085e+06                 100.0            240.00000                 60.0            6966.3342            -0.000000  Optimal\n",
      "5  crise_fertilizantes  2.196439e+06                  60.0            196.48952                 60.0              -0.0000            -0.000000  Optimal\n",
      "[2025-10-16 15:42:43] Resumo dos cenários exportado para resumo_cenarios.csv\n",
      "[2025-10-16 15:42:43] Dashboard definido. Execute app.run_server() em um script separado para visualizar.\n",
      "[2025-10-16 15:42:43] Dashboard definido. Execute app.run_server() em um script separado para visualizar.\n"
     ]
    }
   ],
   "source": [
    "# 4. Executando e Coletando Todos os Cenários (carregamento e merge seguro de YAML)\n",
    "import pandas as pd\n",
    "import os\n",
    "from hydra import initialize\n",
    "from omegaconf import OmegaConf\n",
    "\n",
    "# Lista de todos os cenários que queremos executar\n",
    "scenario_names = [\n",
    "    \"base\",\n",
    "    \"seca\",\n",
    "    \"conservador\",\n",
    "    \"agressivo\",\n",
    "    \"preco_alto_soja\",\n",
    "    \"crise_fertilizantes\",\n",
    "]\n",
    "all_results = {}\n",
    "\n",
    "# Carrega a base uma vez\n",
    "base_cfg_path = os.path.join('config', 'cenario', 'base.yaml')\n",
    "base_cfg = OmegaConf.load(base_cfg_path)\n",
    "\n",
    "# Arquivo unificado solicitado para todas as saídas\n",
    "MASTER_LOG = 'outputs-otimizacao_mix_culturas_v3_gestao_risco.txt'\n",
    "\n",
    "for name in scenario_names:\n",
    "    print_and_log(f\"\\n{'='*20} EXECUTANDO CENÁRIO: {name.upper()} {'='*20}\", logfile=MASTER_LOG)\n",
    "    if name == 'base':\n",
    "        cfg = base_cfg\n",
    "    else:\n",
    "        override_path = os.path.join('config', 'cenario', f\"{name}.yaml\")\n",
    "        if os.path.exists(override_path):\n",
    "            override_cfg = OmegaConf.load(override_path)\n",
    "            # Merge: valores do override substituem os da base\n",
    "            cfg = OmegaConf.merge(base_cfg, override_cfg)\n",
    "            print_and_log(f\"Config '{name}' carregada e mesclada com sucesso: {cfg}\", logfile=MASTER_LOG)\n",
    "        else:\n",
    "            print_and_log(f\"Arquivo de cenário não encontrado: {override_path}. Usando base.\", logfile=MASTER_LOG)\n",
    "            cfg = base_cfg\n",
    "\n",
    "    # Para compatibilidade com o código existente que espera DictConfig tipo hydra/omegaconf\n",
    "    res = run_optimization(cfg)\n",
    "    all_results[name] = res\n",
    "    # também gravar resumo por cenário no arquivo mestre\n",
    "    try:\n",
    "        with open(MASTER_LOG, 'a', encoding='utf-8') as mf:\n",
    "            mf.write('\\n' + '-'*60 + '\\n')\n",
    "            mf.write(f\"Cenário: {name}\\n\")\n",
    "            mf.write(f\"Status: {res.get('status')}\\n\")\n",
    "            mf.write(f\"Lucro: {res.get('lucro')}\\n\")\n",
    "            mf.write(f\"Plantio: {res.get('plantio')}\\n\")\n",
    "            mf.write(f\"Shadow Prices: {res.get('shadow_prices')}\\n\")\n",
    "    except Exception as e:\n",
    "        print_and_log(f'Erro ao gravar no arquivo mestre: {e}', logfile=MASTER_LOG)\n",
    "\n",
    "print_and_log(\"\\nTODOS OS CENÁRIOS FORAM EXECUTADOS COM SUCESSO.\", logfile=MASTER_LOG)\n",
    "\n",
    "# 5. Análise Consolidada com Pandas (Muito mais poderosa!)\n",
    "processed_data = []\n",
    "for scenario, result in all_results.items():\n",
    "    if result['status'] == 'Optimal':\n",
    "        plantio = result.get('plantio', {})\n",
    "        processed_data.append({\n",
    "            'Cenário': scenario,\n",
    "            'Lucro Total': result.get('lucro'),\n",
    "            'Soja Resistente (ha)': plantio.get('Hectares_Soja_Resistente'),\n",
    "            'Soja Produtiva (ha)': plantio.get('Hectares_Soja_Produtiva'),\n",
    "            'Milho Safrinha (ha)': plantio.get('Hectares_Milho_Safrinha'),\n",
    "            'Shadow Price (Área)': result.get('shadow_prices', {}).get('Restricao_Area_Nao_Compactada'),\n",
    "            'Shadow Price (Água)': result.get('shadow_prices', {}).get('Restricao_Agua'),\n",
    "            'Status': result.get('status')\n",
    "        })\n",
    "    else:\n",
    "        processed_data.append({\n",
    "            'Cenário': scenario,\n",
    "            'Status': result.get('status'),\n",
    "            'Lucro Total': None, 'Soja Resistente (ha)': None, 'Soja Produtiva (ha)': None,\n",
    "            'Milho Safrinha (ha)': None, 'Shadow Price (Área)': None, 'Shadow Price (Água)': None\n",
    "        })\n",
    "\n",
    "# Cria um DataFrame do Pandas para fácil visualização e análise\n",
    "df_results = pd.DataFrame(processed_data)\n",
    "\n",
    "print_and_log(\"\\n--- TABELA RESUMO DOS CENÁRIOS ---\", logfile=MASTER_LOG)\n",
    "print_and_log(df_results.to_string(), logfile=MASTER_LOG)\n",
    "\n",
    "# Exportar resumo CSV para fácil análise posterior (além do master log)\n",
    "try:\n",
    "    df_results.to_csv('resumo_cenarios.csv', index=False, sep=';', decimal=',')\n",
    "    print_and_log('Resumo dos cenários exportado para resumo_cenarios.csv', logfile=MASTER_LOG)\n",
    "except Exception as e:\n",
    "    print_and_log(f'Erro ao exportar resumo_cenarios.csv: {e}', logfile=MASTER_LOG)\n",
    "\n",
    "# 6. Dashboard Interativo Aprimorado com Todos os Cenários\n",
    "import dash\n",
    "from dash import html, dcc, Input, Output\n",
    "import plotly.express as px\n",
    "import plotly.graph_objects as go\n",
    "\n",
    "app = dash.Dash(__name__)\n",
    "\n",
    "app.layout = html.Div([\n",
    "    html.H1('Dashboard de Análise de Cenários de Otimização'),\n",
    "    \n",
    "    html.Label('Selecione um Cenário:'),\n",
    "    dcc.Dropdown(\n",
    "        id='scenario-dropdown',\n",
    "        options=[{'label': name.capitalize(), 'value': name} for name in all_results.keys()],\n",
    "        value='base'\n",
    "    ),\n",
    "    \n",
    "    dcc.Graph(id='plantio-graph'),\n",
    "    \n",
    "    html.H3('Preços Sombra (Valor de 1 unidade extra de recurso)'),\n",
    "    html.Table(id='shadow-table')\n",
    "])\n",
    "\n",
    "@app.callback(\n",
    "    [Output('plantio-graph', 'figure'), Output('shadow-table', 'children')],\n",
    "    [Input('scenario-dropdown', 'value')]\n",
    ")\n",
    "def update_dashboard(scenario_name):\n",
    "    res = all_results.get(scenario_name)\n",
    "    if not res or res['status'] != 'Optimal':\n",
    "        fig = go.Figure().update_layout(title=f'Cenário \"{scenario_name.capitalize()}\" não possui solução ótima.')\n",
    "        return fig, []\n",
    "\n",
    "    plantio_data = res.get('plantio', {})\n",
    "    culturas = ['Soja Resistente', 'Soja Produtiva', 'Milho Safrinha']\n",
    "    hectares = [\n",
    "        plantio_data.get('Hectares_Soja_Resistente', 0),\n",
    "        plantio_data.get('Hectares_Soja_Produtiva', 0),\n",
    "        plantio_data.get('Hectares_Milho_Safrinha', 0)\n",
    "    ]\n",
    "\n",
    "    fig = px.bar(x=culturas, y=hectares, title=f\"Plano de Plantio - Cenário {scenario_name.capitalize()} (Lucro: R$ {res.get('lucro',0):,.2f})\", labels={'x':'Cultura','y':'Hectares (ha)'})\n",
    "\n",
    "    table_header = [html.Thead(html.Tr([html.Th('Recurso'), html.Th('Preço Sombra (R$)')]))]\n",
    "    rows = []\n",
    "    for name, price in res.get('shadow_prices', {}).items():\n",
    "        if price is not None and abs(price) > 0.001:\n",
    "             rows.append(html.Tr([html.Td(name), html.Td(f'{price:,.2f}')]))\n",
    "    table_body = [html.Tbody(rows)]\n",
    "    return fig, table_header + table_body\n",
    "\n",
    "print_and_log('Dashboard definido. Execute app.run_server() em um script separado para visualizar.', logfile=MASTER_LOG)\n"
   ]
  },
  {
   "cell_type": "code",
   "execution_count": 5,
   "id": "d50181f6",
   "metadata": {},
   "outputs": [
    {
     "data": {
      "application/vnd.plotly.v1+json": {
       "config": {
        "plotlyServerURL": "https://plot.ly"
       },
       "data": [
        {
         "name": "Base",
         "type": "bar",
         "x": [
          "Soja Resistente",
          "Soja Produtiva",
          "Milho Safrinha"
         ],
         "xaxis": "x",
         "y": [
          100,
          240,
          60
         ],
         "yaxis": "y"
        },
        {
         "name": "Seca",
         "type": "bar",
         "x": [
          "Soja Resistente",
          "Soja Produtiva",
          "Milho Safrinha"
         ],
         "xaxis": "x2",
         "y": [
          60,
          186.48491,
          60
         ],
         "yaxis": "y2"
        }
       ],
       "layout": {
        "annotations": [
         {
          "font": {
           "size": 16
          },
          "showarrow": false,
          "text": "Plano de Plantio - Base",
          "x": 0.225,
          "xanchor": "center",
          "xref": "paper",
          "y": 1,
          "yanchor": "bottom",
          "yref": "paper"
         },
         {
          "font": {
           "size": 16
          },
          "showarrow": false,
          "text": "Plano de Plantio - Seca",
          "x": 0.775,
          "xanchor": "center",
          "xref": "paper",
          "y": 1,
          "yanchor": "bottom",
          "yref": "paper"
         }
        ],
        "template": {
         "data": {
          "bar": [
           {
            "error_x": {
             "color": "#2a3f5f"
            },
            "error_y": {
             "color": "#2a3f5f"
            },
            "marker": {
             "line": {
              "color": "#E5ECF6",
              "width": 0.5
             },
             "pattern": {
              "fillmode": "overlay",
              "size": 10,
              "solidity": 0.2
             }
            },
            "type": "bar"
           }
          ],
          "barpolar": [
           {
            "marker": {
             "line": {
              "color": "#E5ECF6",
              "width": 0.5
             },
             "pattern": {
              "fillmode": "overlay",
              "size": 10,
              "solidity": 0.2
             }
            },
            "type": "barpolar"
           }
          ],
          "carpet": [
           {
            "aaxis": {
             "endlinecolor": "#2a3f5f",
             "gridcolor": "white",
             "linecolor": "white",
             "minorgridcolor": "white",
             "startlinecolor": "#2a3f5f"
            },
            "baxis": {
             "endlinecolor": "#2a3f5f",
             "gridcolor": "white",
             "linecolor": "white",
             "minorgridcolor": "white",
             "startlinecolor": "#2a3f5f"
            },
            "type": "carpet"
           }
          ],
          "choropleth": [
           {
            "colorbar": {
             "outlinewidth": 0,
             "ticks": ""
            },
            "type": "choropleth"
           }
          ],
          "contour": [
           {
            "colorbar": {
             "outlinewidth": 0,
             "ticks": ""
            },
            "colorscale": [
             [
              0,
              "#0d0887"
             ],
             [
              0.1111111111111111,
              "#46039f"
             ],
             [
              0.2222222222222222,
              "#7201a8"
             ],
             [
              0.3333333333333333,
              "#9c179e"
             ],
             [
              0.4444444444444444,
              "#bd3786"
             ],
             [
              0.5555555555555556,
              "#d8576b"
             ],
             [
              0.6666666666666666,
              "#ed7953"
             ],
             [
              0.7777777777777778,
              "#fb9f3a"
             ],
             [
              0.8888888888888888,
              "#fdca26"
             ],
             [
              1,
              "#f0f921"
             ]
            ],
            "type": "contour"
           }
          ],
          "contourcarpet": [
           {
            "colorbar": {
             "outlinewidth": 0,
             "ticks": ""
            },
            "type": "contourcarpet"
           }
          ],
          "heatmap": [
           {
            "colorbar": {
             "outlinewidth": 0,
             "ticks": ""
            },
            "colorscale": [
             [
              0,
              "#0d0887"
             ],
             [
              0.1111111111111111,
              "#46039f"
             ],
             [
              0.2222222222222222,
              "#7201a8"
             ],
             [
              0.3333333333333333,
              "#9c179e"
             ],
             [
              0.4444444444444444,
              "#bd3786"
             ],
             [
              0.5555555555555556,
              "#d8576b"
             ],
             [
              0.6666666666666666,
              "#ed7953"
             ],
             [
              0.7777777777777778,
              "#fb9f3a"
             ],
             [
              0.8888888888888888,
              "#fdca26"
             ],
             [
              1,
              "#f0f921"
             ]
            ],
            "type": "heatmap"
           }
          ],
          "histogram": [
           {
            "marker": {
             "pattern": {
              "fillmode": "overlay",
              "size": 10,
              "solidity": 0.2
             }
            },
            "type": "histogram"
           }
          ],
          "histogram2d": [
           {
            "colorbar": {
             "outlinewidth": 0,
             "ticks": ""
            },
            "colorscale": [
             [
              0,
              "#0d0887"
             ],
             [
              0.1111111111111111,
              "#46039f"
             ],
             [
              0.2222222222222222,
              "#7201a8"
             ],
             [
              0.3333333333333333,
              "#9c179e"
             ],
             [
              0.4444444444444444,
              "#bd3786"
             ],
             [
              0.5555555555555556,
              "#d8576b"
             ],
             [
              0.6666666666666666,
              "#ed7953"
             ],
             [
              0.7777777777777778,
              "#fb9f3a"
             ],
             [
              0.8888888888888888,
              "#fdca26"
             ],
             [
              1,
              "#f0f921"
             ]
            ],
            "type": "histogram2d"
           }
          ],
          "histogram2dcontour": [
           {
            "colorbar": {
             "outlinewidth": 0,
             "ticks": ""
            },
            "colorscale": [
             [
              0,
              "#0d0887"
             ],
             [
              0.1111111111111111,
              "#46039f"
             ],
             [
              0.2222222222222222,
              "#7201a8"
             ],
             [
              0.3333333333333333,
              "#9c179e"
             ],
             [
              0.4444444444444444,
              "#bd3786"
             ],
             [
              0.5555555555555556,
              "#d8576b"
             ],
             [
              0.6666666666666666,
              "#ed7953"
             ],
             [
              0.7777777777777778,
              "#fb9f3a"
             ],
             [
              0.8888888888888888,
              "#fdca26"
             ],
             [
              1,
              "#f0f921"
             ]
            ],
            "type": "histogram2dcontour"
           }
          ],
          "mesh3d": [
           {
            "colorbar": {
             "outlinewidth": 0,
             "ticks": ""
            },
            "type": "mesh3d"
           }
          ],
          "parcoords": [
           {
            "line": {
             "colorbar": {
              "outlinewidth": 0,
              "ticks": ""
             }
            },
            "type": "parcoords"
           }
          ],
          "pie": [
           {
            "automargin": true,
            "type": "pie"
           }
          ],
          "scatter": [
           {
            "fillpattern": {
             "fillmode": "overlay",
             "size": 10,
             "solidity": 0.2
            },
            "type": "scatter"
           }
          ],
          "scatter3d": [
           {
            "line": {
             "colorbar": {
              "outlinewidth": 0,
              "ticks": ""
             }
            },
            "marker": {
             "colorbar": {
              "outlinewidth": 0,
              "ticks": ""
             }
            },
            "type": "scatter3d"
           }
          ],
          "scattercarpet": [
           {
            "marker": {
             "colorbar": {
              "outlinewidth": 0,
              "ticks": ""
             }
            },
            "type": "scattercarpet"
           }
          ],
          "scattergeo": [
           {
            "marker": {
             "colorbar": {
              "outlinewidth": 0,
              "ticks": ""
             }
            },
            "type": "scattergeo"
           }
          ],
          "scattergl": [
           {
            "marker": {
             "colorbar": {
              "outlinewidth": 0,
              "ticks": ""
             }
            },
            "type": "scattergl"
           }
          ],
          "scattermap": [
           {
            "marker": {
             "colorbar": {
              "outlinewidth": 0,
              "ticks": ""
             }
            },
            "type": "scattermap"
           }
          ],
          "scattermapbox": [
           {
            "marker": {
             "colorbar": {
              "outlinewidth": 0,
              "ticks": ""
             }
            },
            "type": "scattermapbox"
           }
          ],
          "scatterpolar": [
           {
            "marker": {
             "colorbar": {
              "outlinewidth": 0,
              "ticks": ""
             }
            },
            "type": "scatterpolar"
           }
          ],
          "scatterpolargl": [
           {
            "marker": {
             "colorbar": {
              "outlinewidth": 0,
              "ticks": ""
             }
            },
            "type": "scatterpolargl"
           }
          ],
          "scatterternary": [
           {
            "marker": {
             "colorbar": {
              "outlinewidth": 0,
              "ticks": ""
             }
            },
            "type": "scatterternary"
           }
          ],
          "surface": [
           {
            "colorbar": {
             "outlinewidth": 0,
             "ticks": ""
            },
            "colorscale": [
             [
              0,
              "#0d0887"
             ],
             [
              0.1111111111111111,
              "#46039f"
             ],
             [
              0.2222222222222222,
              "#7201a8"
             ],
             [
              0.3333333333333333,
              "#9c179e"
             ],
             [
              0.4444444444444444,
              "#bd3786"
             ],
             [
              0.5555555555555556,
              "#d8576b"
             ],
             [
              0.6666666666666666,
              "#ed7953"
             ],
             [
              0.7777777777777778,
              "#fb9f3a"
             ],
             [
              0.8888888888888888,
              "#fdca26"
             ],
             [
              1,
              "#f0f921"
             ]
            ],
            "type": "surface"
           }
          ],
          "table": [
           {
            "cells": {
             "fill": {
              "color": "#EBF0F8"
             },
             "line": {
              "color": "white"
             }
            },
            "header": {
             "fill": {
              "color": "#C8D4E3"
             },
             "line": {
              "color": "white"
             }
            },
            "type": "table"
           }
          ]
         },
         "layout": {
          "annotationdefaults": {
           "arrowcolor": "#2a3f5f",
           "arrowhead": 0,
           "arrowwidth": 1
          },
          "autotypenumbers": "strict",
          "coloraxis": {
           "colorbar": {
            "outlinewidth": 0,
            "ticks": ""
           }
          },
          "colorscale": {
           "diverging": [
            [
             0,
             "#8e0152"
            ],
            [
             0.1,
             "#c51b7d"
            ],
            [
             0.2,
             "#de77ae"
            ],
            [
             0.3,
             "#f1b6da"
            ],
            [
             0.4,
             "#fde0ef"
            ],
            [
             0.5,
             "#f7f7f7"
            ],
            [
             0.6,
             "#e6f5d0"
            ],
            [
             0.7,
             "#b8e186"
            ],
            [
             0.8,
             "#7fbc41"
            ],
            [
             0.9,
             "#4d9221"
            ],
            [
             1,
             "#276419"
            ]
           ],
           "sequential": [
            [
             0,
             "#0d0887"
            ],
            [
             0.1111111111111111,
             "#46039f"
            ],
            [
             0.2222222222222222,
             "#7201a8"
            ],
            [
             0.3333333333333333,
             "#9c179e"
            ],
            [
             0.4444444444444444,
             "#bd3786"
            ],
            [
             0.5555555555555556,
             "#d8576b"
            ],
            [
             0.6666666666666666,
             "#ed7953"
            ],
            [
             0.7777777777777778,
             "#fb9f3a"
            ],
            [
             0.8888888888888888,
             "#fdca26"
            ],
            [
             1,
             "#f0f921"
            ]
           ],
           "sequentialminus": [
            [
             0,
             "#0d0887"
            ],
            [
             0.1111111111111111,
             "#46039f"
            ],
            [
             0.2222222222222222,
             "#7201a8"
            ],
            [
             0.3333333333333333,
             "#9c179e"
            ],
            [
             0.4444444444444444,
             "#bd3786"
            ],
            [
             0.5555555555555556,
             "#d8576b"
            ],
            [
             0.6666666666666666,
             "#ed7953"
            ],
            [
             0.7777777777777778,
             "#fb9f3a"
            ],
            [
             0.8888888888888888,
             "#fdca26"
            ],
            [
             1,
             "#f0f921"
            ]
           ]
          },
          "colorway": [
           "#636efa",
           "#EF553B",
           "#00cc96",
           "#ab63fa",
           "#FFA15A",
           "#19d3f3",
           "#FF6692",
           "#B6E880",
           "#FF97FF",
           "#FECB52"
          ],
          "font": {
           "color": "#2a3f5f"
          },
          "geo": {
           "bgcolor": "white",
           "lakecolor": "white",
           "landcolor": "#E5ECF6",
           "showlakes": true,
           "showland": true,
           "subunitcolor": "white"
          },
          "hoverlabel": {
           "align": "left"
          },
          "hovermode": "closest",
          "mapbox": {
           "style": "light"
          },
          "paper_bgcolor": "white",
          "plot_bgcolor": "#E5ECF6",
          "polar": {
           "angularaxis": {
            "gridcolor": "white",
            "linecolor": "white",
            "ticks": ""
           },
           "bgcolor": "#E5ECF6",
           "radialaxis": {
            "gridcolor": "white",
            "linecolor": "white",
            "ticks": ""
           }
          },
          "scene": {
           "xaxis": {
            "backgroundcolor": "#E5ECF6",
            "gridcolor": "white",
            "gridwidth": 2,
            "linecolor": "white",
            "showbackground": true,
            "ticks": "",
            "zerolinecolor": "white"
           },
           "yaxis": {
            "backgroundcolor": "#E5ECF6",
            "gridcolor": "white",
            "gridwidth": 2,
            "linecolor": "white",
            "showbackground": true,
            "ticks": "",
            "zerolinecolor": "white"
           },
           "zaxis": {
            "backgroundcolor": "#E5ECF6",
            "gridcolor": "white",
            "gridwidth": 2,
            "linecolor": "white",
            "showbackground": true,
            "ticks": "",
            "zerolinecolor": "white"
           }
          },
          "shapedefaults": {
           "line": {
            "color": "#2a3f5f"
           }
          },
          "ternary": {
           "aaxis": {
            "gridcolor": "white",
            "linecolor": "white",
            "ticks": ""
           },
           "baxis": {
            "gridcolor": "white",
            "linecolor": "white",
            "ticks": ""
           },
           "bgcolor": "#E5ECF6",
           "caxis": {
            "gridcolor": "white",
            "linecolor": "white",
            "ticks": ""
           }
          },
          "title": {
           "x": 0.05
          },
          "xaxis": {
           "automargin": true,
           "gridcolor": "white",
           "linecolor": "white",
           "ticks": "",
           "title": {
            "standoff": 15
           },
           "zerolinecolor": "white",
           "zerolinewidth": 2
          },
          "yaxis": {
           "automargin": true,
           "gridcolor": "white",
           "linecolor": "white",
           "ticks": "",
           "title": {
            "standoff": 15
           },
           "zerolinecolor": "white",
           "zerolinewidth": 2
          }
         }
        },
        "title": {
         "text": "Comparação de Planos de Plantio"
        },
        "xaxis": {
         "anchor": "y",
         "domain": [
          0,
          0.45
         ]
        },
        "xaxis2": {
         "anchor": "y2",
         "domain": [
          0.55,
          1
         ]
        },
        "yaxis": {
         "anchor": "x",
         "domain": [
          0,
          1
         ]
        },
        "yaxis2": {
         "anchor": "x2",
         "domain": [
          0,
          1
         ]
        }
       }
      }
     },
     "metadata": {},
     "output_type": "display_data"
    }
   ],
   "source": [
    "# 5. Visualize Results with Plotly\n",
    "import plotly.graph_objects as go\n",
    "from plotly.subplots import make_subplots\n",
    "\n",
    "\n",
    "def plot_comparison(results_base, results_seca):\n",
    "    if not results_base or not results_seca:\n",
    "        print_and_log('Dados para comparação incompletos; ignorando plot de comparação.')\n",
    "        return\n",
    "\n",
    "    if results_base.get('status') == 'Optimal' and results_seca.get('status') == 'Optimal':\n",
    "        fig = make_subplots(rows=1, cols=2, subplot_titles=('Plano de Plantio - Base', 'Plano de Plantio - Seca'))\n",
    "        \n",
    "        culturas = ['Soja Resistente', 'Soja Produtiva', 'Milho Safrinha']\n",
    "        base_values = [\n",
    "            results_base['plantio'].get('Hectares_Soja_Resistente', 0),\n",
    "            results_base['plantio'].get('Hectares_Soja_Produtiva', 0),\n",
    "            results_base['plantio'].get('Hectares_Milho_Safrinha', 0)\n",
    "        ]\n",
    "        seca_values = [\n",
    "            results_seca['plantio'].get('Hectares_Soja_Resistente', 0),\n",
    "            results_seca['plantio'].get('Hectares_Soja_Produtiva', 0),\n",
    "            results_seca['plantio'].get('Hectares_Milho_Safrinha', 0)\n",
    "        ]\n",
    "        \n",
    "        fig.add_trace(go.Bar(x=culturas, y=base_values, name='Base'), row=1, col=1)\n",
    "        fig.add_trace(go.Bar(x=culturas, y=seca_values, name='Seca'), row=1, col=2)\n",
    "        \n",
    "        fig.update_layout(title_text='Comparação de Planos de Plantio')\n",
    "        fig.show()\n",
    "    else:\n",
    "        print_and_log('Resultados não ótimos para plotar.')\n",
    "\n",
    "# Substitui a chamada direta anterior por uma versão segura que usa all_results\n",
    "results_base = all_results.get('base') if 'all_results' in globals() else None\n",
    "results_seca = all_results.get('seca') if 'all_results' in globals() else None\n",
    "plot_comparison(results_base, results_seca)\n"
   ]
  },
  {
   "cell_type": "code",
   "execution_count": 6,
   "id": "4e473d48",
   "metadata": {},
   "outputs": [
    {
     "name": "stdout",
     "output_type": "stream",
     "text": [
      "[2025-10-16 15:42:43] Dashboard definido. Execute app.run_server() em um script separado para visualizar.\n"
     ]
    },
    {
     "data": {
      "text/html": [
       "\n",
       "        <iframe\n",
       "            width=\"100%\"\n",
       "            height=\"650\"\n",
       "            src=\"http://127.0.0.1:8050/\"\n",
       "            frameborder=\"0\"\n",
       "            allowfullscreen\n",
       "            \n",
       "        ></iframe>\n",
       "        "
      ],
      "text/plain": [
       "<IPython.lib.display.IFrame at 0x7e167c17c080>"
      ]
     },
     "metadata": {},
     "output_type": "display_data"
    }
   ],
   "source": [
    "# 6. Create Dash Dashboard\n",
    "import dash\n",
    "from dash import html, dcc, Input, Output\n",
    "import plotly.express as px\n",
    "from jupyter_dash import JupyterDash\n",
    "\n",
    "\n",
    "app = dash.Dash(__name__)\n",
    "\n",
    "app.layout = html.Div([\n",
    "    html.H1('Dashboard de Otimização de Culturas'),\n",
    "    dcc.Dropdown(\n",
    "        id='scenario-dropdown',\n",
    "        options=[\n",
    "            {'label': 'Base', 'value': 'base'},\n",
    "            {'label': 'Seca', 'value': 'seca'}\n",
    "        ],\n",
    "        value='base'\n",
    "    ),\n",
    "    dcc.Graph(id='plantio-graph'),\n",
    "    html.Table(id='shadow-table')\n",
    "])\n",
    "\n",
    "@app.callback(\n",
    "    [Output('plantio-graph', 'figure'), Output('shadow-table', 'children')],\n",
    "    [Input('scenario-dropdown', 'value')]\n",
    ")\n",
    "def update_dashboard(scenario):\n",
    "    if scenario == 'base':\n",
    "        res = results_base\n",
    "    else:\n",
    "        res = results_seca\n",
    "    \n",
    "    if res['status'] == 'Optimal':\n",
    "        fig = px.bar(x=['Soja Resistente', 'Soja Produtiva', 'Milho Safrinha'], \n",
    "                     y=[res['plantio']['Hectares_Soja_Resistente'], res['plantio']['Hectares_Soja_Produtiva'], res['plantio']['Hectares_Milho_Safrinha']],\n",
    "                     title=f'Plano de Plantio - {scenario.capitalize()}')\n",
    "        \n",
    "        table = [html.Tr([html.Th('Recurso'), html.Th('Preço Sombra')])]\n",
    "        for name, price in res['shadow_prices'].items():\n",
    "            table.append(html.Tr([html.Td(name), html.Td(f'R$ {price:.2f}' if price else 'N/A')]))\n",
    "        \n",
    "        return fig, table\n",
    "    else:\n",
    "        return {}, []\n",
    "\n",
    "# Para notebook, não executar app.run_server(), apenas definir\n",
    "print_and_log('Dashboard definido. Execute app.run_server() em um script separado para visualizar.')\n",
    "\n",
    "app.run(mode=\"inline\", debug=True)"
   ]
  },
  {
   "cell_type": "code",
   "execution_count": 7,
   "id": "277482dd",
   "metadata": {},
   "outputs": [],
   "source": [
    "# 7. Export Results to Spreadsheets\n",
    "import pandas as pd\n",
    "\n",
    "\n",
    "def export_results(results_base, results_seca, master_log='outputs-otimizacao_mix_culturas_v3_gestao_risco.txt'):\n",
    "    # Exportar plantio\n",
    "    plantio_df = pd.DataFrame(\n",
    "        {\n",
    "            \"Cenário\": [\"Base\", \"Seca\"],\n",
    "            \"Soja Resistente\": [\n",
    "                results_base[\"plantio\"][\"Hectares_Soja_Resistente\"],\n",
    "                results_seca[\"plantio\"][\"Hectares_Soja_Resistente\"],\n",
    "            ],\n",
    "            \"Soja Produtiva\": [\n",
    "                results_base[\"plantio\"][\"Hectares_Soja_Produtiva\"],\n",
    "                results_seca[\"plantio\"][\"Hectares_Soja_Produtiva\"],\n",
    "            ],\n",
    "            \"Milho Safrinha\": [\n",
    "                results_base[\"plantio\"][\"Hectares_Milho_Safrinha\"],\n",
    "                results_seca[\"plantio\"][\"Hectares_Milho_Safrinha\"],\n",
    "            ],\n",
    "            \"Lucro\": [results_base[\"lucro\"], results_seca[\"lucro\"]],\n",
    "        }\n",
    "    )\n",
    "    # ALTERADO: to_excel('resultados_plantio.xlsx', index=False) para to_csv()\n",
    "    plantio_df.to_csv(\"resultados_plantio.csv\", index=False, decimal=\",\", sep=\";\")\n",
    "\n",
    "    # Exportar shadow prices\n",
    "    shadow_df = pd.DataFrame(\n",
    "        {\n",
    "            \"Cenário\": [\"Base\"] * len(results_base[\"shadow_prices\"])\n",
    "            + [\"Seca\"] * len(results_seca[\"shadow_prices\"]),\n",
    "            \"Recurso\": list(results_base[\"shadow_prices\"].keys())\n",
    "            + list(results_seca[\"shadow_prices\"].keys()),\n",
    "            \"Preço Sombra\": list(results_base[\"shadow_prices\"].values())\n",
    "            + list(results_seca[\"shadow_prices\"].values()),\n",
    "        }\n",
    "    )\n",
    "    # ALTERADO: to_excel('resultados_shadow.xlsx', index=False) para to_csv()\n",
    "    shadow_df.to_csv(\"resultados_shadow.csv\", index=False, decimal=\",\", sep=\";\")\n",
    "\n",
    "    # Também anotar no arquivo mestre tudo o que foi exportado\n",
    "    try:\n",
    "        with open(master_log, 'a', encoding='utf-8') as mf:\n",
    "            mf.write('\\n' + '='*40 + '\\n')\n",
    "            mf.write('Exportação de resultados (plantio e preços sombra)\\n')\n",
    "            mf.write('\\nPlantio CSV (resultados_plantio.csv):\\n')\n",
    "            mf.write(plantio_df.to_string(index=False) + '\\n')\n",
    "            mf.write('\\nShadow Prices CSV (resultados_shadow.csv):\\n')\n",
    "            mf.write(shadow_df.to_string(index=False) + '\\n')\n",
    "    except Exception as e:\n",
    "        print_and_log(f'Erro ao gravar exportação no arquivo mestre: {e}', logfile=master_log)\n",
    "\n",
    "    print_and_log(\"Resultados exportados para CSV.\", logfile=master_log)\n",
    "\n",
    "\n",
    "# Assumindo que results_base, results_seca e print_and_log estão definidos\n",
    "# export_results(results_base, results_seca)\n"
   ]
  },
  {
   "cell_type": "code",
   "execution_count": 8,
   "id": "8c0f0dde",
   "metadata": {},
   "outputs": [
    {
     "name": "stdout",
     "output_type": "stream",
     "text": [
      "[2025-10-16 15:42:43] ---- Simulações para MF = 5 ha ----\n",
      "[2025-10-16 15:42:43] Executando cenário pequena (MF=5): recursos={'AREA_TOTAL_DISPONIVEL_HA': 12, 'ORCAMENTO_TOTAL_DISPONIVEL': 26400, 'AGUA_TOTAL_DISPONIVEL_M3': 6000, 'POTASSIO_DISPONIVEL_KG': 1080, 'FOSFORO_DISPONIVEL_KG': 1008, 'AREA_NAO_COMPACTADA_HA': 12, 'HORAS_MAQUINA_DISPONIVEIS': 144, 'CAPACIDADE_SILO_TON': 60}\n",
      "[2025-10-16 15:42:43] Dados mock gerados com sucesso. Amostra das primeiras linhas:\n",
      "[2025-10-16 15:42:43] [{\"id_talhao\":1,\"cultura\":\"Milho_Safrinha\",\"produtividade_ton_ha\":5.2898146975,\"custo_ha\":3166.429310426,\"uso_agua_m3_ha\":757.3338456894,\"demanda_k_kg_ha\":128.2676505354,\"demanda_p_kg_ha\":102.3053712049,\"horas_maquina_ha\":14.3371977926},{\"id_talhao\":2,\"cultura\":\"Soja_Resistente\",\"produtividade_ton_ha\":2.8403260554,\"custo_ha\":1734.2119190614,\"uso_agua_m3_ha\":430.0444073899,\"demanda_k_kg_ha\":70.0360831083,\"demanda_p_kg_ha\":64.7504323609,\"horas_maquina_ha\":9.693557},{\"id_talhao\":3,\"cultura\":\"Milho_Safrinha\",\"produtividade_ton_ha\":4.5891231629,\"custo_ha\":2601.484435741,\"uso_agua_m3_ha\":708.0206431971,\"demanda_k_kg_ha\":118.3480263633,\"demanda_p_kg_ha\":101.1328834408,\"horas_maquina_ha\":15.8967940331},{\"id_talhao\":4,\"cultura\":\"Milho_Safrinha\",\"produtividade_ton_ha\":4.6262106431,\"custo_ha\":2487.0991018838,\"uso_agua_m3_ha\":776.0188026112,\"demanda_k_kg_ha\":113.8337757348,\"demanda_p_kg_ha\":104.3222953372,\"horas_maquina_ha\":12.7912832419},{\"id_talhao\":5,\"cultura\":\"Soja_Resistente\",\"produtividade_ton_ha\":3.3868773905,\"custo_ha\":1974.9454120855,\"uso_agua_m3_ha\":417.3551613794,\"demanda_k_kg_ha\":77.2012691383,\"demanda_p_kg_ha\":64.1368569142,\"horas_maquina_ha\":11.2058789963}]\n",
      "[2025-10-16 15:42:43] Estatísticas resumidas:\n",
      "[2025-10-16 15:42:43] {\"id_talhao\":{\"count\":1500.0,\"mean\":750.5,\"std\":433.1570154113,\"min\":1.0,\"25%\":375.75,\"50%\":750.5,\"75%\":1125.25,\"max\":1500.0},\"produtividade_ton_ha\":{\"count\":1500.0,\"mean\":4.5853537013,\"std\":1.0406733203,\"min\":1.7595955856,\"25%\":3.7385722281,\"50%\":4.6130691172,\"75%\":5.3607676667,\"max\":7.4060640814},\"custo_ha\":{\"count\":1500.0,\"mean\":2351.4644276972,\"std\":465.4353846201,\"min\":1366.7593192211,\"25%\":1880.8905659273,\"50%\":2436.7548885404,\"75%\":2709.3148137166,\"max\":3619.0998362783},\"uso_agua_m3_ha\":{\"count\":1500.0,\"mean\":578.0000463065,\"std\":120.2683616253,\"min\":276.4285054031,\"25%\":475.7297099553,\"50%\":582.2569558677,\"75%\":666.3207263756,\"max\":937.8689122364},\"demanda_k_kg_ha\":{\"count\":1500.0,\"mean\":99.5619699325,\"std\":21.1116524273,\"min\":46.7524428009,\"25%\":83.3234960852,\"50%\":96.9238593126,\"75%\":114.9629599872,\"max\":163.3748803961},\"demanda_p_kg_ha\":{\"count\":1500.0,\"mean\":86.2645179664,\"std\":16.2456499817,\"min\":48.6853414314,\"25%\":73.4123875867,\"50%\":85.9976105503,\"75%\":98.2608900162,\"max\":142.5287801315},\"horas_maquina_ha\":{\"count\":1500.0,\"mean\":12.2118627786,\"std\":2.6835103563,\"min\":5.6501593296,\"25%\":10.1275294371,\"50%\":11.9104242286,\"75%\":14.1756398882,\"max\":20.5253690655}}\n",
      "[2025-10-16 15:42:43] Parâmetros do modelo (médias por cultura):\n",
      "[2025-10-16 15:42:43] {\"id_talhao\":{\"Milho_Safrinha\":748.4241803279,\"Soja_Produtiva\":759.4573170732,\"Soja_Resistente\":743.9730769231},\"produtividade_ton_ha\":{\"Milho_Safrinha\":5.533157211,\"Soja_Produtiva\":4.786231101,\"Soja_Resistente\":3.5058156371},\"custo_ha\":{\"Milho_Safrinha\":2789.0142778524,\"Soja_Produtiva\":2502.2177193732,\"Soja_Resistente\":1798.2049154274},\"uso_agua_m3_ha\":{\"Milho_Safrinha\":698.1021628641,\"Soja_Produtiva\":596.5656765211,\"Soja_Resistente\":447.7228867956},\"demanda_k_kg_ha\":{\"Milho_Safrinha\":121.0005674148,\"Soja_Produtiva\":98.9215618278,\"Soja_Resistente\":80.0485953483},\"demanda_p_kg_ha\":{\"Milho_Safrinha\":99.9392660123,\"Soja_Produtiva\":90.0146471493,\"Soja_Resistente\":69.8830937271},\"horas_maquina_ha\":{\"Milho_Safrinha\":14.9393585248,\"Soja_Produtiva\":11.8533116271,\"Soja_Resistente\":9.9914574755},\"lucro_ha\":{\"Milho_Safrinha\":4404.0900964721,\"Soja_Produtiva\":8027.4907027878,\"Soja_Resistente\":5914.5894862735}}\n",
      "[2025-10-16 15:42:43] Recursos carregados: {'AREA_TOTAL_DISPONIVEL_HA': 12, 'ORCAMENTO_TOTAL_DISPONIVEL': 26400, 'AGUA_TOTAL_DISPONIVEL_M3': 6000, 'POTASSIO_DISPONIVEL_KG': 1080, 'FOSFORO_DISPONIVEL_KG': 1008, 'AREA_NAO_COMPACTADA_HA': 12, 'HORAS_MAQUINA_DISPONIVEIS': 144, 'CAPACIDADE_SILO_TON': 60}\n",
      "[2025-10-16 15:42:43] Modelo de otimização configurado.\n",
      "[2025-10-16 15:42:43] Iniciando solução do modelo...\n",
      "Welcome to the CBC MILP Solver \n",
      "Version: 2.10.3 \n",
      "Build Date: Dec 15 2019 \n",
      "\n",
      "command line - /home/vinicius/Downloads/estudo/po/PL/PL/venv/lib/python3.12/site-packages/pulp/apis/../solverdir/cbc/linux/i64/cbc /tmp/98ce1b8a127a4c8e85ff68d22ea72584-pulp.mps -max -timeMode elapsed -branch -printingOptions all -solution /tmp/98ce1b8a127a4c8e85ff68d22ea72584-pulp.sol (default strategy 1)\n",
      "At line 2 NAME          MODEL\n",
      "At line 3 ROWS\n",
      "At line 17 COLUMNS\n",
      "At line 49 RHS\n",
      "At line 62 BOUNDS\n",
      "At line 63 ENDATA\n",
      "Problem MODEL has 12 rows, 3 columns and 28 elements\n",
      "Coin0008I MODEL read with 0 errors\n",
      "Option for timeMode changed from cpu to elapsed\n",
      "Presolve 7 (-5) rows, 3 (0) columns and 21 (-7) elements\n",
      "0  Obj 33023.107 Dual inf 18346.17 (3)\n",
      "3  Obj 71557.503\n",
      "Optimal - objective value 71557.503\n",
      "After Postsolve, objective 71557.503, infeasibilities - dual 0 (0), primal 0 (0)\n",
      "Optimal objective 71557.50345 - 3 iterations time 0.002, Presolve 0.00\n",
      "Option for printingOptions changed from normal to all\n",
      "Total time (CPU seconds):       0.00   (Wallclock seconds):       0.00\n",
      "\n",
      "[2025-10-16 15:42:43] Status do solver (raw): 1\n",
      "[2025-10-16 15:42:43] Status da otimização: Optimal\n",
      "[2025-10-16 15:42:43] Plantio (resultado):\n",
      "[2025-10-16 15:42:43] {'Hectares_Soja_Resistente': 1.8, 'Hectares_Soja_Produtiva': 6.6003042, 'Hectares_Milho_Safrinha': 1.8}\n",
      "[2025-10-16 15:42:43] Preços sombra:\n",
      "[2025-10-16 15:42:43] {'Minimo_Soja_Resistente': -110.04695, 'Minimo_Soja_Produtiva': -0.0, 'Minimo_Milho_Safrinha': -4989.6931, 'Risco_Maximo_Soja_Produtiva': -0.0, 'Restricao_Area_Total': -0.0, 'Restricao_Area_Nao_Compactada': -0.0, 'Restricao_Orcamento': -0.0, 'Restricao_Agua': 13.456173, 'Restricao_Potassio': -0.0, 'Restricao_Fosforo': -0.0, 'Restricao_Horas_Maquina': -0.0, 'Restricao_Armazenagem': -0.0}\n",
      "[2025-10-16 15:42:43] Resultados para MF=5 tamanho=pequena adicionados em resultados_propriedades_simulacao.txt\n",
      "[2025-10-16 15:42:43] Executando cenário media (MF=5): recursos={'AREA_TOTAL_DISPONIVEL_HA': 50, 'ORCAMENTO_TOTAL_DISPONIVEL': 110000, 'AGUA_TOTAL_DISPONIVEL_M3': 25000, 'POTASSIO_DISPONIVEL_KG': 4500, 'FOSFORO_DISPONIVEL_KG': 4200, 'AREA_NAO_COMPACTADA_HA': 50, 'HORAS_MAQUINA_DISPONIVEIS': 600, 'CAPACIDADE_SILO_TON': 250}\n",
      "[2025-10-16 15:42:43] Dados mock gerados com sucesso. Amostra das primeiras linhas:\n",
      "[2025-10-16 15:42:43] [{\"id_talhao\":1,\"cultura\":\"Milho_Safrinha\",\"produtividade_ton_ha\":5.2898146975,\"custo_ha\":3166.429310426,\"uso_agua_m3_ha\":757.3338456894,\"demanda_k_kg_ha\":128.2676505354,\"demanda_p_kg_ha\":102.3053712049,\"horas_maquina_ha\":14.3371977926},{\"id_talhao\":2,\"cultura\":\"Soja_Resistente\",\"produtividade_ton_ha\":2.8403260554,\"custo_ha\":1734.2119190614,\"uso_agua_m3_ha\":430.0444073899,\"demanda_k_kg_ha\":70.0360831083,\"demanda_p_kg_ha\":64.7504323609,\"horas_maquina_ha\":9.693557},{\"id_talhao\":3,\"cultura\":\"Milho_Safrinha\",\"produtividade_ton_ha\":4.5891231629,\"custo_ha\":2601.484435741,\"uso_agua_m3_ha\":708.0206431971,\"demanda_k_kg_ha\":118.3480263633,\"demanda_p_kg_ha\":101.1328834408,\"horas_maquina_ha\":15.8967940331},{\"id_talhao\":4,\"cultura\":\"Milho_Safrinha\",\"produtividade_ton_ha\":4.6262106431,\"custo_ha\":2487.0991018838,\"uso_agua_m3_ha\":776.0188026112,\"demanda_k_kg_ha\":113.8337757348,\"demanda_p_kg_ha\":104.3222953372,\"horas_maquina_ha\":12.7912832419},{\"id_talhao\":5,\"cultura\":\"Soja_Resistente\",\"produtividade_ton_ha\":3.3868773905,\"custo_ha\":1974.9454120855,\"uso_agua_m3_ha\":417.3551613794,\"demanda_k_kg_ha\":77.2012691383,\"demanda_p_kg_ha\":64.1368569142,\"horas_maquina_ha\":11.2058789963}]\n",
      "[2025-10-16 15:42:43] Estatísticas resumidas:\n",
      "[2025-10-16 15:42:43] {\"id_talhao\":{\"count\":1500.0,\"mean\":750.5,\"std\":433.1570154113,\"min\":1.0,\"25%\":375.75,\"50%\":750.5,\"75%\":1125.25,\"max\":1500.0},\"produtividade_ton_ha\":{\"count\":1500.0,\"mean\":4.5853537013,\"std\":1.0406733203,\"min\":1.7595955856,\"25%\":3.7385722281,\"50%\":4.6130691172,\"75%\":5.3607676667,\"max\":7.4060640814},\"custo_ha\":{\"count\":1500.0,\"mean\":2351.4644276972,\"std\":465.4353846201,\"min\":1366.7593192211,\"25%\":1880.8905659273,\"50%\":2436.7548885404,\"75%\":2709.3148137166,\"max\":3619.0998362783},\"uso_agua_m3_ha\":{\"count\":1500.0,\"mean\":578.0000463065,\"std\":120.2683616253,\"min\":276.4285054031,\"25%\":475.7297099553,\"50%\":582.2569558677,\"75%\":666.3207263756,\"max\":937.8689122364},\"demanda_k_kg_ha\":{\"count\":1500.0,\"mean\":99.5619699325,\"std\":21.1116524273,\"min\":46.7524428009,\"25%\":83.3234960852,\"50%\":96.9238593126,\"75%\":114.9629599872,\"max\":163.3748803961},\"demanda_p_kg_ha\":{\"count\":1500.0,\"mean\":86.2645179664,\"std\":16.2456499817,\"min\":48.6853414314,\"25%\":73.4123875867,\"50%\":85.9976105503,\"75%\":98.2608900162,\"max\":142.5287801315},\"horas_maquina_ha\":{\"count\":1500.0,\"mean\":12.2118627786,\"std\":2.6835103563,\"min\":5.6501593296,\"25%\":10.1275294371,\"50%\":11.9104242286,\"75%\":14.1756398882,\"max\":20.5253690655}}\n",
      "[2025-10-16 15:42:43] Parâmetros do modelo (médias por cultura):\n",
      "[2025-10-16 15:42:43] {\"id_talhao\":{\"Milho_Safrinha\":748.4241803279,\"Soja_Produtiva\":759.4573170732,\"Soja_Resistente\":743.9730769231},\"produtividade_ton_ha\":{\"Milho_Safrinha\":5.533157211,\"Soja_Produtiva\":4.786231101,\"Soja_Resistente\":3.5058156371},\"custo_ha\":{\"Milho_Safrinha\":2789.0142778524,\"Soja_Produtiva\":2502.2177193732,\"Soja_Resistente\":1798.2049154274},\"uso_agua_m3_ha\":{\"Milho_Safrinha\":698.1021628641,\"Soja_Produtiva\":596.5656765211,\"Soja_Resistente\":447.7228867956},\"demanda_k_kg_ha\":{\"Milho_Safrinha\":121.0005674148,\"Soja_Produtiva\":98.9215618278,\"Soja_Resistente\":80.0485953483},\"demanda_p_kg_ha\":{\"Milho_Safrinha\":99.9392660123,\"Soja_Produtiva\":90.0146471493,\"Soja_Resistente\":69.8830937271},\"horas_maquina_ha\":{\"Milho_Safrinha\":14.9393585248,\"Soja_Produtiva\":11.8533116271,\"Soja_Resistente\":9.9914574755},\"lucro_ha\":{\"Milho_Safrinha\":4404.0900964721,\"Soja_Produtiva\":8027.4907027878,\"Soja_Resistente\":5914.5894862735}}\n",
      "[2025-10-16 15:42:43] Recursos carregados: {'AREA_TOTAL_DISPONIVEL_HA': 50, 'ORCAMENTO_TOTAL_DISPONIVEL': 110000, 'AGUA_TOTAL_DISPONIVEL_M3': 25000, 'POTASSIO_DISPONIVEL_KG': 4500, 'FOSFORO_DISPONIVEL_KG': 4200, 'AREA_NAO_COMPACTADA_HA': 50, 'HORAS_MAQUINA_DISPONIVEIS': 600, 'CAPACIDADE_SILO_TON': 250}\n",
      "[2025-10-16 15:42:43] Modelo de otimização configurado.\n",
      "[2025-10-16 15:42:43] Iniciando solução do modelo...\n",
      "Welcome to the CBC MILP Solver \n",
      "Version: 2.10.3 \n",
      "Build Date: Dec 15 2019 \n",
      "\n",
      "command line - /home/vinicius/Downloads/estudo/po/PL/PL/venv/lib/python3.12/site-packages/pulp/apis/../solverdir/cbc/linux/i64/cbc /tmp/b274ef2f7bfb44a9ad3e9eed2c2043c7-pulp.mps -max -timeMode elapsed -branch -printingOptions all -solution /tmp/b274ef2f7bfb44a9ad3e9eed2c2043c7-pulp.sol (default strategy 1)\n",
      "At line 2 NAME          MODEL\n",
      "At line 3 ROWS\n",
      "At line 17 COLUMNS\n",
      "At line 49 RHS\n",
      "At line 62 BOUNDS\n",
      "At line 63 ENDATA\n",
      "Problem MODEL has 12 rows, 3 columns and 28 elements\n",
      "Coin0008I MODEL read with 0 errors\n",
      "Option for timeMode changed from cpu to elapsed\n",
      "Presolve 7 (-5) rows, 3 (0) columns and 21 (-7) elements\n",
      "0  Obj 137596.28 Dual inf 18346.17 (3)\n",
      "3  Obj 298156.26\n",
      "Optimal - objective value 298156.26\n",
      "After Postsolve, objective 298156.26, infeasibilities - dual 0 (0), primal 0 (0)\n",
      "Optimal objective 298156.2644 - 3 iterations time 0.002, Presolve 0.00\n",
      "Option for printingOptions changed from normal to all\n",
      "Total time (CPU seconds):       0.00   (Wallclock seconds):       0.00\n",
      "\n",
      "[2025-10-16 15:42:43] Status do solver (raw): 1\n",
      "[2025-10-16 15:42:43] Status da otimização: Optimal\n",
      "[2025-10-16 15:42:43] Plantio (resultado):\n",
      "[2025-10-16 15:42:43] {'Hectares_Soja_Resistente': 7.5, 'Hectares_Soja_Produtiva': 27.501267, 'Hectares_Milho_Safrinha': 7.5}\n",
      "[2025-10-16 15:42:43] Preços sombra:\n",
      "[2025-10-16 15:42:43] {'Minimo_Soja_Resistente': -110.04695, 'Minimo_Soja_Produtiva': -0.0, 'Minimo_Milho_Safrinha': -4989.6931, 'Risco_Maximo_Soja_Produtiva': -0.0, 'Restricao_Area_Total': -0.0, 'Restricao_Area_Nao_Compactada': -0.0, 'Restricao_Orcamento': -0.0, 'Restricao_Agua': 13.456173, 'Restricao_Potassio': -0.0, 'Restricao_Fosforo': -0.0, 'Restricao_Horas_Maquina': -0.0, 'Restricao_Armazenagem': -0.0}\n",
      "[2025-10-16 15:42:43] Resultados para MF=5 tamanho=media adicionados em resultados_propriedades_simulacao.txt\n",
      "[2025-10-16 15:42:43] Executando cenário grande (MF=5): recursos={'AREA_TOTAL_DISPONIVEL_HA': 440, 'ORCAMENTO_TOTAL_DISPONIVEL': 968000, 'AGUA_TOTAL_DISPONIVEL_M3': 220000, 'POTASSIO_DISPONIVEL_KG': 39600, 'FOSFORO_DISPONIVEL_KG': 36960, 'AREA_NAO_COMPACTADA_HA': 440, 'HORAS_MAQUINA_DISPONIVEIS': 5280, 'CAPACIDADE_SILO_TON': 2200}\n",
      "[2025-10-16 15:42:43] Dados mock gerados com sucesso. Amostra das primeiras linhas:\n",
      "[2025-10-16 15:42:43] [{\"id_talhao\":1,\"cultura\":\"Milho_Safrinha\",\"produtividade_ton_ha\":5.2898146975,\"custo_ha\":3166.429310426,\"uso_agua_m3_ha\":757.3338456894,\"demanda_k_kg_ha\":128.2676505354,\"demanda_p_kg_ha\":102.3053712049,\"horas_maquina_ha\":14.3371977926},{\"id_talhao\":2,\"cultura\":\"Soja_Resistente\",\"produtividade_ton_ha\":2.8403260554,\"custo_ha\":1734.2119190614,\"uso_agua_m3_ha\":430.0444073899,\"demanda_k_kg_ha\":70.0360831083,\"demanda_p_kg_ha\":64.7504323609,\"horas_maquina_ha\":9.693557},{\"id_talhao\":3,\"cultura\":\"Milho_Safrinha\",\"produtividade_ton_ha\":4.5891231629,\"custo_ha\":2601.484435741,\"uso_agua_m3_ha\":708.0206431971,\"demanda_k_kg_ha\":118.3480263633,\"demanda_p_kg_ha\":101.1328834408,\"horas_maquina_ha\":15.8967940331},{\"id_talhao\":4,\"cultura\":\"Milho_Safrinha\",\"produtividade_ton_ha\":4.6262106431,\"custo_ha\":2487.0991018838,\"uso_agua_m3_ha\":776.0188026112,\"demanda_k_kg_ha\":113.8337757348,\"demanda_p_kg_ha\":104.3222953372,\"horas_maquina_ha\":12.7912832419},{\"id_talhao\":5,\"cultura\":\"Soja_Resistente\",\"produtividade_ton_ha\":3.3868773905,\"custo_ha\":1974.9454120855,\"uso_agua_m3_ha\":417.3551613794,\"demanda_k_kg_ha\":77.2012691383,\"demanda_p_kg_ha\":64.1368569142,\"horas_maquina_ha\":11.2058789963}]\n",
      "[2025-10-16 15:42:43] Estatísticas resumidas:\n",
      "[2025-10-16 15:42:43] {\"id_talhao\":{\"count\":1500.0,\"mean\":750.5,\"std\":433.1570154113,\"min\":1.0,\"25%\":375.75,\"50%\":750.5,\"75%\":1125.25,\"max\":1500.0},\"produtividade_ton_ha\":{\"count\":1500.0,\"mean\":4.5853537013,\"std\":1.0406733203,\"min\":1.7595955856,\"25%\":3.7385722281,\"50%\":4.6130691172,\"75%\":5.3607676667,\"max\":7.4060640814},\"custo_ha\":{\"count\":1500.0,\"mean\":2351.4644276972,\"std\":465.4353846201,\"min\":1366.7593192211,\"25%\":1880.8905659273,\"50%\":2436.7548885404,\"75%\":2709.3148137166,\"max\":3619.0998362783},\"uso_agua_m3_ha\":{\"count\":1500.0,\"mean\":578.0000463065,\"std\":120.2683616253,\"min\":276.4285054031,\"25%\":475.7297099553,\"50%\":582.2569558677,\"75%\":666.3207263756,\"max\":937.8689122364},\"demanda_k_kg_ha\":{\"count\":1500.0,\"mean\":99.5619699325,\"std\":21.1116524273,\"min\":46.7524428009,\"25%\":83.3234960852,\"50%\":96.9238593126,\"75%\":114.9629599872,\"max\":163.3748803961},\"demanda_p_kg_ha\":{\"count\":1500.0,\"mean\":86.2645179664,\"std\":16.2456499817,\"min\":48.6853414314,\"25%\":73.4123875867,\"50%\":85.9976105503,\"75%\":98.2608900162,\"max\":142.5287801315},\"horas_maquina_ha\":{\"count\":1500.0,\"mean\":12.2118627786,\"std\":2.6835103563,\"min\":5.6501593296,\"25%\":10.1275294371,\"50%\":11.9104242286,\"75%\":14.1756398882,\"max\":20.5253690655}}\n",
      "[2025-10-16 15:42:43] Parâmetros do modelo (médias por cultura):\n",
      "[2025-10-16 15:42:43] {\"id_talhao\":{\"Milho_Safrinha\":748.4241803279,\"Soja_Produtiva\":759.4573170732,\"Soja_Resistente\":743.9730769231},\"produtividade_ton_ha\":{\"Milho_Safrinha\":5.533157211,\"Soja_Produtiva\":4.786231101,\"Soja_Resistente\":3.5058156371},\"custo_ha\":{\"Milho_Safrinha\":2789.0142778524,\"Soja_Produtiva\":2502.2177193732,\"Soja_Resistente\":1798.2049154274},\"uso_agua_m3_ha\":{\"Milho_Safrinha\":698.1021628641,\"Soja_Produtiva\":596.5656765211,\"Soja_Resistente\":447.7228867956},\"demanda_k_kg_ha\":{\"Milho_Safrinha\":121.0005674148,\"Soja_Produtiva\":98.9215618278,\"Soja_Resistente\":80.0485953483},\"demanda_p_kg_ha\":{\"Milho_Safrinha\":99.9392660123,\"Soja_Produtiva\":90.0146471493,\"Soja_Resistente\":69.8830937271},\"horas_maquina_ha\":{\"Milho_Safrinha\":14.9393585248,\"Soja_Produtiva\":11.8533116271,\"Soja_Resistente\":9.9914574755},\"lucro_ha\":{\"Milho_Safrinha\":4404.0900964721,\"Soja_Produtiva\":8027.4907027878,\"Soja_Resistente\":5914.5894862735}}\n",
      "[2025-10-16 15:42:43] Recursos carregados: {'AREA_TOTAL_DISPONIVEL_HA': 440, 'ORCAMENTO_TOTAL_DISPONIVEL': 968000, 'AGUA_TOTAL_DISPONIVEL_M3': 220000, 'POTASSIO_DISPONIVEL_KG': 39600, 'FOSFORO_DISPONIVEL_KG': 36960, 'AREA_NAO_COMPACTADA_HA': 440, 'HORAS_MAQUINA_DISPONIVEIS': 5280, 'CAPACIDADE_SILO_TON': 2200}\n",
      "[2025-10-16 15:42:43] Modelo de otimização configurado.\n",
      "[2025-10-16 15:42:43] Iniciando solução do modelo...\n",
      "Welcome to the CBC MILP Solver \n",
      "Version: 2.10.3 \n",
      "Build Date: Dec 15 2019 \n",
      "\n",
      "command line - /home/vinicius/Downloads/estudo/po/PL/PL/venv/lib/python3.12/site-packages/pulp/apis/../solverdir/cbc/linux/i64/cbc /tmp/4055d7d27dae4b29a00b81739b0f44bc-pulp.mps -max -timeMode elapsed -branch -printingOptions all -solution /tmp/4055d7d27dae4b29a00b81739b0f44bc-pulp.sol (default strategy 1)\n",
      "At line 2 NAME          MODEL\n",
      "At line 3 ROWS\n",
      "At line 17 COLUMNS\n",
      "At line 49 RHS\n",
      "At line 62 BOUNDS\n",
      "At line 63 ENDATA\n",
      "Problem MODEL has 12 rows, 3 columns and 28 elements\n",
      "Coin0008I MODEL read with 0 errors\n",
      "Option for timeMode changed from cpu to elapsed\n",
      "Presolve 7 (-5) rows, 3 (0) columns and 21 (-7) elements\n",
      "0  Obj 1210847.2 Dual inf 18346.17 (3)\n",
      "3  Obj 2623775.1\n",
      "Optimal - objective value 2623775.1\n",
      "After Postsolve, objective 2623775.1, infeasibilities - dual 0 (0), primal 0 (0)\n",
      "Optimal objective 2623775.127 - 3 iterations time 0.002, Presolve 0.00\n",
      "Option for printingOptions changed from normal to all\n",
      "Total time (CPU seconds):       0.00   (Wallclock seconds):       0.00\n",
      "\n",
      "[2025-10-16 15:42:43] Status do solver (raw): 1\n",
      "[2025-10-16 15:42:43] Status da otimização: Optimal\n",
      "[2025-10-16 15:42:43] Plantio (resultado):\n",
      "[2025-10-16 15:42:43] {'Hectares_Soja_Resistente': 66.0, 'Hectares_Soja_Produtiva': 242.01115, 'Hectares_Milho_Safrinha': 66.0}\n",
      "[2025-10-16 15:42:43] Preços sombra:\n",
      "[2025-10-16 15:42:43] {'Minimo_Soja_Resistente': -110.04695, 'Minimo_Soja_Produtiva': -0.0, 'Minimo_Milho_Safrinha': -4989.6931, 'Risco_Maximo_Soja_Produtiva': -0.0, 'Restricao_Area_Total': -0.0, 'Restricao_Area_Nao_Compactada': -0.0, 'Restricao_Orcamento': -0.0, 'Restricao_Agua': 13.456173, 'Restricao_Potassio': -0.0, 'Restricao_Fosforo': -0.0, 'Restricao_Horas_Maquina': -0.0, 'Restricao_Armazenagem': -0.0}\n",
      "[2025-10-16 15:42:43] Resultados para MF=5 tamanho=grande adicionados em resultados_propriedades_simulacao.txt\n",
      "[2025-10-16 15:42:43] ---- Simulações para MF = 110 ha ----\n",
      "[2025-10-16 15:42:43] Executando cenário pequena (MF=110): recursos={'AREA_TOTAL_DISPONIVEL_HA': 275, 'ORCAMENTO_TOTAL_DISPONIVEL': 605000, 'AGUA_TOTAL_DISPONIVEL_M3': 137500, 'POTASSIO_DISPONIVEL_KG': 24750, 'FOSFORO_DISPONIVEL_KG': 23100, 'AREA_NAO_COMPACTADA_HA': 275, 'HORAS_MAQUINA_DISPONIVEIS': 3300, 'CAPACIDADE_SILO_TON': 1375}\n",
      "[2025-10-16 15:42:43] Dados mock gerados com sucesso. Amostra das primeiras linhas:\n",
      "[2025-10-16 15:42:43] [{\"id_talhao\":1,\"cultura\":\"Milho_Safrinha\",\"produtividade_ton_ha\":5.2898146975,\"custo_ha\":3166.429310426,\"uso_agua_m3_ha\":757.3338456894,\"demanda_k_kg_ha\":128.2676505354,\"demanda_p_kg_ha\":102.3053712049,\"horas_maquina_ha\":14.3371977926},{\"id_talhao\":2,\"cultura\":\"Soja_Resistente\",\"produtividade_ton_ha\":2.8403260554,\"custo_ha\":1734.2119190614,\"uso_agua_m3_ha\":430.0444073899,\"demanda_k_kg_ha\":70.0360831083,\"demanda_p_kg_ha\":64.7504323609,\"horas_maquina_ha\":9.693557},{\"id_talhao\":3,\"cultura\":\"Milho_Safrinha\",\"produtividade_ton_ha\":4.5891231629,\"custo_ha\":2601.484435741,\"uso_agua_m3_ha\":708.0206431971,\"demanda_k_kg_ha\":118.3480263633,\"demanda_p_kg_ha\":101.1328834408,\"horas_maquina_ha\":15.8967940331},{\"id_talhao\":4,\"cultura\":\"Milho_Safrinha\",\"produtividade_ton_ha\":4.6262106431,\"custo_ha\":2487.0991018838,\"uso_agua_m3_ha\":776.0188026112,\"demanda_k_kg_ha\":113.8337757348,\"demanda_p_kg_ha\":104.3222953372,\"horas_maquina_ha\":12.7912832419},{\"id_talhao\":5,\"cultura\":\"Soja_Resistente\",\"produtividade_ton_ha\":3.3868773905,\"custo_ha\":1974.9454120855,\"uso_agua_m3_ha\":417.3551613794,\"demanda_k_kg_ha\":77.2012691383,\"demanda_p_kg_ha\":64.1368569142,\"horas_maquina_ha\":11.2058789963}]\n",
      "[2025-10-16 15:42:43] Estatísticas resumidas:\n",
      "[2025-10-16 15:42:43] {\"id_talhao\":{\"count\":1500.0,\"mean\":750.5,\"std\":433.1570154113,\"min\":1.0,\"25%\":375.75,\"50%\":750.5,\"75%\":1125.25,\"max\":1500.0},\"produtividade_ton_ha\":{\"count\":1500.0,\"mean\":4.5853537013,\"std\":1.0406733203,\"min\":1.7595955856,\"25%\":3.7385722281,\"50%\":4.6130691172,\"75%\":5.3607676667,\"max\":7.4060640814},\"custo_ha\":{\"count\":1500.0,\"mean\":2351.4644276972,\"std\":465.4353846201,\"min\":1366.7593192211,\"25%\":1880.8905659273,\"50%\":2436.7548885404,\"75%\":2709.3148137166,\"max\":3619.0998362783},\"uso_agua_m3_ha\":{\"count\":1500.0,\"mean\":578.0000463065,\"std\":120.2683616253,\"min\":276.4285054031,\"25%\":475.7297099553,\"50%\":582.2569558677,\"75%\":666.3207263756,\"max\":937.8689122364},\"demanda_k_kg_ha\":{\"count\":1500.0,\"mean\":99.5619699325,\"std\":21.1116524273,\"min\":46.7524428009,\"25%\":83.3234960852,\"50%\":96.9238593126,\"75%\":114.9629599872,\"max\":163.3748803961},\"demanda_p_kg_ha\":{\"count\":1500.0,\"mean\":86.2645179664,\"std\":16.2456499817,\"min\":48.6853414314,\"25%\":73.4123875867,\"50%\":85.9976105503,\"75%\":98.2608900162,\"max\":142.5287801315},\"horas_maquina_ha\":{\"count\":1500.0,\"mean\":12.2118627786,\"std\":2.6835103563,\"min\":5.6501593296,\"25%\":10.1275294371,\"50%\":11.9104242286,\"75%\":14.1756398882,\"max\":20.5253690655}}\n",
      "[2025-10-16 15:42:43] Parâmetros do modelo (médias por cultura):\n",
      "[2025-10-16 15:42:43] {\"id_talhao\":{\"Milho_Safrinha\":748.4241803279,\"Soja_Produtiva\":759.4573170732,\"Soja_Resistente\":743.9730769231},\"produtividade_ton_ha\":{\"Milho_Safrinha\":5.533157211,\"Soja_Produtiva\":4.786231101,\"Soja_Resistente\":3.5058156371},\"custo_ha\":{\"Milho_Safrinha\":2789.0142778524,\"Soja_Produtiva\":2502.2177193732,\"Soja_Resistente\":1798.2049154274},\"uso_agua_m3_ha\":{\"Milho_Safrinha\":698.1021628641,\"Soja_Produtiva\":596.5656765211,\"Soja_Resistente\":447.7228867956},\"demanda_k_kg_ha\":{\"Milho_Safrinha\":121.0005674148,\"Soja_Produtiva\":98.9215618278,\"Soja_Resistente\":80.0485953483},\"demanda_p_kg_ha\":{\"Milho_Safrinha\":99.9392660123,\"Soja_Produtiva\":90.0146471493,\"Soja_Resistente\":69.8830937271},\"horas_maquina_ha\":{\"Milho_Safrinha\":14.9393585248,\"Soja_Produtiva\":11.8533116271,\"Soja_Resistente\":9.9914574755},\"lucro_ha\":{\"Milho_Safrinha\":4404.0900964721,\"Soja_Produtiva\":8027.4907027878,\"Soja_Resistente\":5914.5894862735}}\n",
      "[2025-10-16 15:42:43] Recursos carregados: {'AREA_TOTAL_DISPONIVEL_HA': 275, 'ORCAMENTO_TOTAL_DISPONIVEL': 605000, 'AGUA_TOTAL_DISPONIVEL_M3': 137500, 'POTASSIO_DISPONIVEL_KG': 24750, 'FOSFORO_DISPONIVEL_KG': 23100, 'AREA_NAO_COMPACTADA_HA': 275, 'HORAS_MAQUINA_DISPONIVEIS': 3300, 'CAPACIDADE_SILO_TON': 1375}\n",
      "[2025-10-16 15:42:43] Modelo de otimização configurado.\n",
      "[2025-10-16 15:42:43] Iniciando solução do modelo...\n",
      "Welcome to the CBC MILP Solver \n",
      "Version: 2.10.3 \n",
      "Build Date: Dec 15 2019 \n",
      "\n",
      "command line - /home/vinicius/Downloads/estudo/po/PL/PL/venv/lib/python3.12/site-packages/pulp/apis/../solverdir/cbc/linux/i64/cbc /tmp/ffadf6a1a2ad4ada920b98a0d51d020f-pulp.mps -max -timeMode elapsed -branch -printingOptions all -solution /tmp/ffadf6a1a2ad4ada920b98a0d51d020f-pulp.sol (default strategy 1)\n",
      "At line 2 NAME          MODEL\n",
      "At line 3 ROWS\n",
      "At line 17 COLUMNS\n",
      "At line 49 RHS\n",
      "At line 62 BOUNDS\n",
      "At line 63 ENDATA\n",
      "Problem MODEL has 12 rows, 3 columns and 28 elements\n",
      "Coin0008I MODEL read with 0 errors\n",
      "Option for timeMode changed from cpu to elapsed\n",
      "Presolve 7 (-5) rows, 3 (0) columns and 21 (-7) elements\n",
      "0  Obj 756779.52 Dual inf 18346.17 (3)\n",
      "3  Obj 1639859.5\n",
      "Optimal - objective value 1639859.5\n",
      "After Postsolve, objective 1639859.5, infeasibilities - dual 0 (0), primal 0 (0)\n",
      "Optimal objective 1639859.454 - 3 iterations time 0.002, Presolve 0.00\n",
      "Option for printingOptions changed from normal to all\n",
      "Total time (CPU seconds):       0.00   (Wallclock seconds):       0.00\n",
      "\n",
      "[2025-10-16 15:42:43] Status do solver (raw): 1\n",
      "[2025-10-16 15:42:43] Status da otimização: Optimal\n",
      "[2025-10-16 15:42:43] Plantio (resultado):\n",
      "[2025-10-16 15:42:43] {'Hectares_Soja_Resistente': 41.25, 'Hectares_Soja_Produtiva': 151.25697, 'Hectares_Milho_Safrinha': 41.25}\n",
      "[2025-10-16 15:42:43] Preços sombra:\n",
      "[2025-10-16 15:42:43] {'Minimo_Soja_Resistente': -110.04695, 'Minimo_Soja_Produtiva': -0.0, 'Minimo_Milho_Safrinha': -4989.6931, 'Risco_Maximo_Soja_Produtiva': -0.0, 'Restricao_Area_Total': -0.0, 'Restricao_Area_Nao_Compactada': -0.0, 'Restricao_Orcamento': -0.0, 'Restricao_Agua': 13.456173, 'Restricao_Potassio': -0.0, 'Restricao_Fosforo': -0.0, 'Restricao_Horas_Maquina': -0.0, 'Restricao_Armazenagem': -0.0}\n",
      "[2025-10-16 15:42:43] Resultados para MF=110 tamanho=pequena adicionados em resultados_propriedades_simulacao.txt\n",
      "[2025-10-16 15:42:43] Executando cenário media (MF=110): recursos={'AREA_TOTAL_DISPONIVEL_HA': 1100, 'ORCAMENTO_TOTAL_DISPONIVEL': 2420000, 'AGUA_TOTAL_DISPONIVEL_M3': 550000, 'POTASSIO_DISPONIVEL_KG': 99000, 'FOSFORO_DISPONIVEL_KG': 92400, 'AREA_NAO_COMPACTADA_HA': 1100, 'HORAS_MAQUINA_DISPONIVEIS': 13200, 'CAPACIDADE_SILO_TON': 5500}\n",
      "[2025-10-16 15:42:43] Dados mock gerados com sucesso. Amostra das primeiras linhas:\n",
      "[2025-10-16 15:42:43] [{\"id_talhao\":1,\"cultura\":\"Milho_Safrinha\",\"produtividade_ton_ha\":5.2898146975,\"custo_ha\":3166.429310426,\"uso_agua_m3_ha\":757.3338456894,\"demanda_k_kg_ha\":128.2676505354,\"demanda_p_kg_ha\":102.3053712049,\"horas_maquina_ha\":14.3371977926},{\"id_talhao\":2,\"cultura\":\"Soja_Resistente\",\"produtividade_ton_ha\":2.8403260554,\"custo_ha\":1734.2119190614,\"uso_agua_m3_ha\":430.0444073899,\"demanda_k_kg_ha\":70.0360831083,\"demanda_p_kg_ha\":64.7504323609,\"horas_maquina_ha\":9.693557},{\"id_talhao\":3,\"cultura\":\"Milho_Safrinha\",\"produtividade_ton_ha\":4.5891231629,\"custo_ha\":2601.484435741,\"uso_agua_m3_ha\":708.0206431971,\"demanda_k_kg_ha\":118.3480263633,\"demanda_p_kg_ha\":101.1328834408,\"horas_maquina_ha\":15.8967940331},{\"id_talhao\":4,\"cultura\":\"Milho_Safrinha\",\"produtividade_ton_ha\":4.6262106431,\"custo_ha\":2487.0991018838,\"uso_agua_m3_ha\":776.0188026112,\"demanda_k_kg_ha\":113.8337757348,\"demanda_p_kg_ha\":104.3222953372,\"horas_maquina_ha\":12.7912832419},{\"id_talhao\":5,\"cultura\":\"Soja_Resistente\",\"produtividade_ton_ha\":3.3868773905,\"custo_ha\":1974.9454120855,\"uso_agua_m3_ha\":417.3551613794,\"demanda_k_kg_ha\":77.2012691383,\"demanda_p_kg_ha\":64.1368569142,\"horas_maquina_ha\":11.2058789963}]\n",
      "[2025-10-16 15:42:43] Estatísticas resumidas:\n",
      "[2025-10-16 15:42:43] {\"id_talhao\":{\"count\":1500.0,\"mean\":750.5,\"std\":433.1570154113,\"min\":1.0,\"25%\":375.75,\"50%\":750.5,\"75%\":1125.25,\"max\":1500.0},\"produtividade_ton_ha\":{\"count\":1500.0,\"mean\":4.5853537013,\"std\":1.0406733203,\"min\":1.7595955856,\"25%\":3.7385722281,\"50%\":4.6130691172,\"75%\":5.3607676667,\"max\":7.4060640814},\"custo_ha\":{\"count\":1500.0,\"mean\":2351.4644276972,\"std\":465.4353846201,\"min\":1366.7593192211,\"25%\":1880.8905659273,\"50%\":2436.7548885404,\"75%\":2709.3148137166,\"max\":3619.0998362783},\"uso_agua_m3_ha\":{\"count\":1500.0,\"mean\":578.0000463065,\"std\":120.2683616253,\"min\":276.4285054031,\"25%\":475.7297099553,\"50%\":582.2569558677,\"75%\":666.3207263756,\"max\":937.8689122364},\"demanda_k_kg_ha\":{\"count\":1500.0,\"mean\":99.5619699325,\"std\":21.1116524273,\"min\":46.7524428009,\"25%\":83.3234960852,\"50%\":96.9238593126,\"75%\":114.9629599872,\"max\":163.3748803961},\"demanda_p_kg_ha\":{\"count\":1500.0,\"mean\":86.2645179664,\"std\":16.2456499817,\"min\":48.6853414314,\"25%\":73.4123875867,\"50%\":85.9976105503,\"75%\":98.2608900162,\"max\":142.5287801315},\"horas_maquina_ha\":{\"count\":1500.0,\"mean\":12.2118627786,\"std\":2.6835103563,\"min\":5.6501593296,\"25%\":10.1275294371,\"50%\":11.9104242286,\"75%\":14.1756398882,\"max\":20.5253690655}}\n",
      "[2025-10-16 15:42:43] Parâmetros do modelo (médias por cultura):\n",
      "[2025-10-16 15:42:43] {\"id_talhao\":{\"Milho_Safrinha\":748.4241803279,\"Soja_Produtiva\":759.4573170732,\"Soja_Resistente\":743.9730769231},\"produtividade_ton_ha\":{\"Milho_Safrinha\":5.533157211,\"Soja_Produtiva\":4.786231101,\"Soja_Resistente\":3.5058156371},\"custo_ha\":{\"Milho_Safrinha\":2789.0142778524,\"Soja_Produtiva\":2502.2177193732,\"Soja_Resistente\":1798.2049154274},\"uso_agua_m3_ha\":{\"Milho_Safrinha\":698.1021628641,\"Soja_Produtiva\":596.5656765211,\"Soja_Resistente\":447.7228867956},\"demanda_k_kg_ha\":{\"Milho_Safrinha\":121.0005674148,\"Soja_Produtiva\":98.9215618278,\"Soja_Resistente\":80.0485953483},\"demanda_p_kg_ha\":{\"Milho_Safrinha\":99.9392660123,\"Soja_Produtiva\":90.0146471493,\"Soja_Resistente\":69.8830937271},\"horas_maquina_ha\":{\"Milho_Safrinha\":14.9393585248,\"Soja_Produtiva\":11.8533116271,\"Soja_Resistente\":9.9914574755},\"lucro_ha\":{\"Milho_Safrinha\":4404.0900964721,\"Soja_Produtiva\":8027.4907027878,\"Soja_Resistente\":5914.5894862735}}\n",
      "[2025-10-16 15:42:43] Recursos carregados: {'AREA_TOTAL_DISPONIVEL_HA': 1100, 'ORCAMENTO_TOTAL_DISPONIVEL': 2420000, 'AGUA_TOTAL_DISPONIVEL_M3': 550000, 'POTASSIO_DISPONIVEL_KG': 99000, 'FOSFORO_DISPONIVEL_KG': 92400, 'AREA_NAO_COMPACTADA_HA': 1100, 'HORAS_MAQUINA_DISPONIVEIS': 13200, 'CAPACIDADE_SILO_TON': 5500}\n",
      "[2025-10-16 15:42:43] Modelo de otimização configurado.\n",
      "[2025-10-16 15:42:43] Iniciando solução do modelo...\n",
      "Welcome to the CBC MILP Solver \n",
      "Version: 2.10.3 \n",
      "Build Date: Dec 15 2019 \n",
      "\n",
      "command line - /home/vinicius/Downloads/estudo/po/PL/PL/venv/lib/python3.12/site-packages/pulp/apis/../solverdir/cbc/linux/i64/cbc /tmp/38f1ffec41a9483ab29ebd58ae777458-pulp.mps -max -timeMode elapsed -branch -printingOptions all -solution /tmp/38f1ffec41a9483ab29ebd58ae777458-pulp.sol (default strategy 1)\n",
      "At line 2 NAME          MODEL\n",
      "At line 3 ROWS\n",
      "At line 17 COLUMNS\n",
      "At line 49 RHS\n",
      "At line 62 BOUNDS\n",
      "At line 63 ENDATA\n",
      "Problem MODEL has 12 rows, 3 columns and 28 elements\n",
      "Coin0008I MODEL read with 0 errors\n",
      "Option for timeMode changed from cpu to elapsed\n",
      "Presolve 7 (-5) rows, 3 (0) columns and 21 (-7) elements\n",
      "0  Obj 3027118.1 Dual inf 18346.17 (3)\n",
      "3  Obj 6559437.8\n",
      "Optimal - objective value 6559437.8\n",
      "After Postsolve, objective 6559437.8, infeasibilities - dual 0 (0), primal 0 (0)\n",
      "Optimal objective 6559437.816 - 3 iterations time 0.002, Presolve 0.00\n",
      "Option for printingOptions changed from normal to all\n",
      "Total time (CPU seconds):       0.00   (Wallclock seconds):       0.00\n",
      "\n",
      "[2025-10-16 15:42:43] Status do solver (raw): 1\n",
      "[2025-10-16 15:42:43] Status da otimização: Optimal\n",
      "[2025-10-16 15:42:43] Plantio (resultado):\n",
      "[2025-10-16 15:42:43] {'Hectares_Soja_Resistente': 165.0, 'Hectares_Soja_Produtiva': 605.02788, 'Hectares_Milho_Safrinha': 165.0}\n",
      "[2025-10-16 15:42:43] Preços sombra:\n",
      "[2025-10-16 15:42:43] {'Minimo_Soja_Resistente': -110.04695, 'Minimo_Soja_Produtiva': -0.0, 'Minimo_Milho_Safrinha': -4989.6931, 'Risco_Maximo_Soja_Produtiva': -0.0, 'Restricao_Area_Total': -0.0, 'Restricao_Area_Nao_Compactada': -0.0, 'Restricao_Orcamento': -0.0, 'Restricao_Agua': 13.456173, 'Restricao_Potassio': -0.0, 'Restricao_Fosforo': -0.0, 'Restricao_Horas_Maquina': -0.0, 'Restricao_Armazenagem': -0.0}\n",
      "[2025-10-16 15:42:43] Resultados para MF=110 tamanho=media adicionados em resultados_propriedades_simulacao.txt\n",
      "[2025-10-16 15:42:43] Executando cenário grande (MF=110): recursos={'AREA_TOTAL_DISPONIVEL_HA': 9680, 'ORCAMENTO_TOTAL_DISPONIVEL': 21296000, 'AGUA_TOTAL_DISPONIVEL_M3': 4840000, 'POTASSIO_DISPONIVEL_KG': 871200, 'FOSFORO_DISPONIVEL_KG': 813120, 'AREA_NAO_COMPACTADA_HA': 9680, 'HORAS_MAQUINA_DISPONIVEIS': 116160, 'CAPACIDADE_SILO_TON': 48400}\n",
      "[2025-10-16 15:42:43] Dados mock gerados com sucesso. Amostra das primeiras linhas:\n",
      "[2025-10-16 15:42:43] [{\"id_talhao\":1,\"cultura\":\"Milho_Safrinha\",\"produtividade_ton_ha\":5.2898146975,\"custo_ha\":3166.429310426,\"uso_agua_m3_ha\":757.3338456894,\"demanda_k_kg_ha\":128.2676505354,\"demanda_p_kg_ha\":102.3053712049,\"horas_maquina_ha\":14.3371977926},{\"id_talhao\":2,\"cultura\":\"Soja_Resistente\",\"produtividade_ton_ha\":2.8403260554,\"custo_ha\":1734.2119190614,\"uso_agua_m3_ha\":430.0444073899,\"demanda_k_kg_ha\":70.0360831083,\"demanda_p_kg_ha\":64.7504323609,\"horas_maquina_ha\":9.693557},{\"id_talhao\":3,\"cultura\":\"Milho_Safrinha\",\"produtividade_ton_ha\":4.5891231629,\"custo_ha\":2601.484435741,\"uso_agua_m3_ha\":708.0206431971,\"demanda_k_kg_ha\":118.3480263633,\"demanda_p_kg_ha\":101.1328834408,\"horas_maquina_ha\":15.8967940331},{\"id_talhao\":4,\"cultura\":\"Milho_Safrinha\",\"produtividade_ton_ha\":4.6262106431,\"custo_ha\":2487.0991018838,\"uso_agua_m3_ha\":776.0188026112,\"demanda_k_kg_ha\":113.8337757348,\"demanda_p_kg_ha\":104.3222953372,\"horas_maquina_ha\":12.7912832419},{\"id_talhao\":5,\"cultura\":\"Soja_Resistente\",\"produtividade_ton_ha\":3.3868773905,\"custo_ha\":1974.9454120855,\"uso_agua_m3_ha\":417.3551613794,\"demanda_k_kg_ha\":77.2012691383,\"demanda_p_kg_ha\":64.1368569142,\"horas_maquina_ha\":11.2058789963}]\n",
      "[2025-10-16 15:42:43] Estatísticas resumidas:\n",
      "[2025-10-16 15:42:43] {\"id_talhao\":{\"count\":1500.0,\"mean\":750.5,\"std\":433.1570154113,\"min\":1.0,\"25%\":375.75,\"50%\":750.5,\"75%\":1125.25,\"max\":1500.0},\"produtividade_ton_ha\":{\"count\":1500.0,\"mean\":4.5853537013,\"std\":1.0406733203,\"min\":1.7595955856,\"25%\":3.7385722281,\"50%\":4.6130691172,\"75%\":5.3607676667,\"max\":7.4060640814},\"custo_ha\":{\"count\":1500.0,\"mean\":2351.4644276972,\"std\":465.4353846201,\"min\":1366.7593192211,\"25%\":1880.8905659273,\"50%\":2436.7548885404,\"75%\":2709.3148137166,\"max\":3619.0998362783},\"uso_agua_m3_ha\":{\"count\":1500.0,\"mean\":578.0000463065,\"std\":120.2683616253,\"min\":276.4285054031,\"25%\":475.7297099553,\"50%\":582.2569558677,\"75%\":666.3207263756,\"max\":937.8689122364},\"demanda_k_kg_ha\":{\"count\":1500.0,\"mean\":99.5619699325,\"std\":21.1116524273,\"min\":46.7524428009,\"25%\":83.3234960852,\"50%\":96.9238593126,\"75%\":114.9629599872,\"max\":163.3748803961},\"demanda_p_kg_ha\":{\"count\":1500.0,\"mean\":86.2645179664,\"std\":16.2456499817,\"min\":48.6853414314,\"25%\":73.4123875867,\"50%\":85.9976105503,\"75%\":98.2608900162,\"max\":142.5287801315},\"horas_maquina_ha\":{\"count\":1500.0,\"mean\":12.2118627786,\"std\":2.6835103563,\"min\":5.6501593296,\"25%\":10.1275294371,\"50%\":11.9104242286,\"75%\":14.1756398882,\"max\":20.5253690655}}\n",
      "[2025-10-16 15:42:43] Parâmetros do modelo (médias por cultura):\n",
      "[2025-10-16 15:42:43] {\"id_talhao\":{\"Milho_Safrinha\":748.4241803279,\"Soja_Produtiva\":759.4573170732,\"Soja_Resistente\":743.9730769231},\"produtividade_ton_ha\":{\"Milho_Safrinha\":5.533157211,\"Soja_Produtiva\":4.786231101,\"Soja_Resistente\":3.5058156371},\"custo_ha\":{\"Milho_Safrinha\":2789.0142778524,\"Soja_Produtiva\":2502.2177193732,\"Soja_Resistente\":1798.2049154274},\"uso_agua_m3_ha\":{\"Milho_Safrinha\":698.1021628641,\"Soja_Produtiva\":596.5656765211,\"Soja_Resistente\":447.7228867956},\"demanda_k_kg_ha\":{\"Milho_Safrinha\":121.0005674148,\"Soja_Produtiva\":98.9215618278,\"Soja_Resistente\":80.0485953483},\"demanda_p_kg_ha\":{\"Milho_Safrinha\":99.9392660123,\"Soja_Produtiva\":90.0146471493,\"Soja_Resistente\":69.8830937271},\"horas_maquina_ha\":{\"Milho_Safrinha\":14.9393585248,\"Soja_Produtiva\":11.8533116271,\"Soja_Resistente\":9.9914574755},\"lucro_ha\":{\"Milho_Safrinha\":4404.0900964721,\"Soja_Produtiva\":8027.4907027878,\"Soja_Resistente\":5914.5894862735}}\n",
      "[2025-10-16 15:42:43] Recursos carregados: {'AREA_TOTAL_DISPONIVEL_HA': 9680, 'ORCAMENTO_TOTAL_DISPONIVEL': 21296000, 'AGUA_TOTAL_DISPONIVEL_M3': 4840000, 'POTASSIO_DISPONIVEL_KG': 871200, 'FOSFORO_DISPONIVEL_KG': 813120, 'AREA_NAO_COMPACTADA_HA': 9680, 'HORAS_MAQUINA_DISPONIVEIS': 116160, 'CAPACIDADE_SILO_TON': 48400}\n",
      "[2025-10-16 15:42:43] Modelo de otimização configurado.\n",
      "[2025-10-16 15:42:43] Iniciando solução do modelo...\n",
      "Welcome to the CBC MILP Solver \n",
      "Version: 2.10.3 \n",
      "Build Date: Dec 15 2019 \n",
      "\n",
      "command line - /home/vinicius/Downloads/estudo/po/PL/PL/venv/lib/python3.12/site-packages/pulp/apis/../solverdir/cbc/linux/i64/cbc /tmp/9550a107c4474d2c9d162c9fbda8abf6-pulp.mps -max -timeMode elapsed -branch -printingOptions all -solution /tmp/9550a107c4474d2c9d162c9fbda8abf6-pulp.sol (default strategy 1)\n",
      "At line 2 NAME          MODEL\n",
      "At line 3 ROWS\n",
      "At line 17 COLUMNS\n",
      "At line 49 RHS\n",
      "At line 62 BOUNDS\n",
      "At line 63 ENDATA\n",
      "Problem MODEL has 12 rows, 3 columns and 28 elements\n",
      "Coin0008I MODEL read with 0 errors\n",
      "Option for timeMode changed from cpu to elapsed\n",
      "Presolve 7 (-5) rows, 3 (0) columns and 21 (-7) elements\n",
      "0  Obj 26638639 Dual inf 18346.17 (3)\n",
      "3  Obj 57723053\n",
      "Optimal - objective value 57723053\n",
      "After Postsolve, objective 57723053, infeasibilities - dual 0 (0), primal 0 (0)\n",
      "Optimal objective 57723052.78 - 3 iterations time 0.002, Presolve 0.00\n",
      "Option for printingOptions changed from normal to all\n",
      "Total time (CPU seconds):       0.00   (Wallclock seconds):       0.00\n",
      "\n",
      "[2025-10-16 15:42:43] Status do solver (raw): 1\n",
      "[2025-10-16 15:42:43] Status da otimização: Optimal\n",
      "[2025-10-16 15:42:43] Plantio (resultado):\n",
      "[2025-10-16 15:42:43] {'Hectares_Soja_Resistente': 1452.0, 'Hectares_Soja_Produtiva': 5324.2453, 'Hectares_Milho_Safrinha': 1452.0}\n",
      "[2025-10-16 15:42:43] Preços sombra:\n",
      "[2025-10-16 15:42:43] {'Minimo_Soja_Resistente': -110.04695, 'Minimo_Soja_Produtiva': -0.0, 'Minimo_Milho_Safrinha': -4989.6931, 'Risco_Maximo_Soja_Produtiva': -0.0, 'Restricao_Area_Total': -0.0, 'Restricao_Area_Nao_Compactada': -0.0, 'Restricao_Orcamento': -0.0, 'Restricao_Agua': 13.456173, 'Restricao_Potassio': -0.0, 'Restricao_Fosforo': -0.0, 'Restricao_Horas_Maquina': -0.0, 'Restricao_Armazenagem': -0.0}\n",
      "[2025-10-16 15:42:43] Resultados para MF=110 tamanho=grande adicionados em resultados_propriedades_simulacao.txt\n",
      "[2025-10-16 15:42:43] Simulações de propriedades concluídas. Resumo:\n",
      "[2025-10-16 15:42:43] {5: {'pequena': {'status': 'Optimal', 'lucro': 71557.50385001318, 'plantio': {'Hectares_Soja_Resistente': 1.8, 'Hectares_Soja_Produtiva': 6.6003042, 'Hectares_Milho_Safrinha': 1.8}, 'shadow_prices': {'Minimo_Soja_Resistente': -110.04695, 'Minimo_Soja_Produtiva': -0.0, 'Minimo_Milho_Safrinha': -4989.6931, 'Risco_Maximo_Soja_Produtiva': -0.0, 'Restricao_Area_Total': -0.0, 'Restricao_Area_Nao_Compactada': -0.0, 'Restricao_Orcamento': -0.0, 'Restricao_Agua': 13.456173, 'Restricao_Potassio': -0.0, 'Restricao_Fosforo': -0.0, 'Restricao_Horas_Maquina': -0.0, 'Restricao_Armazenagem': -0.0}}, 'media': {'status': 'Optimal', 'lucro': 298156.26202797616, 'plantio': {'Hectares_Soja_Resistente': 7.5, 'Hectares_Soja_Produtiva': 27.501267, 'Hectares_Milho_Safrinha': 7.5}, 'shadow_prices': {'Minimo_Soja_Resistente': -110.04695, 'Minimo_Soja_Produtiva': -0.0, 'Minimo_Milho_Safrinha': -4989.6931, 'Risco_Maximo_Soja_Produtiva': -0.0, 'Restricao_Area_Total': -0.0, 'Restricao_Area_Nao_Compactada': -0.0, 'Restricao_Orcamento': -0.0, 'Restricao_Agua': 13.456173, 'Restricao_Potassio': -0.0, 'Restricao_Fosforo': -0.0, 'Restricao_Horas_Maquina': -0.0, 'Restricao_Armazenagem': -0.0}}, 'grande': {'status': 'Optimal', 'lucro': 2623775.1090571866, 'plantio': {'Hectares_Soja_Resistente': 66.0, 'Hectares_Soja_Produtiva': 242.01115, 'Hectares_Milho_Safrinha': 66.0}, 'shadow_prices': {'Minimo_Soja_Resistente': -110.04695, 'Minimo_Soja_Produtiva': -0.0, 'Minimo_Milho_Safrinha': -4989.6931, 'Risco_Maximo_Soja_Produtiva': -0.0, 'Restricao_Area_Total': -0.0, 'Restricao_Area_Nao_Compactada': -0.0, 'Restricao_Orcamento': -0.0, 'Restricao_Agua': 13.456173, 'Restricao_Potassio': -0.0, 'Restricao_Fosforo': -0.0, 'Restricao_Horas_Maquina': -0.0, 'Restricao_Armazenagem': -0.0}}}, 110: {'pequena': {'status': 'Optimal', 'lucro': 1639859.453195105, 'plantio': {'Hectares_Soja_Resistente': 41.25, 'Hectares_Soja_Produtiva': 151.25697, 'Hectares_Milho_Safrinha': 41.25}, 'shadow_prices': {'Minimo_Soja_Resistente': -110.04695, 'Minimo_Soja_Produtiva': -0.0, 'Minimo_Milho_Safrinha': -4989.6931, 'Risco_Maximo_Soja_Produtiva': -0.0, 'Restricao_Area_Total': -0.0, 'Restricao_Area_Nao_Compactada': -0.0, 'Restricao_Orcamento': -0.0, 'Restricao_Agua': 13.456173, 'Restricao_Potassio': -0.0, 'Restricao_Fosforo': -0.0, 'Restricao_Horas_Maquina': -0.0, 'Restricao_Armazenagem': -0.0}}, 'media': {'status': 'Optimal', 'lucro': 6559437.81278042, 'plantio': {'Hectares_Soja_Resistente': 165.0, 'Hectares_Soja_Produtiva': 605.02788, 'Hectares_Milho_Safrinha': 165.0}, 'shadow_prices': {'Minimo_Soja_Resistente': -110.04695, 'Minimo_Soja_Produtiva': -0.0, 'Minimo_Milho_Safrinha': -4989.6931, 'Risco_Maximo_Soja_Produtiva': -0.0, 'Restricao_Area_Total': -0.0, 'Restricao_Area_Nao_Compactada': -0.0, 'Restricao_Orcamento': -0.0, 'Restricao_Agua': 13.456173, 'Restricao_Potassio': -0.0, 'Restricao_Fosforo': -0.0, 'Restricao_Horas_Maquina': -0.0, 'Restricao_Armazenagem': -0.0}}, 'grande': {'status': 'Optimal', 'lucro': 57723052.39925811, 'plantio': {'Hectares_Soja_Resistente': 1452.0, 'Hectares_Soja_Produtiva': 5324.2453, 'Hectares_Milho_Safrinha': 1452.0}, 'shadow_prices': {'Minimo_Soja_Resistente': -110.04695, 'Minimo_Soja_Produtiva': -0.0, 'Minimo_Milho_Safrinha': -4989.6931, 'Risco_Maximo_Soja_Produtiva': -0.0, 'Restricao_Area_Total': -0.0, 'Restricao_Area_Nao_Compactada': -0.0, 'Restricao_Orcamento': -0.0, 'Restricao_Agua': 13.456173, 'Restricao_Potassio': -0.0, 'Restricao_Fosforo': -0.0, 'Restricao_Horas_Maquina': -0.0, 'Restricao_Armazenagem': -0.0}}}}\n",
      "[2025-10-16 15:42:43] Resumo consolidado exportado para resumo_simulacoes_propriedades.json\n",
      "[2025-10-16 15:42:43] Estatísticas resumidas:\n",
      "[2025-10-16 15:42:43] {\"id_talhao\":{\"count\":1500.0,\"mean\":750.5,\"std\":433.1570154113,\"min\":1.0,\"25%\":375.75,\"50%\":750.5,\"75%\":1125.25,\"max\":1500.0},\"produtividade_ton_ha\":{\"count\":1500.0,\"mean\":4.5853537013,\"std\":1.0406733203,\"min\":1.7595955856,\"25%\":3.7385722281,\"50%\":4.6130691172,\"75%\":5.3607676667,\"max\":7.4060640814},\"custo_ha\":{\"count\":1500.0,\"mean\":2351.4644276972,\"std\":465.4353846201,\"min\":1366.7593192211,\"25%\":1880.8905659273,\"50%\":2436.7548885404,\"75%\":2709.3148137166,\"max\":3619.0998362783},\"uso_agua_m3_ha\":{\"count\":1500.0,\"mean\":578.0000463065,\"std\":120.2683616253,\"min\":276.4285054031,\"25%\":475.7297099553,\"50%\":582.2569558677,\"75%\":666.3207263756,\"max\":937.8689122364},\"demanda_k_kg_ha\":{\"count\":1500.0,\"mean\":99.5619699325,\"std\":21.1116524273,\"min\":46.7524428009,\"25%\":83.3234960852,\"50%\":96.9238593126,\"75%\":114.9629599872,\"max\":163.3748803961},\"demanda_p_kg_ha\":{\"count\":1500.0,\"mean\":86.2645179664,\"std\":16.2456499817,\"min\":48.6853414314,\"25%\":73.4123875867,\"50%\":85.9976105503,\"75%\":98.2608900162,\"max\":142.5287801315},\"horas_maquina_ha\":{\"count\":1500.0,\"mean\":12.2118627786,\"std\":2.6835103563,\"min\":5.6501593296,\"25%\":10.1275294371,\"50%\":11.9104242286,\"75%\":14.1756398882,\"max\":20.5253690655}}\n",
      "[2025-10-16 15:42:43] Parâmetros do modelo (médias por cultura):\n",
      "[2025-10-16 15:42:43] {\"id_talhao\":{\"Milho_Safrinha\":748.4241803279,\"Soja_Produtiva\":759.4573170732,\"Soja_Resistente\":743.9730769231},\"produtividade_ton_ha\":{\"Milho_Safrinha\":5.533157211,\"Soja_Produtiva\":4.786231101,\"Soja_Resistente\":3.5058156371},\"custo_ha\":{\"Milho_Safrinha\":2789.0142778524,\"Soja_Produtiva\":2502.2177193732,\"Soja_Resistente\":1798.2049154274},\"uso_agua_m3_ha\":{\"Milho_Safrinha\":698.1021628641,\"Soja_Produtiva\":596.5656765211,\"Soja_Resistente\":447.7228867956},\"demanda_k_kg_ha\":{\"Milho_Safrinha\":121.0005674148,\"Soja_Produtiva\":98.9215618278,\"Soja_Resistente\":80.0485953483},\"demanda_p_kg_ha\":{\"Milho_Safrinha\":99.9392660123,\"Soja_Produtiva\":90.0146471493,\"Soja_Resistente\":69.8830937271},\"horas_maquina_ha\":{\"Milho_Safrinha\":14.9393585248,\"Soja_Produtiva\":11.8533116271,\"Soja_Resistente\":9.9914574755},\"lucro_ha\":{\"Milho_Safrinha\":4404.0900964721,\"Soja_Produtiva\":8027.4907027878,\"Soja_Resistente\":5914.5894862735}}\n",
      "[2025-10-16 15:42:43] Recursos carregados: {'AREA_TOTAL_DISPONIVEL_HA': 440, 'ORCAMENTO_TOTAL_DISPONIVEL': 968000, 'AGUA_TOTAL_DISPONIVEL_M3': 220000, 'POTASSIO_DISPONIVEL_KG': 39600, 'FOSFORO_DISPONIVEL_KG': 36960, 'AREA_NAO_COMPACTADA_HA': 440, 'HORAS_MAQUINA_DISPONIVEIS': 5280, 'CAPACIDADE_SILO_TON': 2200}\n",
      "[2025-10-16 15:42:43] Modelo de otimização configurado.\n",
      "[2025-10-16 15:42:43] Iniciando solução do modelo...\n",
      "Welcome to the CBC MILP Solver \n",
      "Version: 2.10.3 \n",
      "Build Date: Dec 15 2019 \n",
      "\n",
      "command line - /home/vinicius/Downloads/estudo/po/PL/PL/venv/lib/python3.12/site-packages/pulp/apis/../solverdir/cbc/linux/i64/cbc /tmp/4055d7d27dae4b29a00b81739b0f44bc-pulp.mps -max -timeMode elapsed -branch -printingOptions all -solution /tmp/4055d7d27dae4b29a00b81739b0f44bc-pulp.sol (default strategy 1)\n",
      "At line 2 NAME          MODEL\n",
      "At line 3 ROWS\n",
      "At line 17 COLUMNS\n",
      "At line 49 RHS\n",
      "At line 62 BOUNDS\n",
      "At line 63 ENDATA\n",
      "Problem MODEL has 12 rows, 3 columns and 28 elements\n",
      "Coin0008I MODEL read with 0 errors\n",
      "Option for timeMode changed from cpu to elapsed\n",
      "Presolve 7 (-5) rows, 3 (0) columns and 21 (-7) elements\n",
      "0  Obj 1210847.2 Dual inf 18346.17 (3)\n",
      "3  Obj 2623775.1\n",
      "Optimal - objective value 2623775.1\n",
      "After Postsolve, objective 2623775.1, infeasibilities - dual 0 (0), primal 0 (0)\n",
      "Optimal objective 2623775.127 - 3 iterations time 0.002, Presolve 0.00\n",
      "Option for printingOptions changed from normal to all\n",
      "Total time (CPU seconds):       0.00   (Wallclock seconds):       0.00\n",
      "\n",
      "[2025-10-16 15:42:43] Status do solver (raw): 1\n",
      "[2025-10-16 15:42:43] Status da otimização: Optimal\n",
      "[2025-10-16 15:42:43] Plantio (resultado):\n",
      "[2025-10-16 15:42:43] {'Hectares_Soja_Resistente': 66.0, 'Hectares_Soja_Produtiva': 242.01115, 'Hectares_Milho_Safrinha': 66.0}\n",
      "[2025-10-16 15:42:43] Preços sombra:\n",
      "[2025-10-16 15:42:43] {'Minimo_Soja_Resistente': -110.04695, 'Minimo_Soja_Produtiva': -0.0, 'Minimo_Milho_Safrinha': -4989.6931, 'Risco_Maximo_Soja_Produtiva': -0.0, 'Restricao_Area_Total': -0.0, 'Restricao_Area_Nao_Compactada': -0.0, 'Restricao_Orcamento': -0.0, 'Restricao_Agua': 13.456173, 'Restricao_Potassio': -0.0, 'Restricao_Fosforo': -0.0, 'Restricao_Horas_Maquina': -0.0, 'Restricao_Armazenagem': -0.0}\n",
      "[2025-10-16 15:42:43] Resultados para MF=5 tamanho=grande adicionados em resultados_propriedades_simulacao.txt\n",
      "[2025-10-16 15:42:43] ---- Simulações para MF = 110 ha ----\n",
      "[2025-10-16 15:42:43] Executando cenário pequena (MF=110): recursos={'AREA_TOTAL_DISPONIVEL_HA': 275, 'ORCAMENTO_TOTAL_DISPONIVEL': 605000, 'AGUA_TOTAL_DISPONIVEL_M3': 137500, 'POTASSIO_DISPONIVEL_KG': 24750, 'FOSFORO_DISPONIVEL_KG': 23100, 'AREA_NAO_COMPACTADA_HA': 275, 'HORAS_MAQUINA_DISPONIVEIS': 3300, 'CAPACIDADE_SILO_TON': 1375}\n",
      "[2025-10-16 15:42:43] Dados mock gerados com sucesso. Amostra das primeiras linhas:\n",
      "[2025-10-16 15:42:43] [{\"id_talhao\":1,\"cultura\":\"Milho_Safrinha\",\"produtividade_ton_ha\":5.2898146975,\"custo_ha\":3166.429310426,\"uso_agua_m3_ha\":757.3338456894,\"demanda_k_kg_ha\":128.2676505354,\"demanda_p_kg_ha\":102.3053712049,\"horas_maquina_ha\":14.3371977926},{\"id_talhao\":2,\"cultura\":\"Soja_Resistente\",\"produtividade_ton_ha\":2.8403260554,\"custo_ha\":1734.2119190614,\"uso_agua_m3_ha\":430.0444073899,\"demanda_k_kg_ha\":70.0360831083,\"demanda_p_kg_ha\":64.7504323609,\"horas_maquina_ha\":9.693557},{\"id_talhao\":3,\"cultura\":\"Milho_Safrinha\",\"produtividade_ton_ha\":4.5891231629,\"custo_ha\":2601.484435741,\"uso_agua_m3_ha\":708.0206431971,\"demanda_k_kg_ha\":118.3480263633,\"demanda_p_kg_ha\":101.1328834408,\"horas_maquina_ha\":15.8967940331},{\"id_talhao\":4,\"cultura\":\"Milho_Safrinha\",\"produtividade_ton_ha\":4.6262106431,\"custo_ha\":2487.0991018838,\"uso_agua_m3_ha\":776.0188026112,\"demanda_k_kg_ha\":113.8337757348,\"demanda_p_kg_ha\":104.3222953372,\"horas_maquina_ha\":12.7912832419},{\"id_talhao\":5,\"cultura\":\"Soja_Resistente\",\"produtividade_ton_ha\":3.3868773905,\"custo_ha\":1974.9454120855,\"uso_agua_m3_ha\":417.3551613794,\"demanda_k_kg_ha\":77.2012691383,\"demanda_p_kg_ha\":64.1368569142,\"horas_maquina_ha\":11.2058789963}]\n",
      "[2025-10-16 15:42:43] Estatísticas resumidas:\n",
      "[2025-10-16 15:42:43] {\"id_talhao\":{\"count\":1500.0,\"mean\":750.5,\"std\":433.1570154113,\"min\":1.0,\"25%\":375.75,\"50%\":750.5,\"75%\":1125.25,\"max\":1500.0},\"produtividade_ton_ha\":{\"count\":1500.0,\"mean\":4.5853537013,\"std\":1.0406733203,\"min\":1.7595955856,\"25%\":3.7385722281,\"50%\":4.6130691172,\"75%\":5.3607676667,\"max\":7.4060640814},\"custo_ha\":{\"count\":1500.0,\"mean\":2351.4644276972,\"std\":465.4353846201,\"min\":1366.7593192211,\"25%\":1880.8905659273,\"50%\":2436.7548885404,\"75%\":2709.3148137166,\"max\":3619.0998362783},\"uso_agua_m3_ha\":{\"count\":1500.0,\"mean\":578.0000463065,\"std\":120.2683616253,\"min\":276.4285054031,\"25%\":475.7297099553,\"50%\":582.2569558677,\"75%\":666.3207263756,\"max\":937.8689122364},\"demanda_k_kg_ha\":{\"count\":1500.0,\"mean\":99.5619699325,\"std\":21.1116524273,\"min\":46.7524428009,\"25%\":83.3234960852,\"50%\":96.9238593126,\"75%\":114.9629599872,\"max\":163.3748803961},\"demanda_p_kg_ha\":{\"count\":1500.0,\"mean\":86.2645179664,\"std\":16.2456499817,\"min\":48.6853414314,\"25%\":73.4123875867,\"50%\":85.9976105503,\"75%\":98.2608900162,\"max\":142.5287801315},\"horas_maquina_ha\":{\"count\":1500.0,\"mean\":12.2118627786,\"std\":2.6835103563,\"min\":5.6501593296,\"25%\":10.1275294371,\"50%\":11.9104242286,\"75%\":14.1756398882,\"max\":20.5253690655}}\n",
      "[2025-10-16 15:42:43] Parâmetros do modelo (médias por cultura):\n",
      "[2025-10-16 15:42:43] {\"id_talhao\":{\"Milho_Safrinha\":748.4241803279,\"Soja_Produtiva\":759.4573170732,\"Soja_Resistente\":743.9730769231},\"produtividade_ton_ha\":{\"Milho_Safrinha\":5.533157211,\"Soja_Produtiva\":4.786231101,\"Soja_Resistente\":3.5058156371},\"custo_ha\":{\"Milho_Safrinha\":2789.0142778524,\"Soja_Produtiva\":2502.2177193732,\"Soja_Resistente\":1798.2049154274},\"uso_agua_m3_ha\":{\"Milho_Safrinha\":698.1021628641,\"Soja_Produtiva\":596.5656765211,\"Soja_Resistente\":447.7228867956},\"demanda_k_kg_ha\":{\"Milho_Safrinha\":121.0005674148,\"Soja_Produtiva\":98.9215618278,\"Soja_Resistente\":80.0485953483},\"demanda_p_kg_ha\":{\"Milho_Safrinha\":99.9392660123,\"Soja_Produtiva\":90.0146471493,\"Soja_Resistente\":69.8830937271},\"horas_maquina_ha\":{\"Milho_Safrinha\":14.9393585248,\"Soja_Produtiva\":11.8533116271,\"Soja_Resistente\":9.9914574755},\"lucro_ha\":{\"Milho_Safrinha\":4404.0900964721,\"Soja_Produtiva\":8027.4907027878,\"Soja_Resistente\":5914.5894862735}}\n",
      "[2025-10-16 15:42:43] Recursos carregados: {'AREA_TOTAL_DISPONIVEL_HA': 275, 'ORCAMENTO_TOTAL_DISPONIVEL': 605000, 'AGUA_TOTAL_DISPONIVEL_M3': 137500, 'POTASSIO_DISPONIVEL_KG': 24750, 'FOSFORO_DISPONIVEL_KG': 23100, 'AREA_NAO_COMPACTADA_HA': 275, 'HORAS_MAQUINA_DISPONIVEIS': 3300, 'CAPACIDADE_SILO_TON': 1375}\n",
      "[2025-10-16 15:42:43] Modelo de otimização configurado.\n",
      "[2025-10-16 15:42:43] Iniciando solução do modelo...\n",
      "Welcome to the CBC MILP Solver \n",
      "Version: 2.10.3 \n",
      "Build Date: Dec 15 2019 \n",
      "\n",
      "command line - /home/vinicius/Downloads/estudo/po/PL/PL/venv/lib/python3.12/site-packages/pulp/apis/../solverdir/cbc/linux/i64/cbc /tmp/ffadf6a1a2ad4ada920b98a0d51d020f-pulp.mps -max -timeMode elapsed -branch -printingOptions all -solution /tmp/ffadf6a1a2ad4ada920b98a0d51d020f-pulp.sol (default strategy 1)\n",
      "At line 2 NAME          MODEL\n",
      "At line 3 ROWS\n",
      "At line 17 COLUMNS\n",
      "At line 49 RHS\n",
      "At line 62 BOUNDS\n",
      "At line 63 ENDATA\n",
      "Problem MODEL has 12 rows, 3 columns and 28 elements\n",
      "Coin0008I MODEL read with 0 errors\n",
      "Option for timeMode changed from cpu to elapsed\n",
      "Presolve 7 (-5) rows, 3 (0) columns and 21 (-7) elements\n",
      "0  Obj 756779.52 Dual inf 18346.17 (3)\n",
      "3  Obj 1639859.5\n",
      "Optimal - objective value 1639859.5\n",
      "After Postsolve, objective 1639859.5, infeasibilities - dual 0 (0), primal 0 (0)\n",
      "Optimal objective 1639859.454 - 3 iterations time 0.002, Presolve 0.00\n",
      "Option for printingOptions changed from normal to all\n",
      "Total time (CPU seconds):       0.00   (Wallclock seconds):       0.00\n",
      "\n",
      "[2025-10-16 15:42:43] Status do solver (raw): 1\n",
      "[2025-10-16 15:42:43] Status da otimização: Optimal\n",
      "[2025-10-16 15:42:43] Plantio (resultado):\n",
      "[2025-10-16 15:42:43] {'Hectares_Soja_Resistente': 41.25, 'Hectares_Soja_Produtiva': 151.25697, 'Hectares_Milho_Safrinha': 41.25}\n",
      "[2025-10-16 15:42:43] Preços sombra:\n",
      "[2025-10-16 15:42:43] {'Minimo_Soja_Resistente': -110.04695, 'Minimo_Soja_Produtiva': -0.0, 'Minimo_Milho_Safrinha': -4989.6931, 'Risco_Maximo_Soja_Produtiva': -0.0, 'Restricao_Area_Total': -0.0, 'Restricao_Area_Nao_Compactada': -0.0, 'Restricao_Orcamento': -0.0, 'Restricao_Agua': 13.456173, 'Restricao_Potassio': -0.0, 'Restricao_Fosforo': -0.0, 'Restricao_Horas_Maquina': -0.0, 'Restricao_Armazenagem': -0.0}\n",
      "[2025-10-16 15:42:43] Resultados para MF=110 tamanho=pequena adicionados em resultados_propriedades_simulacao.txt\n",
      "[2025-10-16 15:42:43] Executando cenário media (MF=110): recursos={'AREA_TOTAL_DISPONIVEL_HA': 1100, 'ORCAMENTO_TOTAL_DISPONIVEL': 2420000, 'AGUA_TOTAL_DISPONIVEL_M3': 550000, 'POTASSIO_DISPONIVEL_KG': 99000, 'FOSFORO_DISPONIVEL_KG': 92400, 'AREA_NAO_COMPACTADA_HA': 1100, 'HORAS_MAQUINA_DISPONIVEIS': 13200, 'CAPACIDADE_SILO_TON': 5500}\n",
      "[2025-10-16 15:42:43] Dados mock gerados com sucesso. Amostra das primeiras linhas:\n",
      "[2025-10-16 15:42:43] [{\"id_talhao\":1,\"cultura\":\"Milho_Safrinha\",\"produtividade_ton_ha\":5.2898146975,\"custo_ha\":3166.429310426,\"uso_agua_m3_ha\":757.3338456894,\"demanda_k_kg_ha\":128.2676505354,\"demanda_p_kg_ha\":102.3053712049,\"horas_maquina_ha\":14.3371977926},{\"id_talhao\":2,\"cultura\":\"Soja_Resistente\",\"produtividade_ton_ha\":2.8403260554,\"custo_ha\":1734.2119190614,\"uso_agua_m3_ha\":430.0444073899,\"demanda_k_kg_ha\":70.0360831083,\"demanda_p_kg_ha\":64.7504323609,\"horas_maquina_ha\":9.693557},{\"id_talhao\":3,\"cultura\":\"Milho_Safrinha\",\"produtividade_ton_ha\":4.5891231629,\"custo_ha\":2601.484435741,\"uso_agua_m3_ha\":708.0206431971,\"demanda_k_kg_ha\":118.3480263633,\"demanda_p_kg_ha\":101.1328834408,\"horas_maquina_ha\":15.8967940331},{\"id_talhao\":4,\"cultura\":\"Milho_Safrinha\",\"produtividade_ton_ha\":4.6262106431,\"custo_ha\":2487.0991018838,\"uso_agua_m3_ha\":776.0188026112,\"demanda_k_kg_ha\":113.8337757348,\"demanda_p_kg_ha\":104.3222953372,\"horas_maquina_ha\":12.7912832419},{\"id_talhao\":5,\"cultura\":\"Soja_Resistente\",\"produtividade_ton_ha\":3.3868773905,\"custo_ha\":1974.9454120855,\"uso_agua_m3_ha\":417.3551613794,\"demanda_k_kg_ha\":77.2012691383,\"demanda_p_kg_ha\":64.1368569142,\"horas_maquina_ha\":11.2058789963}]\n",
      "[2025-10-16 15:42:43] Estatísticas resumidas:\n",
      "[2025-10-16 15:42:43] {\"id_talhao\":{\"count\":1500.0,\"mean\":750.5,\"std\":433.1570154113,\"min\":1.0,\"25%\":375.75,\"50%\":750.5,\"75%\":1125.25,\"max\":1500.0},\"produtividade_ton_ha\":{\"count\":1500.0,\"mean\":4.5853537013,\"std\":1.0406733203,\"min\":1.7595955856,\"25%\":3.7385722281,\"50%\":4.6130691172,\"75%\":5.3607676667,\"max\":7.4060640814},\"custo_ha\":{\"count\":1500.0,\"mean\":2351.4644276972,\"std\":465.4353846201,\"min\":1366.7593192211,\"25%\":1880.8905659273,\"50%\":2436.7548885404,\"75%\":2709.3148137166,\"max\":3619.0998362783},\"uso_agua_m3_ha\":{\"count\":1500.0,\"mean\":578.0000463065,\"std\":120.2683616253,\"min\":276.4285054031,\"25%\":475.7297099553,\"50%\":582.2569558677,\"75%\":666.3207263756,\"max\":937.8689122364},\"demanda_k_kg_ha\":{\"count\":1500.0,\"mean\":99.5619699325,\"std\":21.1116524273,\"min\":46.7524428009,\"25%\":83.3234960852,\"50%\":96.9238593126,\"75%\":114.9629599872,\"max\":163.3748803961},\"demanda_p_kg_ha\":{\"count\":1500.0,\"mean\":86.2645179664,\"std\":16.2456499817,\"min\":48.6853414314,\"25%\":73.4123875867,\"50%\":85.9976105503,\"75%\":98.2608900162,\"max\":142.5287801315},\"horas_maquina_ha\":{\"count\":1500.0,\"mean\":12.2118627786,\"std\":2.6835103563,\"min\":5.6501593296,\"25%\":10.1275294371,\"50%\":11.9104242286,\"75%\":14.1756398882,\"max\":20.5253690655}}\n",
      "[2025-10-16 15:42:43] Parâmetros do modelo (médias por cultura):\n",
      "[2025-10-16 15:42:43] {\"id_talhao\":{\"Milho_Safrinha\":748.4241803279,\"Soja_Produtiva\":759.4573170732,\"Soja_Resistente\":743.9730769231},\"produtividade_ton_ha\":{\"Milho_Safrinha\":5.533157211,\"Soja_Produtiva\":4.786231101,\"Soja_Resistente\":3.5058156371},\"custo_ha\":{\"Milho_Safrinha\":2789.0142778524,\"Soja_Produtiva\":2502.2177193732,\"Soja_Resistente\":1798.2049154274},\"uso_agua_m3_ha\":{\"Milho_Safrinha\":698.1021628641,\"Soja_Produtiva\":596.5656765211,\"Soja_Resistente\":447.7228867956},\"demanda_k_kg_ha\":{\"Milho_Safrinha\":121.0005674148,\"Soja_Produtiva\":98.9215618278,\"Soja_Resistente\":80.0485953483},\"demanda_p_kg_ha\":{\"Milho_Safrinha\":99.9392660123,\"Soja_Produtiva\":90.0146471493,\"Soja_Resistente\":69.8830937271},\"horas_maquina_ha\":{\"Milho_Safrinha\":14.9393585248,\"Soja_Produtiva\":11.8533116271,\"Soja_Resistente\":9.9914574755},\"lucro_ha\":{\"Milho_Safrinha\":4404.0900964721,\"Soja_Produtiva\":8027.4907027878,\"Soja_Resistente\":5914.5894862735}}\n",
      "[2025-10-16 15:42:43] Recursos carregados: {'AREA_TOTAL_DISPONIVEL_HA': 1100, 'ORCAMENTO_TOTAL_DISPONIVEL': 2420000, 'AGUA_TOTAL_DISPONIVEL_M3': 550000, 'POTASSIO_DISPONIVEL_KG': 99000, 'FOSFORO_DISPONIVEL_KG': 92400, 'AREA_NAO_COMPACTADA_HA': 1100, 'HORAS_MAQUINA_DISPONIVEIS': 13200, 'CAPACIDADE_SILO_TON': 5500}\n",
      "[2025-10-16 15:42:43] Modelo de otimização configurado.\n",
      "[2025-10-16 15:42:43] Iniciando solução do modelo...\n",
      "Welcome to the CBC MILP Solver \n",
      "Version: 2.10.3 \n",
      "Build Date: Dec 15 2019 \n",
      "\n",
      "command line - /home/vinicius/Downloads/estudo/po/PL/PL/venv/lib/python3.12/site-packages/pulp/apis/../solverdir/cbc/linux/i64/cbc /tmp/38f1ffec41a9483ab29ebd58ae777458-pulp.mps -max -timeMode elapsed -branch -printingOptions all -solution /tmp/38f1ffec41a9483ab29ebd58ae777458-pulp.sol (default strategy 1)\n",
      "At line 2 NAME          MODEL\n",
      "At line 3 ROWS\n",
      "At line 17 COLUMNS\n",
      "At line 49 RHS\n",
      "At line 62 BOUNDS\n",
      "At line 63 ENDATA\n",
      "Problem MODEL has 12 rows, 3 columns and 28 elements\n",
      "Coin0008I MODEL read with 0 errors\n",
      "Option for timeMode changed from cpu to elapsed\n",
      "Presolve 7 (-5) rows, 3 (0) columns and 21 (-7) elements\n",
      "0  Obj 3027118.1 Dual inf 18346.17 (3)\n",
      "3  Obj 6559437.8\n",
      "Optimal - objective value 6559437.8\n",
      "After Postsolve, objective 6559437.8, infeasibilities - dual 0 (0), primal 0 (0)\n",
      "Optimal objective 6559437.816 - 3 iterations time 0.002, Presolve 0.00\n",
      "Option for printingOptions changed from normal to all\n",
      "Total time (CPU seconds):       0.00   (Wallclock seconds):       0.00\n",
      "\n",
      "[2025-10-16 15:42:43] Status do solver (raw): 1\n",
      "[2025-10-16 15:42:43] Status da otimização: Optimal\n",
      "[2025-10-16 15:42:43] Plantio (resultado):\n",
      "[2025-10-16 15:42:43] {'Hectares_Soja_Resistente': 165.0, 'Hectares_Soja_Produtiva': 605.02788, 'Hectares_Milho_Safrinha': 165.0}\n",
      "[2025-10-16 15:42:43] Preços sombra:\n",
      "[2025-10-16 15:42:43] {'Minimo_Soja_Resistente': -110.04695, 'Minimo_Soja_Produtiva': -0.0, 'Minimo_Milho_Safrinha': -4989.6931, 'Risco_Maximo_Soja_Produtiva': -0.0, 'Restricao_Area_Total': -0.0, 'Restricao_Area_Nao_Compactada': -0.0, 'Restricao_Orcamento': -0.0, 'Restricao_Agua': 13.456173, 'Restricao_Potassio': -0.0, 'Restricao_Fosforo': -0.0, 'Restricao_Horas_Maquina': -0.0, 'Restricao_Armazenagem': -0.0}\n",
      "[2025-10-16 15:42:43] Resultados para MF=110 tamanho=media adicionados em resultados_propriedades_simulacao.txt\n",
      "[2025-10-16 15:42:43] Executando cenário grande (MF=110): recursos={'AREA_TOTAL_DISPONIVEL_HA': 9680, 'ORCAMENTO_TOTAL_DISPONIVEL': 21296000, 'AGUA_TOTAL_DISPONIVEL_M3': 4840000, 'POTASSIO_DISPONIVEL_KG': 871200, 'FOSFORO_DISPONIVEL_KG': 813120, 'AREA_NAO_COMPACTADA_HA': 9680, 'HORAS_MAQUINA_DISPONIVEIS': 116160, 'CAPACIDADE_SILO_TON': 48400}\n",
      "[2025-10-16 15:42:43] Dados mock gerados com sucesso. Amostra das primeiras linhas:\n",
      "[2025-10-16 15:42:43] [{\"id_talhao\":1,\"cultura\":\"Milho_Safrinha\",\"produtividade_ton_ha\":5.2898146975,\"custo_ha\":3166.429310426,\"uso_agua_m3_ha\":757.3338456894,\"demanda_k_kg_ha\":128.2676505354,\"demanda_p_kg_ha\":102.3053712049,\"horas_maquina_ha\":14.3371977926},{\"id_talhao\":2,\"cultura\":\"Soja_Resistente\",\"produtividade_ton_ha\":2.8403260554,\"custo_ha\":1734.2119190614,\"uso_agua_m3_ha\":430.0444073899,\"demanda_k_kg_ha\":70.0360831083,\"demanda_p_kg_ha\":64.7504323609,\"horas_maquina_ha\":9.693557},{\"id_talhao\":3,\"cultura\":\"Milho_Safrinha\",\"produtividade_ton_ha\":4.5891231629,\"custo_ha\":2601.484435741,\"uso_agua_m3_ha\":708.0206431971,\"demanda_k_kg_ha\":118.3480263633,\"demanda_p_kg_ha\":101.1328834408,\"horas_maquina_ha\":15.8967940331},{\"id_talhao\":4,\"cultura\":\"Milho_Safrinha\",\"produtividade_ton_ha\":4.6262106431,\"custo_ha\":2487.0991018838,\"uso_agua_m3_ha\":776.0188026112,\"demanda_k_kg_ha\":113.8337757348,\"demanda_p_kg_ha\":104.3222953372,\"horas_maquina_ha\":12.7912832419},{\"id_talhao\":5,\"cultura\":\"Soja_Resistente\",\"produtividade_ton_ha\":3.3868773905,\"custo_ha\":1974.9454120855,\"uso_agua_m3_ha\":417.3551613794,\"demanda_k_kg_ha\":77.2012691383,\"demanda_p_kg_ha\":64.1368569142,\"horas_maquina_ha\":11.2058789963}]\n",
      "[2025-10-16 15:42:43] Estatísticas resumidas:\n",
      "[2025-10-16 15:42:43] {\"id_talhao\":{\"count\":1500.0,\"mean\":750.5,\"std\":433.1570154113,\"min\":1.0,\"25%\":375.75,\"50%\":750.5,\"75%\":1125.25,\"max\":1500.0},\"produtividade_ton_ha\":{\"count\":1500.0,\"mean\":4.5853537013,\"std\":1.0406733203,\"min\":1.7595955856,\"25%\":3.7385722281,\"50%\":4.6130691172,\"75%\":5.3607676667,\"max\":7.4060640814},\"custo_ha\":{\"count\":1500.0,\"mean\":2351.4644276972,\"std\":465.4353846201,\"min\":1366.7593192211,\"25%\":1880.8905659273,\"50%\":2436.7548885404,\"75%\":2709.3148137166,\"max\":3619.0998362783},\"uso_agua_m3_ha\":{\"count\":1500.0,\"mean\":578.0000463065,\"std\":120.2683616253,\"min\":276.4285054031,\"25%\":475.7297099553,\"50%\":582.2569558677,\"75%\":666.3207263756,\"max\":937.8689122364},\"demanda_k_kg_ha\":{\"count\":1500.0,\"mean\":99.5619699325,\"std\":21.1116524273,\"min\":46.7524428009,\"25%\":83.3234960852,\"50%\":96.9238593126,\"75%\":114.9629599872,\"max\":163.3748803961},\"demanda_p_kg_ha\":{\"count\":1500.0,\"mean\":86.2645179664,\"std\":16.2456499817,\"min\":48.6853414314,\"25%\":73.4123875867,\"50%\":85.9976105503,\"75%\":98.2608900162,\"max\":142.5287801315},\"horas_maquina_ha\":{\"count\":1500.0,\"mean\":12.2118627786,\"std\":2.6835103563,\"min\":5.6501593296,\"25%\":10.1275294371,\"50%\":11.9104242286,\"75%\":14.1756398882,\"max\":20.5253690655}}\n",
      "[2025-10-16 15:42:43] Parâmetros do modelo (médias por cultura):\n",
      "[2025-10-16 15:42:43] {\"id_talhao\":{\"Milho_Safrinha\":748.4241803279,\"Soja_Produtiva\":759.4573170732,\"Soja_Resistente\":743.9730769231},\"produtividade_ton_ha\":{\"Milho_Safrinha\":5.533157211,\"Soja_Produtiva\":4.786231101,\"Soja_Resistente\":3.5058156371},\"custo_ha\":{\"Milho_Safrinha\":2789.0142778524,\"Soja_Produtiva\":2502.2177193732,\"Soja_Resistente\":1798.2049154274},\"uso_agua_m3_ha\":{\"Milho_Safrinha\":698.1021628641,\"Soja_Produtiva\":596.5656765211,\"Soja_Resistente\":447.7228867956},\"demanda_k_kg_ha\":{\"Milho_Safrinha\":121.0005674148,\"Soja_Produtiva\":98.9215618278,\"Soja_Resistente\":80.0485953483},\"demanda_p_kg_ha\":{\"Milho_Safrinha\":99.9392660123,\"Soja_Produtiva\":90.0146471493,\"Soja_Resistente\":69.8830937271},\"horas_maquina_ha\":{\"Milho_Safrinha\":14.9393585248,\"Soja_Produtiva\":11.8533116271,\"Soja_Resistente\":9.9914574755},\"lucro_ha\":{\"Milho_Safrinha\":4404.0900964721,\"Soja_Produtiva\":8027.4907027878,\"Soja_Resistente\":5914.5894862735}}\n",
      "[2025-10-16 15:42:43] Recursos carregados: {'AREA_TOTAL_DISPONIVEL_HA': 9680, 'ORCAMENTO_TOTAL_DISPONIVEL': 21296000, 'AGUA_TOTAL_DISPONIVEL_M3': 4840000, 'POTASSIO_DISPONIVEL_KG': 871200, 'FOSFORO_DISPONIVEL_KG': 813120, 'AREA_NAO_COMPACTADA_HA': 9680, 'HORAS_MAQUINA_DISPONIVEIS': 116160, 'CAPACIDADE_SILO_TON': 48400}\n",
      "[2025-10-16 15:42:43] Modelo de otimização configurado.\n",
      "[2025-10-16 15:42:43] Iniciando solução do modelo...\n",
      "Welcome to the CBC MILP Solver \n",
      "Version: 2.10.3 \n",
      "Build Date: Dec 15 2019 \n",
      "\n",
      "command line - /home/vinicius/Downloads/estudo/po/PL/PL/venv/lib/python3.12/site-packages/pulp/apis/../solverdir/cbc/linux/i64/cbc /tmp/9550a107c4474d2c9d162c9fbda8abf6-pulp.mps -max -timeMode elapsed -branch -printingOptions all -solution /tmp/9550a107c4474d2c9d162c9fbda8abf6-pulp.sol (default strategy 1)\n",
      "At line 2 NAME          MODEL\n",
      "At line 3 ROWS\n",
      "At line 17 COLUMNS\n",
      "At line 49 RHS\n",
      "At line 62 BOUNDS\n",
      "At line 63 ENDATA\n",
      "Problem MODEL has 12 rows, 3 columns and 28 elements\n",
      "Coin0008I MODEL read with 0 errors\n",
      "Option for timeMode changed from cpu to elapsed\n",
      "Presolve 7 (-5) rows, 3 (0) columns and 21 (-7) elements\n",
      "0  Obj 26638639 Dual inf 18346.17 (3)\n",
      "3  Obj 57723053\n",
      "Optimal - objective value 57723053\n",
      "After Postsolve, objective 57723053, infeasibilities - dual 0 (0), primal 0 (0)\n",
      "Optimal objective 57723052.78 - 3 iterations time 0.002, Presolve 0.00\n",
      "Option for printingOptions changed from normal to all\n",
      "Total time (CPU seconds):       0.00   (Wallclock seconds):       0.00\n",
      "\n",
      "[2025-10-16 15:42:43] Status do solver (raw): 1\n",
      "[2025-10-16 15:42:43] Status da otimização: Optimal\n",
      "[2025-10-16 15:42:43] Plantio (resultado):\n",
      "[2025-10-16 15:42:43] {'Hectares_Soja_Resistente': 1452.0, 'Hectares_Soja_Produtiva': 5324.2453, 'Hectares_Milho_Safrinha': 1452.0}\n",
      "[2025-10-16 15:42:43] Preços sombra:\n",
      "[2025-10-16 15:42:43] {'Minimo_Soja_Resistente': -110.04695, 'Minimo_Soja_Produtiva': -0.0, 'Minimo_Milho_Safrinha': -4989.6931, 'Risco_Maximo_Soja_Produtiva': -0.0, 'Restricao_Area_Total': -0.0, 'Restricao_Area_Nao_Compactada': -0.0, 'Restricao_Orcamento': -0.0, 'Restricao_Agua': 13.456173, 'Restricao_Potassio': -0.0, 'Restricao_Fosforo': -0.0, 'Restricao_Horas_Maquina': -0.0, 'Restricao_Armazenagem': -0.0}\n",
      "[2025-10-16 15:42:43] Resultados para MF=110 tamanho=grande adicionados em resultados_propriedades_simulacao.txt\n",
      "[2025-10-16 15:42:43] Simulações de propriedades concluídas. Resumo:\n",
      "[2025-10-16 15:42:43] {5: {'pequena': {'status': 'Optimal', 'lucro': 71557.50385001318, 'plantio': {'Hectares_Soja_Resistente': 1.8, 'Hectares_Soja_Produtiva': 6.6003042, 'Hectares_Milho_Safrinha': 1.8}, 'shadow_prices': {'Minimo_Soja_Resistente': -110.04695, 'Minimo_Soja_Produtiva': -0.0, 'Minimo_Milho_Safrinha': -4989.6931, 'Risco_Maximo_Soja_Produtiva': -0.0, 'Restricao_Area_Total': -0.0, 'Restricao_Area_Nao_Compactada': -0.0, 'Restricao_Orcamento': -0.0, 'Restricao_Agua': 13.456173, 'Restricao_Potassio': -0.0, 'Restricao_Fosforo': -0.0, 'Restricao_Horas_Maquina': -0.0, 'Restricao_Armazenagem': -0.0}}, 'media': {'status': 'Optimal', 'lucro': 298156.26202797616, 'plantio': {'Hectares_Soja_Resistente': 7.5, 'Hectares_Soja_Produtiva': 27.501267, 'Hectares_Milho_Safrinha': 7.5}, 'shadow_prices': {'Minimo_Soja_Resistente': -110.04695, 'Minimo_Soja_Produtiva': -0.0, 'Minimo_Milho_Safrinha': -4989.6931, 'Risco_Maximo_Soja_Produtiva': -0.0, 'Restricao_Area_Total': -0.0, 'Restricao_Area_Nao_Compactada': -0.0, 'Restricao_Orcamento': -0.0, 'Restricao_Agua': 13.456173, 'Restricao_Potassio': -0.0, 'Restricao_Fosforo': -0.0, 'Restricao_Horas_Maquina': -0.0, 'Restricao_Armazenagem': -0.0}}, 'grande': {'status': 'Optimal', 'lucro': 2623775.1090571866, 'plantio': {'Hectares_Soja_Resistente': 66.0, 'Hectares_Soja_Produtiva': 242.01115, 'Hectares_Milho_Safrinha': 66.0}, 'shadow_prices': {'Minimo_Soja_Resistente': -110.04695, 'Minimo_Soja_Produtiva': -0.0, 'Minimo_Milho_Safrinha': -4989.6931, 'Risco_Maximo_Soja_Produtiva': -0.0, 'Restricao_Area_Total': -0.0, 'Restricao_Area_Nao_Compactada': -0.0, 'Restricao_Orcamento': -0.0, 'Restricao_Agua': 13.456173, 'Restricao_Potassio': -0.0, 'Restricao_Fosforo': -0.0, 'Restricao_Horas_Maquina': -0.0, 'Restricao_Armazenagem': -0.0}}}, 110: {'pequena': {'status': 'Optimal', 'lucro': 1639859.453195105, 'plantio': {'Hectares_Soja_Resistente': 41.25, 'Hectares_Soja_Produtiva': 151.25697, 'Hectares_Milho_Safrinha': 41.25}, 'shadow_prices': {'Minimo_Soja_Resistente': -110.04695, 'Minimo_Soja_Produtiva': -0.0, 'Minimo_Milho_Safrinha': -4989.6931, 'Risco_Maximo_Soja_Produtiva': -0.0, 'Restricao_Area_Total': -0.0, 'Restricao_Area_Nao_Compactada': -0.0, 'Restricao_Orcamento': -0.0, 'Restricao_Agua': 13.456173, 'Restricao_Potassio': -0.0, 'Restricao_Fosforo': -0.0, 'Restricao_Horas_Maquina': -0.0, 'Restricao_Armazenagem': -0.0}}, 'media': {'status': 'Optimal', 'lucro': 6559437.81278042, 'plantio': {'Hectares_Soja_Resistente': 165.0, 'Hectares_Soja_Produtiva': 605.02788, 'Hectares_Milho_Safrinha': 165.0}, 'shadow_prices': {'Minimo_Soja_Resistente': -110.04695, 'Minimo_Soja_Produtiva': -0.0, 'Minimo_Milho_Safrinha': -4989.6931, 'Risco_Maximo_Soja_Produtiva': -0.0, 'Restricao_Area_Total': -0.0, 'Restricao_Area_Nao_Compactada': -0.0, 'Restricao_Orcamento': -0.0, 'Restricao_Agua': 13.456173, 'Restricao_Potassio': -0.0, 'Restricao_Fosforo': -0.0, 'Restricao_Horas_Maquina': -0.0, 'Restricao_Armazenagem': -0.0}}, 'grande': {'status': 'Optimal', 'lucro': 57723052.39925811, 'plantio': {'Hectares_Soja_Resistente': 1452.0, 'Hectares_Soja_Produtiva': 5324.2453, 'Hectares_Milho_Safrinha': 1452.0}, 'shadow_prices': {'Minimo_Soja_Resistente': -110.04695, 'Minimo_Soja_Produtiva': -0.0, 'Minimo_Milho_Safrinha': -4989.6931, 'Risco_Maximo_Soja_Produtiva': -0.0, 'Restricao_Area_Total': -0.0, 'Restricao_Area_Nao_Compactada': -0.0, 'Restricao_Orcamento': -0.0, 'Restricao_Agua': 13.456173, 'Restricao_Potassio': -0.0, 'Restricao_Fosforo': -0.0, 'Restricao_Horas_Maquina': -0.0, 'Restricao_Armazenagem': -0.0}}}}\n",
      "[2025-10-16 15:42:43] Resumo consolidado exportado para resumo_simulacoes_propriedades.json\n"
     ]
    }
   ],
   "source": [
    "# 8. Simular cenários para propriedades pequenas, médias e grandes com base em Módulos Fiscais (MF)\n",
    "# Vamos considerar MF = 5 ha e MF = 110 ha e criar intervalos para pequena/média/grande\n",
    "from copy import deepcopy\n",
    "\n",
    "# Definir área base usada originalmente (para escalonamento proporcional)\n",
    "AREA_BASE_HA = 500\n",
    "\n",
    "def generate_property_configs(mf_hectares):\n",
    "    # Retorna 3 configurações (pequena, media, grande) baseadas em MF\n",
    "    configs = {}\n",
    "    # Pequena: 1 a 4 MF -> usar 1 MF como mínimo e 4 como máximo\n",
    "    peque_min = 1 * mf_hectares\n",
    "    peque_max = 4 * mf_hectares\n",
    "    # Média: >4 até 15 MF\n",
    "    media_min = (4 + 1) * mf_hectares\n",
    "    media_max = 15 * mf_hectares\n",
    "    # Grande: >15 MF -> usar 16 como mínimo\n",
    "    grande_min = 16 * mf_hectares\n",
    "    # Para máximo vamos definir como grande_min * 10 (valor arbitrário para simulação)\n",
    "    grande_max = grande_min * 10\n",
    "\n",
    "    def scale_resources(area_ha):\n",
    "        # escala todos os recursos proporcionalmente à área em relação a AREA_BASE_HA\n",
    "        factor = area_ha / AREA_BASE_HA\n",
    "        return {\n",
    "            'AREA_TOTAL_DISPONIVEL_HA': int(area_ha),\n",
    "            'ORCAMENTO_TOTAL_DISPONIVEL': int(1100000 * factor),\n",
    "            'AGUA_TOTAL_DISPONIVEL_M3': int(250000 * factor),\n",
    "            'POTASSIO_DISPONIVEL_KG': int(45000 * factor),\n",
    "            'FOSFORO_DISPONIVEL_KG': int(42000 * factor),\n",
    "            'AREA_NAO_COMPACTADA_HA': int(area_ha),\n",
    "            'HORAS_MAQUINA_DISPONIVEIS': int(6000 * factor),\n",
    "            'CAPACIDADE_SILO_TON': int(2500 * factor),\n",
    "        }\n",
    "\n",
    "    # Pequena: usar média do intervalo pequena\n",
    "    peque_area = int((peque_min + peque_max) / 2)\n",
    "    configs['pequena'] = scale_resources(peque_area)\n",
    "\n",
    "    # Média: média do intervalo média\n",
    "    media_area = int((media_min + media_max) / 2)\n",
    "    configs['media'] = scale_resources(media_area)\n",
    "\n",
    "    # Grande: média entre grande_min e grande_max\n",
    "    grande_area = int((grande_min + grande_max) / 2)\n",
    "    configs['grande'] = scale_resources(grande_area)\n",
    "\n",
    "    return configs\n",
    "\n",
    "\n",
    "def run_property_simulations(mf_values=(5,110), output_file='resultados_propriedades_simulacao.txt'):\n",
    "    all_results = {}\n",
    "    # abrir arquivo único para escrita (append para não sobrescrever se re-executar)\n",
    "    with open(output_file, 'a', encoding='utf-8') as fout:\n",
    "        from datetime import datetime\n",
    "        fout.write('\\n' + '='*80 + '\\n')\n",
    "        fout.write(f\"Simulações iniciadas em {datetime.now().isoformat(sep=' ', timespec='seconds')}\\n\")\n",
    "        fout.write('='*80 + '\\n')\n",
    "\n",
    "        for mf in mf_values:\n",
    "            fout.write(f\"\\n--- MF = {mf} ha ---\\n\")\n",
    "            print_and_log(f'---- Simulações para MF = {mf} ha ----')\n",
    "            configs = generate_property_configs(mf)\n",
    "            all_results[mf] = {}\n",
    "            for tamanho, resources in configs.items():\n",
    "                fout.write(f\"\\n-- {tamanho.upper()} --\\n\")\n",
    "                fout.write(f\"Recursos: {resources}\\n\")\n",
    "                # Construir um DictConfig-like mínimo esperado por run_optimization\n",
    "                cfg = DictConfig({'params': {'n_dados': 1500, 'seed': 42, 'preco_soja': 2200, 'preco_milho': 1300}, 'resources': resources})\n",
    "                print_and_log(f'Executando cenário {tamanho} (MF={mf}): recursos={resources}')\n",
    "                try:\n",
    "                    res = run_optimization(cfg)\n",
    "                except Exception as e:\n",
    "                    print_and_log(f'Erro ao executar otimização para MF={mf} tamanho={tamanho}: {e}')\n",
    "                    res = {'status': 'Error', 'error': str(e)}\n",
    "                all_results[mf][tamanho] = res\n",
    "                # Escrever resultado no arquivo único\n",
    "                fout.write(\"Resultado:\\n\")\n",
    "                fout.write(str(res) + '\\n')\n",
    "                fout.write('-'*40 + '\\n')\n",
    "                print_and_log(f'Resultados para MF={mf} tamanho={tamanho} adicionados em {output_file}')\n",
    "\n",
    "        fout.write('\\nSimulações finalizadas.\\n')\n",
    "        fout.write('='*80 + '\\n')\n",
    "    return all_results\n",
    "\n",
    "# Executar simulações e gravar em um único arquivo\n",
    "sim_results = run_property_simulations((5,110))\n",
    "print_and_log('Simulações de propriedades concluídas. Resumo:')\n",
    "print_and_log(str(sim_results))\n",
    "\n",
    "# Exportar um resumo consolidado (JSON) também\n",
    "import json\n",
    "with open('resumo_simulacoes_propriedades.json', 'w', encoding='utf-8') as f:\n",
    "    json.dump(sim_results, f, indent=2, ensure_ascii=False)\n",
    "print_and_log('Resumo consolidado exportado para resumo_simulacoes_propriedades.json')\n"
   ]
  }
 ],
 "metadata": {
  "kernelspec": {
   "display_name": "venv (3.12.3)",
   "language": "python",
   "name": "python3"
  },
  "language_info": {
   "codemirror_mode": {
    "name": "ipython",
    "version": 3
   },
   "file_extension": ".py",
   "mimetype": "text/x-python",
   "name": "python",
   "nbconvert_exporter": "python",
   "pygments_lexer": "ipython3",
   "version": "3.12.3"
  }
 },
 "nbformat": 4,
 "nbformat_minor": 5
}
